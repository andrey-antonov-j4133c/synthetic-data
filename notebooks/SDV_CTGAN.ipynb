{
 "cells": [
  {
   "cell_type": "code",
   "execution_count": 16,
   "metadata": {
    "collapsed": true
   },
   "outputs": [],
   "source": [
    "import pandas as pd\n",
    "from ctgan import CTGANSynthesizer"
   ]
  },
  {
   "cell_type": "code",
   "execution_count": 17,
   "outputs": [
    {
     "data": {
      "text/plain": "   num_0      cat_1   num_2         cat_3  num_4               cat_5  \\\n0     25    Private  226802          11th      7       Never-married   \n1     38    Private   89814       HS-grad      9  Married-civ-spouse   \n2     28  Local-gov  336951    Assoc-acdm     12  Married-civ-spouse   \n3     44    Private  160323  Some-college     10  Married-civ-spouse   \n4     18          ?  103497  Some-college     10       Never-married   \n\n               cat_6      cat_7  cat_8   cat_9  num_10  num_11  num_12  \\\n0  Machine-op-inspct  Own-child  Black    Male       0       0      40   \n1    Farming-fishing    Husband  White    Male       0       0      50   \n2    Protective-serv    Husband  White    Male       0       0      40   \n3  Machine-op-inspct    Husband  Black    Male    7688       0      40   \n4                  ?  Own-child  White  Female       0       0      30   \n\n          cat_13  target  \n0  United-States   False  \n1  United-States   False  \n2  United-States    True  \n3  United-States    True  \n4  United-States   False  ",
      "text/html": "<div>\n<style scoped>\n    .dataframe tbody tr th:only-of-type {\n        vertical-align: middle;\n    }\n\n    .dataframe tbody tr th {\n        vertical-align: top;\n    }\n\n    .dataframe thead th {\n        text-align: right;\n    }\n</style>\n<table border=\"1\" class=\"dataframe\">\n  <thead>\n    <tr style=\"text-align: right;\">\n      <th></th>\n      <th>num_0</th>\n      <th>cat_1</th>\n      <th>num_2</th>\n      <th>cat_3</th>\n      <th>num_4</th>\n      <th>cat_5</th>\n      <th>cat_6</th>\n      <th>cat_7</th>\n      <th>cat_8</th>\n      <th>cat_9</th>\n      <th>num_10</th>\n      <th>num_11</th>\n      <th>num_12</th>\n      <th>cat_13</th>\n      <th>target</th>\n    </tr>\n  </thead>\n  <tbody>\n    <tr>\n      <th>0</th>\n      <td>25</td>\n      <td>Private</td>\n      <td>226802</td>\n      <td>11th</td>\n      <td>7</td>\n      <td>Never-married</td>\n      <td>Machine-op-inspct</td>\n      <td>Own-child</td>\n      <td>Black</td>\n      <td>Male</td>\n      <td>0</td>\n      <td>0</td>\n      <td>40</td>\n      <td>United-States</td>\n      <td>False</td>\n    </tr>\n    <tr>\n      <th>1</th>\n      <td>38</td>\n      <td>Private</td>\n      <td>89814</td>\n      <td>HS-grad</td>\n      <td>9</td>\n      <td>Married-civ-spouse</td>\n      <td>Farming-fishing</td>\n      <td>Husband</td>\n      <td>White</td>\n      <td>Male</td>\n      <td>0</td>\n      <td>0</td>\n      <td>50</td>\n      <td>United-States</td>\n      <td>False</td>\n    </tr>\n    <tr>\n      <th>2</th>\n      <td>28</td>\n      <td>Local-gov</td>\n      <td>336951</td>\n      <td>Assoc-acdm</td>\n      <td>12</td>\n      <td>Married-civ-spouse</td>\n      <td>Protective-serv</td>\n      <td>Husband</td>\n      <td>White</td>\n      <td>Male</td>\n      <td>0</td>\n      <td>0</td>\n      <td>40</td>\n      <td>United-States</td>\n      <td>True</td>\n    </tr>\n    <tr>\n      <th>3</th>\n      <td>44</td>\n      <td>Private</td>\n      <td>160323</td>\n      <td>Some-college</td>\n      <td>10</td>\n      <td>Married-civ-spouse</td>\n      <td>Machine-op-inspct</td>\n      <td>Husband</td>\n      <td>Black</td>\n      <td>Male</td>\n      <td>7688</td>\n      <td>0</td>\n      <td>40</td>\n      <td>United-States</td>\n      <td>True</td>\n    </tr>\n    <tr>\n      <th>4</th>\n      <td>18</td>\n      <td>?</td>\n      <td>103497</td>\n      <td>Some-college</td>\n      <td>10</td>\n      <td>Never-married</td>\n      <td>?</td>\n      <td>Own-child</td>\n      <td>White</td>\n      <td>Female</td>\n      <td>0</td>\n      <td>0</td>\n      <td>30</td>\n      <td>United-States</td>\n      <td>False</td>\n    </tr>\n  </tbody>\n</table>\n</div>"
     },
     "execution_count": 17,
     "metadata": {},
     "output_type": "execute_result"
    }
   ],
   "source": [
    "# Real-world data experiment\n",
    "dataset_pth = f\"../data/adult/adult.gz\"\n",
    "\n",
    "data = pd.read_csv(dataset_pth)\n",
    "data.fillna(data.mean(), inplace=True)\n",
    "data.head()"
   ],
   "metadata": {
    "collapsed": false,
    "pycharm": {
     "name": "#%%\n"
    }
   }
  },
  {
   "cell_type": "code",
   "execution_count": 18,
   "outputs": [],
   "source": [
    "cat_cols = [col for col in data.columns if col.startswith(\"cat\")]\n",
    "cat_cols.append(\"target\")"
   ],
   "metadata": {
    "collapsed": false,
    "pycharm": {
     "name": "#%%\n"
    }
   }
  },
  {
   "cell_type": "code",
   "execution_count": 19,
   "outputs": [
    {
     "data": {
      "text/plain": "       num_0         cat_1   num_2         cat_3  num_4               cat_5  \\\n0         25       Private  226802          11th      7       Never-married   \n1         38       Private   89814       HS-grad      9  Married-civ-spouse   \n2         28     Local-gov  336951    Assoc-acdm     12  Married-civ-spouse   \n3         44       Private  160323  Some-college     10  Married-civ-spouse   \n4         18             ?  103497  Some-college     10       Never-married   \n...      ...           ...     ...           ...    ...                 ...   \n48837     27       Private  257302    Assoc-acdm     12  Married-civ-spouse   \n48838     40       Private  154374       HS-grad      9  Married-civ-spouse   \n48839     58       Private  151910       HS-grad      9             Widowed   \n48840     22       Private  201490       HS-grad      9       Never-married   \n48841     52  Self-emp-inc  287927       HS-grad      9  Married-civ-spouse   \n\n                   cat_6      cat_7  cat_8   cat_9  num_10  num_11  num_12  \\\n0      Machine-op-inspct  Own-child  Black    Male       0       0      40   \n1        Farming-fishing    Husband  White    Male       0       0      50   \n2        Protective-serv    Husband  White    Male       0       0      40   \n3      Machine-op-inspct    Husband  Black    Male    7688       0      40   \n4                      ?  Own-child  White  Female       0       0      30   \n...                  ...        ...    ...     ...     ...     ...     ...   \n48837       Tech-support       Wife  White  Female       0       0      38   \n48838  Machine-op-inspct    Husband  White    Male       0       0      40   \n48839       Adm-clerical  Unmarried  White  Female       0       0      40   \n48840       Adm-clerical  Own-child  White    Male       0       0      20   \n48841    Exec-managerial       Wife  White  Female   15024       0      40   \n\n              cat_13  target  \n0      United-States   False  \n1      United-States   False  \n2      United-States    True  \n3      United-States    True  \n4      United-States   False  \n...              ...     ...  \n48837  United-States   False  \n48838  United-States    True  \n48839  United-States   False  \n48840  United-States   False  \n48841  United-States    True  \n\n[48842 rows x 15 columns]",
      "text/html": "<div>\n<style scoped>\n    .dataframe tbody tr th:only-of-type {\n        vertical-align: middle;\n    }\n\n    .dataframe tbody tr th {\n        vertical-align: top;\n    }\n\n    .dataframe thead th {\n        text-align: right;\n    }\n</style>\n<table border=\"1\" class=\"dataframe\">\n  <thead>\n    <tr style=\"text-align: right;\">\n      <th></th>\n      <th>num_0</th>\n      <th>cat_1</th>\n      <th>num_2</th>\n      <th>cat_3</th>\n      <th>num_4</th>\n      <th>cat_5</th>\n      <th>cat_6</th>\n      <th>cat_7</th>\n      <th>cat_8</th>\n      <th>cat_9</th>\n      <th>num_10</th>\n      <th>num_11</th>\n      <th>num_12</th>\n      <th>cat_13</th>\n      <th>target</th>\n    </tr>\n  </thead>\n  <tbody>\n    <tr>\n      <th>0</th>\n      <td>25</td>\n      <td>Private</td>\n      <td>226802</td>\n      <td>11th</td>\n      <td>7</td>\n      <td>Never-married</td>\n      <td>Machine-op-inspct</td>\n      <td>Own-child</td>\n      <td>Black</td>\n      <td>Male</td>\n      <td>0</td>\n      <td>0</td>\n      <td>40</td>\n      <td>United-States</td>\n      <td>False</td>\n    </tr>\n    <tr>\n      <th>1</th>\n      <td>38</td>\n      <td>Private</td>\n      <td>89814</td>\n      <td>HS-grad</td>\n      <td>9</td>\n      <td>Married-civ-spouse</td>\n      <td>Farming-fishing</td>\n      <td>Husband</td>\n      <td>White</td>\n      <td>Male</td>\n      <td>0</td>\n      <td>0</td>\n      <td>50</td>\n      <td>United-States</td>\n      <td>False</td>\n    </tr>\n    <tr>\n      <th>2</th>\n      <td>28</td>\n      <td>Local-gov</td>\n      <td>336951</td>\n      <td>Assoc-acdm</td>\n      <td>12</td>\n      <td>Married-civ-spouse</td>\n      <td>Protective-serv</td>\n      <td>Husband</td>\n      <td>White</td>\n      <td>Male</td>\n      <td>0</td>\n      <td>0</td>\n      <td>40</td>\n      <td>United-States</td>\n      <td>True</td>\n    </tr>\n    <tr>\n      <th>3</th>\n      <td>44</td>\n      <td>Private</td>\n      <td>160323</td>\n      <td>Some-college</td>\n      <td>10</td>\n      <td>Married-civ-spouse</td>\n      <td>Machine-op-inspct</td>\n      <td>Husband</td>\n      <td>Black</td>\n      <td>Male</td>\n      <td>7688</td>\n      <td>0</td>\n      <td>40</td>\n      <td>United-States</td>\n      <td>True</td>\n    </tr>\n    <tr>\n      <th>4</th>\n      <td>18</td>\n      <td>?</td>\n      <td>103497</td>\n      <td>Some-college</td>\n      <td>10</td>\n      <td>Never-married</td>\n      <td>?</td>\n      <td>Own-child</td>\n      <td>White</td>\n      <td>Female</td>\n      <td>0</td>\n      <td>0</td>\n      <td>30</td>\n      <td>United-States</td>\n      <td>False</td>\n    </tr>\n    <tr>\n      <th>...</th>\n      <td>...</td>\n      <td>...</td>\n      <td>...</td>\n      <td>...</td>\n      <td>...</td>\n      <td>...</td>\n      <td>...</td>\n      <td>...</td>\n      <td>...</td>\n      <td>...</td>\n      <td>...</td>\n      <td>...</td>\n      <td>...</td>\n      <td>...</td>\n      <td>...</td>\n    </tr>\n    <tr>\n      <th>48837</th>\n      <td>27</td>\n      <td>Private</td>\n      <td>257302</td>\n      <td>Assoc-acdm</td>\n      <td>12</td>\n      <td>Married-civ-spouse</td>\n      <td>Tech-support</td>\n      <td>Wife</td>\n      <td>White</td>\n      <td>Female</td>\n      <td>0</td>\n      <td>0</td>\n      <td>38</td>\n      <td>United-States</td>\n      <td>False</td>\n    </tr>\n    <tr>\n      <th>48838</th>\n      <td>40</td>\n      <td>Private</td>\n      <td>154374</td>\n      <td>HS-grad</td>\n      <td>9</td>\n      <td>Married-civ-spouse</td>\n      <td>Machine-op-inspct</td>\n      <td>Husband</td>\n      <td>White</td>\n      <td>Male</td>\n      <td>0</td>\n      <td>0</td>\n      <td>40</td>\n      <td>United-States</td>\n      <td>True</td>\n    </tr>\n    <tr>\n      <th>48839</th>\n      <td>58</td>\n      <td>Private</td>\n      <td>151910</td>\n      <td>HS-grad</td>\n      <td>9</td>\n      <td>Widowed</td>\n      <td>Adm-clerical</td>\n      <td>Unmarried</td>\n      <td>White</td>\n      <td>Female</td>\n      <td>0</td>\n      <td>0</td>\n      <td>40</td>\n      <td>United-States</td>\n      <td>False</td>\n    </tr>\n    <tr>\n      <th>48840</th>\n      <td>22</td>\n      <td>Private</td>\n      <td>201490</td>\n      <td>HS-grad</td>\n      <td>9</td>\n      <td>Never-married</td>\n      <td>Adm-clerical</td>\n      <td>Own-child</td>\n      <td>White</td>\n      <td>Male</td>\n      <td>0</td>\n      <td>0</td>\n      <td>20</td>\n      <td>United-States</td>\n      <td>False</td>\n    </tr>\n    <tr>\n      <th>48841</th>\n      <td>52</td>\n      <td>Self-emp-inc</td>\n      <td>287927</td>\n      <td>HS-grad</td>\n      <td>9</td>\n      <td>Married-civ-spouse</td>\n      <td>Exec-managerial</td>\n      <td>Wife</td>\n      <td>White</td>\n      <td>Female</td>\n      <td>15024</td>\n      <td>0</td>\n      <td>40</td>\n      <td>United-States</td>\n      <td>True</td>\n    </tr>\n  </tbody>\n</table>\n<p>48842 rows × 15 columns</p>\n</div>"
     },
     "execution_count": 19,
     "metadata": {},
     "output_type": "execute_result"
    }
   ],
   "source": [
    "data"
   ],
   "metadata": {
    "collapsed": false,
    "pycharm": {
     "name": "#%%\n"
    }
   }
  },
  {
   "cell_type": "code",
   "execution_count": 22,
   "outputs": [],
   "source": [
    "%%capture --no-display\n",
    "ctgan = CTGANSynthesizer(epochs=10)\n",
    "ctgan.fit(data, cat_cols)"
   ],
   "metadata": {
    "collapsed": false,
    "pycharm": {
     "name": "#%%\n"
    }
   }
  },
  {
   "cell_type": "code",
   "execution_count": 23,
   "outputs": [],
   "source": [
    "samples = ctgan.sample(1000)"
   ],
   "metadata": {
    "collapsed": false,
    "pycharm": {
     "name": "#%%\n"
    }
   }
  },
  {
   "cell_type": "code",
   "execution_count": 24,
   "outputs": [
    {
     "data": {
      "text/plain": "     num_0             cat_1   num_2         cat_3  num_4               cat_5  \\\n0       13           Private  308290    Assoc-acdm     10  Married-civ-spouse   \n1       61           Private   71419  Some-college      9  Married-civ-spouse   \n2       18           Private  184730     Bachelors      9  Married-civ-spouse   \n3       31           Private  177735       Masters     14       Never-married   \n4       52  Self-emp-not-inc   11424       HS-grad     13  Married-civ-spouse   \n..     ...               ...     ...           ...    ...                 ...   \n995     47         Local-gov  245855     Bachelors     13  Married-civ-spouse   \n996     36  Self-emp-not-inc  166817    Assoc-acdm     16  Married-civ-spouse   \n997     18           Private  149024       HS-grad      9  Married-civ-spouse   \n998     39           Private   21408  Some-college     10            Divorced   \n999     41           Private  179720  Some-college     10  Married-civ-spouse   \n\n                cat_6           cat_7  cat_8   cat_9  num_10  num_11  num_12  \\\n0     Farming-fishing   Not-in-family  White  Female     -50      -5      40   \n1                   ?         Husband  Black    Male      39      -3      40   \n2        Tech-support         Husband  White    Male     -79      -6      47   \n3     Exec-managerial         Husband  White    Male     -78      -2      40   \n4     Exec-managerial   Not-in-family  Other    Male     -24       0      40   \n..                ...             ...    ...     ...     ...     ...     ...   \n995   Exec-managerial         Husband  Black    Male      19      -5      37   \n996      Adm-clerical  Other-relative  White    Male      93    1294      40   \n997             Sales            Wife  White    Male      67      -4      40   \n998   Exec-managerial   Not-in-family  White    Male     -66    1928      38   \n999  Transport-moving       Own-child  White    Male      34      -4      72   \n\n                 cat_13  target  \n0         United-States   False  \n1         United-States   False  \n2         United-States    True  \n3         United-States   False  \n4    Dominican-Republic   False  \n..                  ...     ...  \n995       United-States   False  \n996       United-States   False  \n997       United-States   False  \n998                   ?   False  \n999       United-States   False  \n\n[1000 rows x 15 columns]",
      "text/html": "<div>\n<style scoped>\n    .dataframe tbody tr th:only-of-type {\n        vertical-align: middle;\n    }\n\n    .dataframe tbody tr th {\n        vertical-align: top;\n    }\n\n    .dataframe thead th {\n        text-align: right;\n    }\n</style>\n<table border=\"1\" class=\"dataframe\">\n  <thead>\n    <tr style=\"text-align: right;\">\n      <th></th>\n      <th>num_0</th>\n      <th>cat_1</th>\n      <th>num_2</th>\n      <th>cat_3</th>\n      <th>num_4</th>\n      <th>cat_5</th>\n      <th>cat_6</th>\n      <th>cat_7</th>\n      <th>cat_8</th>\n      <th>cat_9</th>\n      <th>num_10</th>\n      <th>num_11</th>\n      <th>num_12</th>\n      <th>cat_13</th>\n      <th>target</th>\n    </tr>\n  </thead>\n  <tbody>\n    <tr>\n      <th>0</th>\n      <td>13</td>\n      <td>Private</td>\n      <td>308290</td>\n      <td>Assoc-acdm</td>\n      <td>10</td>\n      <td>Married-civ-spouse</td>\n      <td>Farming-fishing</td>\n      <td>Not-in-family</td>\n      <td>White</td>\n      <td>Female</td>\n      <td>-50</td>\n      <td>-5</td>\n      <td>40</td>\n      <td>United-States</td>\n      <td>False</td>\n    </tr>\n    <tr>\n      <th>1</th>\n      <td>61</td>\n      <td>Private</td>\n      <td>71419</td>\n      <td>Some-college</td>\n      <td>9</td>\n      <td>Married-civ-spouse</td>\n      <td>?</td>\n      <td>Husband</td>\n      <td>Black</td>\n      <td>Male</td>\n      <td>39</td>\n      <td>-3</td>\n      <td>40</td>\n      <td>United-States</td>\n      <td>False</td>\n    </tr>\n    <tr>\n      <th>2</th>\n      <td>18</td>\n      <td>Private</td>\n      <td>184730</td>\n      <td>Bachelors</td>\n      <td>9</td>\n      <td>Married-civ-spouse</td>\n      <td>Tech-support</td>\n      <td>Husband</td>\n      <td>White</td>\n      <td>Male</td>\n      <td>-79</td>\n      <td>-6</td>\n      <td>47</td>\n      <td>United-States</td>\n      <td>True</td>\n    </tr>\n    <tr>\n      <th>3</th>\n      <td>31</td>\n      <td>Private</td>\n      <td>177735</td>\n      <td>Masters</td>\n      <td>14</td>\n      <td>Never-married</td>\n      <td>Exec-managerial</td>\n      <td>Husband</td>\n      <td>White</td>\n      <td>Male</td>\n      <td>-78</td>\n      <td>-2</td>\n      <td>40</td>\n      <td>United-States</td>\n      <td>False</td>\n    </tr>\n    <tr>\n      <th>4</th>\n      <td>52</td>\n      <td>Self-emp-not-inc</td>\n      <td>11424</td>\n      <td>HS-grad</td>\n      <td>13</td>\n      <td>Married-civ-spouse</td>\n      <td>Exec-managerial</td>\n      <td>Not-in-family</td>\n      <td>Other</td>\n      <td>Male</td>\n      <td>-24</td>\n      <td>0</td>\n      <td>40</td>\n      <td>Dominican-Republic</td>\n      <td>False</td>\n    </tr>\n    <tr>\n      <th>...</th>\n      <td>...</td>\n      <td>...</td>\n      <td>...</td>\n      <td>...</td>\n      <td>...</td>\n      <td>...</td>\n      <td>...</td>\n      <td>...</td>\n      <td>...</td>\n      <td>...</td>\n      <td>...</td>\n      <td>...</td>\n      <td>...</td>\n      <td>...</td>\n      <td>...</td>\n    </tr>\n    <tr>\n      <th>995</th>\n      <td>47</td>\n      <td>Local-gov</td>\n      <td>245855</td>\n      <td>Bachelors</td>\n      <td>13</td>\n      <td>Married-civ-spouse</td>\n      <td>Exec-managerial</td>\n      <td>Husband</td>\n      <td>Black</td>\n      <td>Male</td>\n      <td>19</td>\n      <td>-5</td>\n      <td>37</td>\n      <td>United-States</td>\n      <td>False</td>\n    </tr>\n    <tr>\n      <th>996</th>\n      <td>36</td>\n      <td>Self-emp-not-inc</td>\n      <td>166817</td>\n      <td>Assoc-acdm</td>\n      <td>16</td>\n      <td>Married-civ-spouse</td>\n      <td>Adm-clerical</td>\n      <td>Other-relative</td>\n      <td>White</td>\n      <td>Male</td>\n      <td>93</td>\n      <td>1294</td>\n      <td>40</td>\n      <td>United-States</td>\n      <td>False</td>\n    </tr>\n    <tr>\n      <th>997</th>\n      <td>18</td>\n      <td>Private</td>\n      <td>149024</td>\n      <td>HS-grad</td>\n      <td>9</td>\n      <td>Married-civ-spouse</td>\n      <td>Sales</td>\n      <td>Wife</td>\n      <td>White</td>\n      <td>Male</td>\n      <td>67</td>\n      <td>-4</td>\n      <td>40</td>\n      <td>United-States</td>\n      <td>False</td>\n    </tr>\n    <tr>\n      <th>998</th>\n      <td>39</td>\n      <td>Private</td>\n      <td>21408</td>\n      <td>Some-college</td>\n      <td>10</td>\n      <td>Divorced</td>\n      <td>Exec-managerial</td>\n      <td>Not-in-family</td>\n      <td>White</td>\n      <td>Male</td>\n      <td>-66</td>\n      <td>1928</td>\n      <td>38</td>\n      <td>?</td>\n      <td>False</td>\n    </tr>\n    <tr>\n      <th>999</th>\n      <td>41</td>\n      <td>Private</td>\n      <td>179720</td>\n      <td>Some-college</td>\n      <td>10</td>\n      <td>Married-civ-spouse</td>\n      <td>Transport-moving</td>\n      <td>Own-child</td>\n      <td>White</td>\n      <td>Male</td>\n      <td>34</td>\n      <td>-4</td>\n      <td>72</td>\n      <td>United-States</td>\n      <td>False</td>\n    </tr>\n  </tbody>\n</table>\n<p>1000 rows × 15 columns</p>\n</div>"
     },
     "execution_count": 24,
     "metadata": {},
     "output_type": "execute_result"
    }
   ],
   "source": [
    "samples"
   ],
   "metadata": {
    "collapsed": false,
    "pycharm": {
     "name": "#%%\n"
    }
   }
  }
 ],
 "metadata": {
  "kernelspec": {
   "display_name": "Python 3",
   "language": "python",
   "name": "python3"
  },
  "language_info": {
   "codemirror_mode": {
    "name": "ipython",
    "version": 2
   },
   "file_extension": ".py",
   "mimetype": "text/x-python",
   "name": "python",
   "nbconvert_exporter": "python",
   "pygments_lexer": "ipython2",
   "version": "2.7.6"
  }
 },
 "nbformat": 4,
 "nbformat_minor": 0
}