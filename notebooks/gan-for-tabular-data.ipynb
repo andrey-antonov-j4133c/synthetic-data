{
 "cells": [
  {
   "cell_type": "code",
   "execution_count": 1,
   "metadata": {
    "collapsed": true
   },
   "outputs": [],
   "source": [
    "import os\n",
    "\n",
    "from tabgan.sampler import OriginalGenerator, GANGenerator\n",
    "import pandas as pd\n",
    "import numpy as np"
   ]
  },
  {
   "cell_type": "code",
   "execution_count": 2,
   "outputs": [
    {
     "name": "stderr",
     "output_type": "stream",
     "text": [
      "/Users/andrejantonov/opt/anaconda3/envs/synthetic-data/lib/python3.7/site-packages/lightgbm/sklearn.py:726: UserWarning: 'early_stopping_rounds' argument is deprecated and will be removed in a future release of LightGBM. Pass 'early_stopping()' callback via 'callbacks' argument instead.\n",
      "  _log_warning(\"'early_stopping_rounds' argument is deprecated and will be removed in a future release of LightGBM. \"\n",
      "/Users/andrejantonov/opt/anaconda3/envs/synthetic-data/lib/python3.7/site-packages/lightgbm/sklearn.py:736: UserWarning: 'verbose' argument is deprecated and will be removed in a future release of LightGBM. Pass 'log_evaluation()' callback via 'callbacks' argument instead.\n",
      "  _log_warning(\"'verbose' argument is deprecated and will be removed in a future release of LightGBM. \"\n",
      "/Users/andrejantonov/opt/anaconda3/envs/synthetic-data/lib/python3.7/site-packages/lightgbm/sklearn.py:726: UserWarning: 'early_stopping_rounds' argument is deprecated and will be removed in a future release of LightGBM. Pass 'early_stopping()' callback via 'callbacks' argument instead.\n",
      "  _log_warning(\"'early_stopping_rounds' argument is deprecated and will be removed in a future release of LightGBM. \"\n",
      "/Users/andrejantonov/opt/anaconda3/envs/synthetic-data/lib/python3.7/site-packages/lightgbm/sklearn.py:736: UserWarning: 'verbose' argument is deprecated and will be removed in a future release of LightGBM. Pass 'log_evaluation()' callback via 'callbacks' argument instead.\n",
      "  _log_warning(\"'verbose' argument is deprecated and will be removed in a future release of LightGBM. \"\n",
      "/Users/andrejantonov/opt/anaconda3/envs/synthetic-data/lib/python3.7/site-packages/lightgbm/sklearn.py:726: UserWarning: 'early_stopping_rounds' argument is deprecated and will be removed in a future release of LightGBM. Pass 'early_stopping()' callback via 'callbacks' argument instead.\n",
      "  _log_warning(\"'early_stopping_rounds' argument is deprecated and will be removed in a future release of LightGBM. \"\n",
      "/Users/andrejantonov/opt/anaconda3/envs/synthetic-data/lib/python3.7/site-packages/lightgbm/sklearn.py:736: UserWarning: 'verbose' argument is deprecated and will be removed in a future release of LightGBM. Pass 'log_evaluation()' callback via 'callbacks' argument instead.\n",
      "  _log_warning(\"'verbose' argument is deprecated and will be removed in a future release of LightGBM. \"\n",
      "/Users/andrejantonov/opt/anaconda3/envs/synthetic-data/lib/python3.7/site-packages/lightgbm/sklearn.py:726: UserWarning: 'early_stopping_rounds' argument is deprecated and will be removed in a future release of LightGBM. Pass 'early_stopping()' callback via 'callbacks' argument instead.\n",
      "  _log_warning(\"'early_stopping_rounds' argument is deprecated and will be removed in a future release of LightGBM. \"\n",
      "/Users/andrejantonov/opt/anaconda3/envs/synthetic-data/lib/python3.7/site-packages/lightgbm/sklearn.py:736: UserWarning: 'verbose' argument is deprecated and will be removed in a future release of LightGBM. Pass 'log_evaluation()' callback via 'callbacks' argument instead.\n",
      "  _log_warning(\"'verbose' argument is deprecated and will be removed in a future release of LightGBM. \"\n",
      "/Users/andrejantonov/opt/anaconda3/envs/synthetic-data/lib/python3.7/site-packages/lightgbm/sklearn.py:726: UserWarning: 'early_stopping_rounds' argument is deprecated and will be removed in a future release of LightGBM. Pass 'early_stopping()' callback via 'callbacks' argument instead.\n",
      "  _log_warning(\"'early_stopping_rounds' argument is deprecated and will be removed in a future release of LightGBM. \"\n",
      "/Users/andrejantonov/opt/anaconda3/envs/synthetic-data/lib/python3.7/site-packages/lightgbm/sklearn.py:736: UserWarning: 'verbose' argument is deprecated and will be removed in a future release of LightGBM. Pass 'log_evaluation()' callback via 'callbacks' argument instead.\n",
      "  _log_warning(\"'verbose' argument is deprecated and will be removed in a future release of LightGBM. \"\n"
     ]
    },
    {
     "data": {
      "text/plain": "Fitting CTGAN transformers for each column:   0%|          | 0/5 [00:00<?, ?it/s]",
      "application/vnd.jupyter.widget-view+json": {
       "version_major": 2,
       "version_minor": 0,
       "model_id": "21bcb58e36934f93a7c4ea6f90c4b173"
      }
     },
     "metadata": {},
     "output_type": "display_data"
    },
    {
     "data": {
      "text/plain": "Training CTGAN, epochs::   0%|          | 0/500 [00:00<?, ?it/s]",
      "application/vnd.jupyter.widget-view+json": {
       "version_major": 2,
       "version_minor": 0,
       "model_id": "dd1a8d312ad04886b7c13d2752a7171b"
      }
     },
     "metadata": {},
     "output_type": "display_data"
    },
    {
     "name": "stderr",
     "output_type": "stream",
     "text": [
      "/Users/andrejantonov/opt/anaconda3/envs/synthetic-data/lib/python3.7/site-packages/lightgbm/sklearn.py:726: UserWarning: 'early_stopping_rounds' argument is deprecated and will be removed in a future release of LightGBM. Pass 'early_stopping()' callback via 'callbacks' argument instead.\n",
      "  _log_warning(\"'early_stopping_rounds' argument is deprecated and will be removed in a future release of LightGBM. \"\n",
      "/Users/andrejantonov/opt/anaconda3/envs/synthetic-data/lib/python3.7/site-packages/lightgbm/sklearn.py:736: UserWarning: 'verbose' argument is deprecated and will be removed in a future release of LightGBM. Pass 'log_evaluation()' callback via 'callbacks' argument instead.\n",
      "  _log_warning(\"'verbose' argument is deprecated and will be removed in a future release of LightGBM. \"\n",
      "/Users/andrejantonov/opt/anaconda3/envs/synthetic-data/lib/python3.7/site-packages/lightgbm/sklearn.py:726: UserWarning: 'early_stopping_rounds' argument is deprecated and will be removed in a future release of LightGBM. Pass 'early_stopping()' callback via 'callbacks' argument instead.\n",
      "  _log_warning(\"'early_stopping_rounds' argument is deprecated and will be removed in a future release of LightGBM. \"\n",
      "/Users/andrejantonov/opt/anaconda3/envs/synthetic-data/lib/python3.7/site-packages/lightgbm/sklearn.py:736: UserWarning: 'verbose' argument is deprecated and will be removed in a future release of LightGBM. Pass 'log_evaluation()' callback via 'callbacks' argument instead.\n",
      "  _log_warning(\"'verbose' argument is deprecated and will be removed in a future release of LightGBM. \"\n",
      "/Users/andrejantonov/opt/anaconda3/envs/synthetic-data/lib/python3.7/site-packages/lightgbm/sklearn.py:726: UserWarning: 'early_stopping_rounds' argument is deprecated and will be removed in a future release of LightGBM. Pass 'early_stopping()' callback via 'callbacks' argument instead.\n",
      "  _log_warning(\"'early_stopping_rounds' argument is deprecated and will be removed in a future release of LightGBM. \"\n",
      "/Users/andrejantonov/opt/anaconda3/envs/synthetic-data/lib/python3.7/site-packages/lightgbm/sklearn.py:736: UserWarning: 'verbose' argument is deprecated and will be removed in a future release of LightGBM. Pass 'log_evaluation()' callback via 'callbacks' argument instead.\n",
      "  _log_warning(\"'verbose' argument is deprecated and will be removed in a future release of LightGBM. \"\n",
      "/Users/andrejantonov/opt/anaconda3/envs/synthetic-data/lib/python3.7/site-packages/lightgbm/sklearn.py:726: UserWarning: 'early_stopping_rounds' argument is deprecated and will be removed in a future release of LightGBM. Pass 'early_stopping()' callback via 'callbacks' argument instead.\n",
      "  _log_warning(\"'early_stopping_rounds' argument is deprecated and will be removed in a future release of LightGBM. \"\n",
      "/Users/andrejantonov/opt/anaconda3/envs/synthetic-data/lib/python3.7/site-packages/lightgbm/sklearn.py:736: UserWarning: 'verbose' argument is deprecated and will be removed in a future release of LightGBM. Pass 'log_evaluation()' callback via 'callbacks' argument instead.\n",
      "  _log_warning(\"'verbose' argument is deprecated and will be removed in a future release of LightGBM. \"\n",
      "/Users/andrejantonov/opt/anaconda3/envs/synthetic-data/lib/python3.7/site-packages/lightgbm/sklearn.py:726: UserWarning: 'early_stopping_rounds' argument is deprecated and will be removed in a future release of LightGBM. Pass 'early_stopping()' callback via 'callbacks' argument instead.\n",
      "  _log_warning(\"'early_stopping_rounds' argument is deprecated and will be removed in a future release of LightGBM. \"\n",
      "/Users/andrejantonov/opt/anaconda3/envs/synthetic-data/lib/python3.7/site-packages/lightgbm/sklearn.py:736: UserWarning: 'verbose' argument is deprecated and will be removed in a future release of LightGBM. Pass 'log_evaluation()' callback via 'callbacks' argument instead.\n",
      "  _log_warning(\"'verbose' argument is deprecated and will be removed in a future release of LightGBM. \"\n"
     ]
    },
    {
     "data": {
      "text/plain": "Fitting CTGAN transformers for each column:   0%|          | 0/5 [00:00<?, ?it/s]",
      "application/vnd.jupyter.widget-view+json": {
       "version_major": 2,
       "version_minor": 0,
       "model_id": "90f6079722b64ea29d6d31a01e62d156"
      }
     },
     "metadata": {},
     "output_type": "display_data"
    },
    {
     "data": {
      "text/plain": "Training CTGAN, epochs::   0%|          | 0/500 [00:00<?, ?it/s]",
      "application/vnd.jupyter.widget-view+json": {
       "version_major": 2,
       "version_minor": 0,
       "model_id": "303537205f9449009fe189564a5820d6"
      }
     },
     "metadata": {},
     "output_type": "display_data"
    },
    {
     "name": "stderr",
     "output_type": "stream",
     "text": [
      "/Users/andrejantonov/opt/anaconda3/envs/synthetic-data/lib/python3.7/site-packages/lightgbm/sklearn.py:726: UserWarning: 'early_stopping_rounds' argument is deprecated and will be removed in a future release of LightGBM. Pass 'early_stopping()' callback via 'callbacks' argument instead.\n",
      "  _log_warning(\"'early_stopping_rounds' argument is deprecated and will be removed in a future release of LightGBM. \"\n",
      "/Users/andrejantonov/opt/anaconda3/envs/synthetic-data/lib/python3.7/site-packages/lightgbm/sklearn.py:736: UserWarning: 'verbose' argument is deprecated and will be removed in a future release of LightGBM. Pass 'log_evaluation()' callback via 'callbacks' argument instead.\n",
      "  _log_warning(\"'verbose' argument is deprecated and will be removed in a future release of LightGBM. \"\n",
      "/Users/andrejantonov/opt/anaconda3/envs/synthetic-data/lib/python3.7/site-packages/lightgbm/sklearn.py:726: UserWarning: 'early_stopping_rounds' argument is deprecated and will be removed in a future release of LightGBM. Pass 'early_stopping()' callback via 'callbacks' argument instead.\n",
      "  _log_warning(\"'early_stopping_rounds' argument is deprecated and will be removed in a future release of LightGBM. \"\n",
      "/Users/andrejantonov/opt/anaconda3/envs/synthetic-data/lib/python3.7/site-packages/lightgbm/sklearn.py:736: UserWarning: 'verbose' argument is deprecated and will be removed in a future release of LightGBM. Pass 'log_evaluation()' callback via 'callbacks' argument instead.\n",
      "  _log_warning(\"'verbose' argument is deprecated and will be removed in a future release of LightGBM. \"\n",
      "/Users/andrejantonov/opt/anaconda3/envs/synthetic-data/lib/python3.7/site-packages/lightgbm/sklearn.py:726: UserWarning: 'early_stopping_rounds' argument is deprecated and will be removed in a future release of LightGBM. Pass 'early_stopping()' callback via 'callbacks' argument instead.\n",
      "  _log_warning(\"'early_stopping_rounds' argument is deprecated and will be removed in a future release of LightGBM. \"\n",
      "/Users/andrejantonov/opt/anaconda3/envs/synthetic-data/lib/python3.7/site-packages/lightgbm/sklearn.py:736: UserWarning: 'verbose' argument is deprecated and will be removed in a future release of LightGBM. Pass 'log_evaluation()' callback via 'callbacks' argument instead.\n",
      "  _log_warning(\"'verbose' argument is deprecated and will be removed in a future release of LightGBM. \"\n",
      "/Users/andrejantonov/opt/anaconda3/envs/synthetic-data/lib/python3.7/site-packages/lightgbm/sklearn.py:726: UserWarning: 'early_stopping_rounds' argument is deprecated and will be removed in a future release of LightGBM. Pass 'early_stopping()' callback via 'callbacks' argument instead.\n",
      "  _log_warning(\"'early_stopping_rounds' argument is deprecated and will be removed in a future release of LightGBM. \"\n",
      "/Users/andrejantonov/opt/anaconda3/envs/synthetic-data/lib/python3.7/site-packages/lightgbm/sklearn.py:736: UserWarning: 'verbose' argument is deprecated and will be removed in a future release of LightGBM. Pass 'log_evaluation()' callback via 'callbacks' argument instead.\n",
      "  _log_warning(\"'verbose' argument is deprecated and will be removed in a future release of LightGBM. \"\n",
      "/Users/andrejantonov/opt/anaconda3/envs/synthetic-data/lib/python3.7/site-packages/lightgbm/sklearn.py:726: UserWarning: 'early_stopping_rounds' argument is deprecated and will be removed in a future release of LightGBM. Pass 'early_stopping()' callback via 'callbacks' argument instead.\n",
      "  _log_warning(\"'early_stopping_rounds' argument is deprecated and will be removed in a future release of LightGBM. \"\n",
      "/Users/andrejantonov/opt/anaconda3/envs/synthetic-data/lib/python3.7/site-packages/lightgbm/sklearn.py:736: UserWarning: 'verbose' argument is deprecated and will be removed in a future release of LightGBM. Pass 'log_evaluation()' callback via 'callbacks' argument instead.\n",
      "  _log_warning(\"'verbose' argument is deprecated and will be removed in a future release of LightGBM. \"\n"
     ]
    }
   ],
   "source": [
    "# Random data experiment\n",
    "train = pd.DataFrame(np.random.randint(-10, 150, size=(150, 4)), columns=list(\"ABCD\"))\n",
    "target = pd.DataFrame(np.random.randint(0, 2, size=(150, 1)), columns=list(\"Y\"))\n",
    "test = pd.DataFrame(np.random.randint(0, 100, size=(100, 4)), columns=list(\"ABCD\"))\n",
    "\n",
    "# generate data\n",
    "new_train1, new_target1 = OriginalGenerator().generate_data_pipe(train, target, test, )\n",
    "new_train2, new_target2 = GANGenerator().generate_data_pipe(train, target, test, )\n",
    "\n",
    "# example with all params defined\n",
    "new_train3, new_target3 = GANGenerator(\n",
    "    gen_x_times=1.1,\n",
    "    cat_cols=None,\n",
    "    bot_filter_quantile=0.001,\n",
    "    top_filter_quantile=0.999,\n",
    "    is_post_process=True,\n",
    "    adversarial_model_params = {\n",
    "        \"metrics\": \"AUC\",\n",
    "        \"max_depth\": 2,\n",
    "        \"max_bin\": 100,\n",
    "        \"learning_rate\": 0.02,\n",
    "        \"random_state\": 42,\n",
    "        \"n_estimators\": 500,\n",
    "    },\n",
    "    pregeneration_frac=2,\n",
    "    only_generated_data=False,\n",
    "    gan_params = {\n",
    "        \"batch_size\": 500,\n",
    "        \"patience\": 25,\n",
    "        \"epochs\": 500\n",
    "    }\n",
    ").generate_data_pipe(\n",
    "    train,\n",
    "    target,\n",
    "    test,\n",
    "    deep_copy=True,\n",
    "    only_adversarial=False,\n",
    "    use_adversarial=True\n",
    ")"
   ],
   "metadata": {
    "collapsed": false,
    "pycharm": {
     "name": "#%%\n"
    }
   }
  },
  {
   "cell_type": "code",
   "execution_count": 3,
   "outputs": [
    {
     "data": {
      "text/plain": "       A    B    C    D\n0     29   17   80   -7\n1    115   89   -8  106\n2    120   -9   42  137\n3    136  105  131  106\n4    105   55   46   96\n..   ...  ...  ...  ...\n145  123  131   23  104\n146  137   85  119   96\n147   95   99  115   38\n148   39  146   20   20\n149   90  120  108   40\n\n[150 rows x 4 columns]",
      "text/html": "<div>\n<style scoped>\n    .dataframe tbody tr th:only-of-type {\n        vertical-align: middle;\n    }\n\n    .dataframe tbody tr th {\n        vertical-align: top;\n    }\n\n    .dataframe thead th {\n        text-align: right;\n    }\n</style>\n<table border=\"1\" class=\"dataframe\">\n  <thead>\n    <tr style=\"text-align: right;\">\n      <th></th>\n      <th>A</th>\n      <th>B</th>\n      <th>C</th>\n      <th>D</th>\n    </tr>\n  </thead>\n  <tbody>\n    <tr>\n      <th>0</th>\n      <td>29</td>\n      <td>17</td>\n      <td>80</td>\n      <td>-7</td>\n    </tr>\n    <tr>\n      <th>1</th>\n      <td>115</td>\n      <td>89</td>\n      <td>-8</td>\n      <td>106</td>\n    </tr>\n    <tr>\n      <th>2</th>\n      <td>120</td>\n      <td>-9</td>\n      <td>42</td>\n      <td>137</td>\n    </tr>\n    <tr>\n      <th>3</th>\n      <td>136</td>\n      <td>105</td>\n      <td>131</td>\n      <td>106</td>\n    </tr>\n    <tr>\n      <th>4</th>\n      <td>105</td>\n      <td>55</td>\n      <td>46</td>\n      <td>96</td>\n    </tr>\n    <tr>\n      <th>...</th>\n      <td>...</td>\n      <td>...</td>\n      <td>...</td>\n      <td>...</td>\n    </tr>\n    <tr>\n      <th>145</th>\n      <td>123</td>\n      <td>131</td>\n      <td>23</td>\n      <td>104</td>\n    </tr>\n    <tr>\n      <th>146</th>\n      <td>137</td>\n      <td>85</td>\n      <td>119</td>\n      <td>96</td>\n    </tr>\n    <tr>\n      <th>147</th>\n      <td>95</td>\n      <td>99</td>\n      <td>115</td>\n      <td>38</td>\n    </tr>\n    <tr>\n      <th>148</th>\n      <td>39</td>\n      <td>146</td>\n      <td>20</td>\n      <td>20</td>\n    </tr>\n    <tr>\n      <th>149</th>\n      <td>90</td>\n      <td>120</td>\n      <td>108</td>\n      <td>40</td>\n    </tr>\n  </tbody>\n</table>\n<p>150 rows × 4 columns</p>\n</div>"
     },
     "execution_count": 3,
     "metadata": {},
     "output_type": "execute_result"
    }
   ],
   "source": [
    "train"
   ],
   "metadata": {
    "collapsed": false,
    "pycharm": {
     "name": "#%%\n"
    }
   }
  },
  {
   "cell_type": "code",
   "execution_count": 4,
   "outputs": [
    {
     "data": {
      "text/plain": "     Y\n0    1\n1    1\n2    1\n3    1\n4    0\n..  ..\n145  1\n146  1\n147  0\n148  1\n149  0\n\n[150 rows x 1 columns]",
      "text/html": "<div>\n<style scoped>\n    .dataframe tbody tr th:only-of-type {\n        vertical-align: middle;\n    }\n\n    .dataframe tbody tr th {\n        vertical-align: top;\n    }\n\n    .dataframe thead th {\n        text-align: right;\n    }\n</style>\n<table border=\"1\" class=\"dataframe\">\n  <thead>\n    <tr style=\"text-align: right;\">\n      <th></th>\n      <th>Y</th>\n    </tr>\n  </thead>\n  <tbody>\n    <tr>\n      <th>0</th>\n      <td>1</td>\n    </tr>\n    <tr>\n      <th>1</th>\n      <td>1</td>\n    </tr>\n    <tr>\n      <th>2</th>\n      <td>1</td>\n    </tr>\n    <tr>\n      <th>3</th>\n      <td>1</td>\n    </tr>\n    <tr>\n      <th>4</th>\n      <td>0</td>\n    </tr>\n    <tr>\n      <th>...</th>\n      <td>...</td>\n    </tr>\n    <tr>\n      <th>145</th>\n      <td>1</td>\n    </tr>\n    <tr>\n      <th>146</th>\n      <td>1</td>\n    </tr>\n    <tr>\n      <th>147</th>\n      <td>0</td>\n    </tr>\n    <tr>\n      <th>148</th>\n      <td>1</td>\n    </tr>\n    <tr>\n      <th>149</th>\n      <td>0</td>\n    </tr>\n  </tbody>\n</table>\n<p>150 rows × 1 columns</p>\n</div>"
     },
     "execution_count": 4,
     "metadata": {},
     "output_type": "execute_result"
    }
   ],
   "source": [
    "target"
   ],
   "metadata": {
    "collapsed": false,
    "pycharm": {
     "name": "#%%\n"
    }
   }
  },
  {
   "cell_type": "code",
   "execution_count": 5,
   "outputs": [
    {
     "data": {
      "text/plain": "     A   B   C   D\n0   44  43  45  55\n1    7  54  51  55\n2    1  36  60  50\n3   14  24   1  37\n4   12  35  45  39\n5   50  85  82  55\n6   53  61   5  35\n7   49   8  70  37\n8   50  19  97  38\n9   41  75  37  58\n10  18  85  49  11\n11  26  63  38  10\n12  65  75  41  48\n13   6  55  62  24\n14  43  30  18   8\n15  13  24  11   9\n16  94  49  51  49\n17  93  13  13  39\n18  45  40  84   8\n19  32  56  69  15\n20  16  31  93  10\n21  35  88  36  63\n22  36  46  25  74\n23  47  97  34  88\n24  94  82  71  38\n25  17  97  62  77\n26  72  18  70  38\n27  22   5  63  97\n28  63  27  77  60\n29  85  90  49  68\n30  93  76  47  92\n31  77  58  39  78\n32   5  62  94  97\n33   3  31  72  91\n34  54   8  62  75\n35  75  42  63  75\n36  83  58  64  77\n37  70  61  92   7\n38  66  53  77   5\n39  58  84  15  94\n40  88  14  88  77\n41  75  73   5   8\n42  78  44   2  34\n43  81  41  27  33\n44  70  14  97  94",
      "text/html": "<div>\n<style scoped>\n    .dataframe tbody tr th:only-of-type {\n        vertical-align: middle;\n    }\n\n    .dataframe tbody tr th {\n        vertical-align: top;\n    }\n\n    .dataframe thead th {\n        text-align: right;\n    }\n</style>\n<table border=\"1\" class=\"dataframe\">\n  <thead>\n    <tr style=\"text-align: right;\">\n      <th></th>\n      <th>A</th>\n      <th>B</th>\n      <th>C</th>\n      <th>D</th>\n    </tr>\n  </thead>\n  <tbody>\n    <tr>\n      <th>0</th>\n      <td>44</td>\n      <td>43</td>\n      <td>45</td>\n      <td>55</td>\n    </tr>\n    <tr>\n      <th>1</th>\n      <td>7</td>\n      <td>54</td>\n      <td>51</td>\n      <td>55</td>\n    </tr>\n    <tr>\n      <th>2</th>\n      <td>1</td>\n      <td>36</td>\n      <td>60</td>\n      <td>50</td>\n    </tr>\n    <tr>\n      <th>3</th>\n      <td>14</td>\n      <td>24</td>\n      <td>1</td>\n      <td>37</td>\n    </tr>\n    <tr>\n      <th>4</th>\n      <td>12</td>\n      <td>35</td>\n      <td>45</td>\n      <td>39</td>\n    </tr>\n    <tr>\n      <th>5</th>\n      <td>50</td>\n      <td>85</td>\n      <td>82</td>\n      <td>55</td>\n    </tr>\n    <tr>\n      <th>6</th>\n      <td>53</td>\n      <td>61</td>\n      <td>5</td>\n      <td>35</td>\n    </tr>\n    <tr>\n      <th>7</th>\n      <td>49</td>\n      <td>8</td>\n      <td>70</td>\n      <td>37</td>\n    </tr>\n    <tr>\n      <th>8</th>\n      <td>50</td>\n      <td>19</td>\n      <td>97</td>\n      <td>38</td>\n    </tr>\n    <tr>\n      <th>9</th>\n      <td>41</td>\n      <td>75</td>\n      <td>37</td>\n      <td>58</td>\n    </tr>\n    <tr>\n      <th>10</th>\n      <td>18</td>\n      <td>85</td>\n      <td>49</td>\n      <td>11</td>\n    </tr>\n    <tr>\n      <th>11</th>\n      <td>26</td>\n      <td>63</td>\n      <td>38</td>\n      <td>10</td>\n    </tr>\n    <tr>\n      <th>12</th>\n      <td>65</td>\n      <td>75</td>\n      <td>41</td>\n      <td>48</td>\n    </tr>\n    <tr>\n      <th>13</th>\n      <td>6</td>\n      <td>55</td>\n      <td>62</td>\n      <td>24</td>\n    </tr>\n    <tr>\n      <th>14</th>\n      <td>43</td>\n      <td>30</td>\n      <td>18</td>\n      <td>8</td>\n    </tr>\n    <tr>\n      <th>15</th>\n      <td>13</td>\n      <td>24</td>\n      <td>11</td>\n      <td>9</td>\n    </tr>\n    <tr>\n      <th>16</th>\n      <td>94</td>\n      <td>49</td>\n      <td>51</td>\n      <td>49</td>\n    </tr>\n    <tr>\n      <th>17</th>\n      <td>93</td>\n      <td>13</td>\n      <td>13</td>\n      <td>39</td>\n    </tr>\n    <tr>\n      <th>18</th>\n      <td>45</td>\n      <td>40</td>\n      <td>84</td>\n      <td>8</td>\n    </tr>\n    <tr>\n      <th>19</th>\n      <td>32</td>\n      <td>56</td>\n      <td>69</td>\n      <td>15</td>\n    </tr>\n    <tr>\n      <th>20</th>\n      <td>16</td>\n      <td>31</td>\n      <td>93</td>\n      <td>10</td>\n    </tr>\n    <tr>\n      <th>21</th>\n      <td>35</td>\n      <td>88</td>\n      <td>36</td>\n      <td>63</td>\n    </tr>\n    <tr>\n      <th>22</th>\n      <td>36</td>\n      <td>46</td>\n      <td>25</td>\n      <td>74</td>\n    </tr>\n    <tr>\n      <th>23</th>\n      <td>47</td>\n      <td>97</td>\n      <td>34</td>\n      <td>88</td>\n    </tr>\n    <tr>\n      <th>24</th>\n      <td>94</td>\n      <td>82</td>\n      <td>71</td>\n      <td>38</td>\n    </tr>\n    <tr>\n      <th>25</th>\n      <td>17</td>\n      <td>97</td>\n      <td>62</td>\n      <td>77</td>\n    </tr>\n    <tr>\n      <th>26</th>\n      <td>72</td>\n      <td>18</td>\n      <td>70</td>\n      <td>38</td>\n    </tr>\n    <tr>\n      <th>27</th>\n      <td>22</td>\n      <td>5</td>\n      <td>63</td>\n      <td>97</td>\n    </tr>\n    <tr>\n      <th>28</th>\n      <td>63</td>\n      <td>27</td>\n      <td>77</td>\n      <td>60</td>\n    </tr>\n    <tr>\n      <th>29</th>\n      <td>85</td>\n      <td>90</td>\n      <td>49</td>\n      <td>68</td>\n    </tr>\n    <tr>\n      <th>30</th>\n      <td>93</td>\n      <td>76</td>\n      <td>47</td>\n      <td>92</td>\n    </tr>\n    <tr>\n      <th>31</th>\n      <td>77</td>\n      <td>58</td>\n      <td>39</td>\n      <td>78</td>\n    </tr>\n    <tr>\n      <th>32</th>\n      <td>5</td>\n      <td>62</td>\n      <td>94</td>\n      <td>97</td>\n    </tr>\n    <tr>\n      <th>33</th>\n      <td>3</td>\n      <td>31</td>\n      <td>72</td>\n      <td>91</td>\n    </tr>\n    <tr>\n      <th>34</th>\n      <td>54</td>\n      <td>8</td>\n      <td>62</td>\n      <td>75</td>\n    </tr>\n    <tr>\n      <th>35</th>\n      <td>75</td>\n      <td>42</td>\n      <td>63</td>\n      <td>75</td>\n    </tr>\n    <tr>\n      <th>36</th>\n      <td>83</td>\n      <td>58</td>\n      <td>64</td>\n      <td>77</td>\n    </tr>\n    <tr>\n      <th>37</th>\n      <td>70</td>\n      <td>61</td>\n      <td>92</td>\n      <td>7</td>\n    </tr>\n    <tr>\n      <th>38</th>\n      <td>66</td>\n      <td>53</td>\n      <td>77</td>\n      <td>5</td>\n    </tr>\n    <tr>\n      <th>39</th>\n      <td>58</td>\n      <td>84</td>\n      <td>15</td>\n      <td>94</td>\n    </tr>\n    <tr>\n      <th>40</th>\n      <td>88</td>\n      <td>14</td>\n      <td>88</td>\n      <td>77</td>\n    </tr>\n    <tr>\n      <th>41</th>\n      <td>75</td>\n      <td>73</td>\n      <td>5</td>\n      <td>8</td>\n    </tr>\n    <tr>\n      <th>42</th>\n      <td>78</td>\n      <td>44</td>\n      <td>2</td>\n      <td>34</td>\n    </tr>\n    <tr>\n      <th>43</th>\n      <td>81</td>\n      <td>41</td>\n      <td>27</td>\n      <td>33</td>\n    </tr>\n    <tr>\n      <th>44</th>\n      <td>70</td>\n      <td>14</td>\n      <td>97</td>\n      <td>94</td>\n    </tr>\n  </tbody>\n</table>\n</div>"
     },
     "execution_count": 5,
     "metadata": {},
     "output_type": "execute_result"
    }
   ],
   "source": [
    "new_train2"
   ],
   "metadata": {
    "collapsed": false,
    "pycharm": {
     "name": "#%%\n"
    }
   }
  },
  {
   "cell_type": "code",
   "execution_count": 6,
   "outputs": [
    {
     "data": {
      "text/plain": "     A   B   C   D\n0   44  43  45  55\n1    7  54  51  55\n2    1  36  60  50\n3   14  24   1  37\n4   12  35  45  39\n5   50  85  82  55\n6   53  61   5  35\n7   49   8  70  37\n8   50  19  97  38\n9   41  75  37  58\n10  18  85  49  11\n11  26  63  38  10\n12  65  75  41  48\n13   6  55  62  24\n14  43  30  18   8\n15  13  24  11   9\n16  94  49  51  49\n17  93  13  13  39\n18  45  40  84   8\n19  32  56  69  15\n20  16  31  93  10\n21  35  88  36  63\n22  36  46  25  74\n23  47  97  34  88\n24  94  82  71  38\n25  17  97  62  77\n26  72  18  70  38\n27  22   5  63  97\n28  63  27  77  60\n29  85  90  49  68\n30  93  76  47  92\n31  77  58  39  78\n32   5  62  94  97\n33   3  31  72  91\n34  54   8  62  75\n35  75  42  63  75\n36  83  58  64  77\n37  70  61  92   7\n38  66  53  77   5\n39  58  84  15  94\n40  88  14  88  77\n41  75  73   5   8\n42  78  44   2  34\n43  81  41  27  33\n44  70  14  97  94",
      "text/html": "<div>\n<style scoped>\n    .dataframe tbody tr th:only-of-type {\n        vertical-align: middle;\n    }\n\n    .dataframe tbody tr th {\n        vertical-align: top;\n    }\n\n    .dataframe thead th {\n        text-align: right;\n    }\n</style>\n<table border=\"1\" class=\"dataframe\">\n  <thead>\n    <tr style=\"text-align: right;\">\n      <th></th>\n      <th>A</th>\n      <th>B</th>\n      <th>C</th>\n      <th>D</th>\n    </tr>\n  </thead>\n  <tbody>\n    <tr>\n      <th>0</th>\n      <td>44</td>\n      <td>43</td>\n      <td>45</td>\n      <td>55</td>\n    </tr>\n    <tr>\n      <th>1</th>\n      <td>7</td>\n      <td>54</td>\n      <td>51</td>\n      <td>55</td>\n    </tr>\n    <tr>\n      <th>2</th>\n      <td>1</td>\n      <td>36</td>\n      <td>60</td>\n      <td>50</td>\n    </tr>\n    <tr>\n      <th>3</th>\n      <td>14</td>\n      <td>24</td>\n      <td>1</td>\n      <td>37</td>\n    </tr>\n    <tr>\n      <th>4</th>\n      <td>12</td>\n      <td>35</td>\n      <td>45</td>\n      <td>39</td>\n    </tr>\n    <tr>\n      <th>5</th>\n      <td>50</td>\n      <td>85</td>\n      <td>82</td>\n      <td>55</td>\n    </tr>\n    <tr>\n      <th>6</th>\n      <td>53</td>\n      <td>61</td>\n      <td>5</td>\n      <td>35</td>\n    </tr>\n    <tr>\n      <th>7</th>\n      <td>49</td>\n      <td>8</td>\n      <td>70</td>\n      <td>37</td>\n    </tr>\n    <tr>\n      <th>8</th>\n      <td>50</td>\n      <td>19</td>\n      <td>97</td>\n      <td>38</td>\n    </tr>\n    <tr>\n      <th>9</th>\n      <td>41</td>\n      <td>75</td>\n      <td>37</td>\n      <td>58</td>\n    </tr>\n    <tr>\n      <th>10</th>\n      <td>18</td>\n      <td>85</td>\n      <td>49</td>\n      <td>11</td>\n    </tr>\n    <tr>\n      <th>11</th>\n      <td>26</td>\n      <td>63</td>\n      <td>38</td>\n      <td>10</td>\n    </tr>\n    <tr>\n      <th>12</th>\n      <td>65</td>\n      <td>75</td>\n      <td>41</td>\n      <td>48</td>\n    </tr>\n    <tr>\n      <th>13</th>\n      <td>6</td>\n      <td>55</td>\n      <td>62</td>\n      <td>24</td>\n    </tr>\n    <tr>\n      <th>14</th>\n      <td>43</td>\n      <td>30</td>\n      <td>18</td>\n      <td>8</td>\n    </tr>\n    <tr>\n      <th>15</th>\n      <td>13</td>\n      <td>24</td>\n      <td>11</td>\n      <td>9</td>\n    </tr>\n    <tr>\n      <th>16</th>\n      <td>94</td>\n      <td>49</td>\n      <td>51</td>\n      <td>49</td>\n    </tr>\n    <tr>\n      <th>17</th>\n      <td>93</td>\n      <td>13</td>\n      <td>13</td>\n      <td>39</td>\n    </tr>\n    <tr>\n      <th>18</th>\n      <td>45</td>\n      <td>40</td>\n      <td>84</td>\n      <td>8</td>\n    </tr>\n    <tr>\n      <th>19</th>\n      <td>32</td>\n      <td>56</td>\n      <td>69</td>\n      <td>15</td>\n    </tr>\n    <tr>\n      <th>20</th>\n      <td>16</td>\n      <td>31</td>\n      <td>93</td>\n      <td>10</td>\n    </tr>\n    <tr>\n      <th>21</th>\n      <td>35</td>\n      <td>88</td>\n      <td>36</td>\n      <td>63</td>\n    </tr>\n    <tr>\n      <th>22</th>\n      <td>36</td>\n      <td>46</td>\n      <td>25</td>\n      <td>74</td>\n    </tr>\n    <tr>\n      <th>23</th>\n      <td>47</td>\n      <td>97</td>\n      <td>34</td>\n      <td>88</td>\n    </tr>\n    <tr>\n      <th>24</th>\n      <td>94</td>\n      <td>82</td>\n      <td>71</td>\n      <td>38</td>\n    </tr>\n    <tr>\n      <th>25</th>\n      <td>17</td>\n      <td>97</td>\n      <td>62</td>\n      <td>77</td>\n    </tr>\n    <tr>\n      <th>26</th>\n      <td>72</td>\n      <td>18</td>\n      <td>70</td>\n      <td>38</td>\n    </tr>\n    <tr>\n      <th>27</th>\n      <td>22</td>\n      <td>5</td>\n      <td>63</td>\n      <td>97</td>\n    </tr>\n    <tr>\n      <th>28</th>\n      <td>63</td>\n      <td>27</td>\n      <td>77</td>\n      <td>60</td>\n    </tr>\n    <tr>\n      <th>29</th>\n      <td>85</td>\n      <td>90</td>\n      <td>49</td>\n      <td>68</td>\n    </tr>\n    <tr>\n      <th>30</th>\n      <td>93</td>\n      <td>76</td>\n      <td>47</td>\n      <td>92</td>\n    </tr>\n    <tr>\n      <th>31</th>\n      <td>77</td>\n      <td>58</td>\n      <td>39</td>\n      <td>78</td>\n    </tr>\n    <tr>\n      <th>32</th>\n      <td>5</td>\n      <td>62</td>\n      <td>94</td>\n      <td>97</td>\n    </tr>\n    <tr>\n      <th>33</th>\n      <td>3</td>\n      <td>31</td>\n      <td>72</td>\n      <td>91</td>\n    </tr>\n    <tr>\n      <th>34</th>\n      <td>54</td>\n      <td>8</td>\n      <td>62</td>\n      <td>75</td>\n    </tr>\n    <tr>\n      <th>35</th>\n      <td>75</td>\n      <td>42</td>\n      <td>63</td>\n      <td>75</td>\n    </tr>\n    <tr>\n      <th>36</th>\n      <td>83</td>\n      <td>58</td>\n      <td>64</td>\n      <td>77</td>\n    </tr>\n    <tr>\n      <th>37</th>\n      <td>70</td>\n      <td>61</td>\n      <td>92</td>\n      <td>7</td>\n    </tr>\n    <tr>\n      <th>38</th>\n      <td>66</td>\n      <td>53</td>\n      <td>77</td>\n      <td>5</td>\n    </tr>\n    <tr>\n      <th>39</th>\n      <td>58</td>\n      <td>84</td>\n      <td>15</td>\n      <td>94</td>\n    </tr>\n    <tr>\n      <th>40</th>\n      <td>88</td>\n      <td>14</td>\n      <td>88</td>\n      <td>77</td>\n    </tr>\n    <tr>\n      <th>41</th>\n      <td>75</td>\n      <td>73</td>\n      <td>5</td>\n      <td>8</td>\n    </tr>\n    <tr>\n      <th>42</th>\n      <td>78</td>\n      <td>44</td>\n      <td>2</td>\n      <td>34</td>\n    </tr>\n    <tr>\n      <th>43</th>\n      <td>81</td>\n      <td>41</td>\n      <td>27</td>\n      <td>33</td>\n    </tr>\n    <tr>\n      <th>44</th>\n      <td>70</td>\n      <td>14</td>\n      <td>97</td>\n      <td>94</td>\n    </tr>\n  </tbody>\n</table>\n</div>"
     },
     "execution_count": 6,
     "metadata": {},
     "output_type": "execute_result"
    }
   ],
   "source": [
    "new_train2"
   ],
   "metadata": {
    "collapsed": false,
    "pycharm": {
     "name": "#%%\n"
    }
   }
  },
  {
   "cell_type": "code",
   "execution_count": 7,
   "outputs": [
    {
     "data": {
      "text/plain": "Fitting CTGAN transformers for each column:   0%|          | 0/7 [00:00<?, ?it/s]",
      "application/vnd.jupyter.widget-view+json": {
       "version_major": 2,
       "version_minor": 0,
       "model_id": "4e0a3af0f7a648eeb0821af9ea06aeba"
      }
     },
     "metadata": {},
     "output_type": "display_data"
    },
    {
     "data": {
      "text/plain": "Training CTGAN, epochs::   0%|          | 0/500 [00:00<?, ?it/s]",
      "application/vnd.jupyter.widget-view+json": {
       "version_major": 2,
       "version_minor": 0,
       "model_id": "364ec53b58144b05afdcbc122ec47c98"
      }
     },
     "metadata": {},
     "output_type": "display_data"
    },
    {
     "name": "stderr",
     "output_type": "stream",
     "text": [
      "/Users/andrejantonov/opt/anaconda3/envs/synthetic-data/lib/python3.7/site-packages/lightgbm/sklearn.py:726: UserWarning: 'early_stopping_rounds' argument is deprecated and will be removed in a future release of LightGBM. Pass 'early_stopping()' callback via 'callbacks' argument instead.\n",
      "  _log_warning(\"'early_stopping_rounds' argument is deprecated and will be removed in a future release of LightGBM. \"\n",
      "/Users/andrejantonov/opt/anaconda3/envs/synthetic-data/lib/python3.7/site-packages/lightgbm/sklearn.py:736: UserWarning: 'verbose' argument is deprecated and will be removed in a future release of LightGBM. Pass 'log_evaluation()' callback via 'callbacks' argument instead.\n",
      "  _log_warning(\"'verbose' argument is deprecated and will be removed in a future release of LightGBM. \"\n",
      "/Users/andrejantonov/opt/anaconda3/envs/synthetic-data/lib/python3.7/site-packages/lightgbm/basic.py:1780: UserWarning: Overriding the parameters from Reference Dataset.\n",
      "  _log_warning('Overriding the parameters from Reference Dataset.')\n",
      "/Users/andrejantonov/opt/anaconda3/envs/synthetic-data/lib/python3.7/site-packages/lightgbm/basic.py:1513: UserWarning: categorical_column in param dict is overridden.\n",
      "  _log_warning(f'{cat_alias} in param dict is overridden.')\n",
      "/Users/andrejantonov/opt/anaconda3/envs/synthetic-data/lib/python3.7/site-packages/lightgbm/sklearn.py:726: UserWarning: 'early_stopping_rounds' argument is deprecated and will be removed in a future release of LightGBM. Pass 'early_stopping()' callback via 'callbacks' argument instead.\n",
      "  _log_warning(\"'early_stopping_rounds' argument is deprecated and will be removed in a future release of LightGBM. \"\n",
      "/Users/andrejantonov/opt/anaconda3/envs/synthetic-data/lib/python3.7/site-packages/lightgbm/sklearn.py:736: UserWarning: 'verbose' argument is deprecated and will be removed in a future release of LightGBM. Pass 'log_evaluation()' callback via 'callbacks' argument instead.\n",
      "  _log_warning(\"'verbose' argument is deprecated and will be removed in a future release of LightGBM. \"\n",
      "/Users/andrejantonov/opt/anaconda3/envs/synthetic-data/lib/python3.7/site-packages/lightgbm/basic.py:1780: UserWarning: Overriding the parameters from Reference Dataset.\n",
      "  _log_warning('Overriding the parameters from Reference Dataset.')\n",
      "/Users/andrejantonov/opt/anaconda3/envs/synthetic-data/lib/python3.7/site-packages/lightgbm/basic.py:1513: UserWarning: categorical_column in param dict is overridden.\n",
      "  _log_warning(f'{cat_alias} in param dict is overridden.')\n",
      "/Users/andrejantonov/opt/anaconda3/envs/synthetic-data/lib/python3.7/site-packages/lightgbm/sklearn.py:726: UserWarning: 'early_stopping_rounds' argument is deprecated and will be removed in a future release of LightGBM. Pass 'early_stopping()' callback via 'callbacks' argument instead.\n",
      "  _log_warning(\"'early_stopping_rounds' argument is deprecated and will be removed in a future release of LightGBM. \"\n",
      "/Users/andrejantonov/opt/anaconda3/envs/synthetic-data/lib/python3.7/site-packages/lightgbm/sklearn.py:736: UserWarning: 'verbose' argument is deprecated and will be removed in a future release of LightGBM. Pass 'log_evaluation()' callback via 'callbacks' argument instead.\n",
      "  _log_warning(\"'verbose' argument is deprecated and will be removed in a future release of LightGBM. \"\n",
      "/Users/andrejantonov/opt/anaconda3/envs/synthetic-data/lib/python3.7/site-packages/lightgbm/basic.py:1780: UserWarning: Overriding the parameters from Reference Dataset.\n",
      "  _log_warning('Overriding the parameters from Reference Dataset.')\n",
      "/Users/andrejantonov/opt/anaconda3/envs/synthetic-data/lib/python3.7/site-packages/lightgbm/basic.py:1513: UserWarning: categorical_column in param dict is overridden.\n",
      "  _log_warning(f'{cat_alias} in param dict is overridden.')\n",
      "/Users/andrejantonov/opt/anaconda3/envs/synthetic-data/lib/python3.7/site-packages/lightgbm/sklearn.py:726: UserWarning: 'early_stopping_rounds' argument is deprecated and will be removed in a future release of LightGBM. Pass 'early_stopping()' callback via 'callbacks' argument instead.\n",
      "  _log_warning(\"'early_stopping_rounds' argument is deprecated and will be removed in a future release of LightGBM. \"\n",
      "/Users/andrejantonov/opt/anaconda3/envs/synthetic-data/lib/python3.7/site-packages/lightgbm/sklearn.py:736: UserWarning: 'verbose' argument is deprecated and will be removed in a future release of LightGBM. Pass 'log_evaluation()' callback via 'callbacks' argument instead.\n",
      "  _log_warning(\"'verbose' argument is deprecated and will be removed in a future release of LightGBM. \"\n",
      "/Users/andrejantonov/opt/anaconda3/envs/synthetic-data/lib/python3.7/site-packages/lightgbm/basic.py:1780: UserWarning: Overriding the parameters from Reference Dataset.\n",
      "  _log_warning('Overriding the parameters from Reference Dataset.')\n",
      "/Users/andrejantonov/opt/anaconda3/envs/synthetic-data/lib/python3.7/site-packages/lightgbm/basic.py:1513: UserWarning: categorical_column in param dict is overridden.\n",
      "  _log_warning(f'{cat_alias} in param dict is overridden.')\n",
      "/Users/andrejantonov/opt/anaconda3/envs/synthetic-data/lib/python3.7/site-packages/lightgbm/sklearn.py:726: UserWarning: 'early_stopping_rounds' argument is deprecated and will be removed in a future release of LightGBM. Pass 'early_stopping()' callback via 'callbacks' argument instead.\n",
      "  _log_warning(\"'early_stopping_rounds' argument is deprecated and will be removed in a future release of LightGBM. \"\n",
      "/Users/andrejantonov/opt/anaconda3/envs/synthetic-data/lib/python3.7/site-packages/lightgbm/sklearn.py:736: UserWarning: 'verbose' argument is deprecated and will be removed in a future release of LightGBM. Pass 'log_evaluation()' callback via 'callbacks' argument instead.\n",
      "  _log_warning(\"'verbose' argument is deprecated and will be removed in a future release of LightGBM. \"\n",
      "/Users/andrejantonov/opt/anaconda3/envs/synthetic-data/lib/python3.7/site-packages/lightgbm/basic.py:1780: UserWarning: Overriding the parameters from Reference Dataset.\n",
      "  _log_warning('Overriding the parameters from Reference Dataset.')\n",
      "/Users/andrejantonov/opt/anaconda3/envs/synthetic-data/lib/python3.7/site-packages/lightgbm/basic.py:1513: UserWarning: categorical_column in param dict is overridden.\n",
      "  _log_warning(f'{cat_alias} in param dict is overridden.')\n"
     ]
    }
   ],
   "source": [
    "# Time-series experiment\n",
    "\n",
    "from tabgan.utils import get_year_mnth_dt_from_date\n",
    "from tabgan.sampler import GANGenerator\n",
    "\n",
    "\n",
    "train_size = 100\n",
    "train = pd.DataFrame(np.random.randint(-10, 150, size=(train_size, 4)), columns=list(\"ABCD\"))\n",
    "min_date = pd.to_datetime('2019-01-01')\n",
    "max_date = pd.to_datetime('2021-12-31')\n",
    "d = (max_date - min_date).days + 1\n",
    "\n",
    "train['Date'] = min_date + pd.to_timedelta(pd.np.random.randint(d, size=train_size), unit='d')\n",
    "train = get_year_mnth_dt_from_date(train, 'Date')\n",
    "\n",
    "new_train, _ = GANGenerator(\n",
    "    gen_x_times=1.1,\n",
    "    cat_cols=['year'],\n",
    "    bot_filter_quantile=0.001,\n",
    "    top_filter_quantile=0.999,\n",
    "    is_post_process=True,\n",
    "    pregeneration_frac=2,\n",
    "    only_generated_data=False\n",
    ").generate_data_pipe(train.drop('Date', axis=1), None, train.drop('Date', axis=1))"
   ],
   "metadata": {
    "collapsed": false,
    "pycharm": {
     "name": "#%%\n"
    }
   }
  },
  {
   "cell_type": "code",
   "execution_count": 8,
   "outputs": [
    {
     "data": {
      "text/plain": "      A    B    C    D       Date  year  month  day\n0    69   91   -2   46 2021-05-21  2021      5   21\n1   149   84  143   64 2019-08-15  2019      8   15\n2    71   53   23  112 2019-02-24  2019      2   24\n3    26   24   25   61 2020-07-28  2020      7   28\n4    83   43  118   22 2019-08-09  2019      8    9\n..  ...  ...  ...  ...        ...   ...    ...  ...\n95   52  119  101   76 2020-07-17  2020      7   17\n96   15  114  134  132 2020-12-04  2020     12    4\n97   80   48   59   29 2020-01-27  2020      1   27\n98   66   43  117   89 2019-01-29  2019      1   29\n99  106   64  130   -6 2021-01-17  2021      1   17\n\n[100 rows x 8 columns]",
      "text/html": "<div>\n<style scoped>\n    .dataframe tbody tr th:only-of-type {\n        vertical-align: middle;\n    }\n\n    .dataframe tbody tr th {\n        vertical-align: top;\n    }\n\n    .dataframe thead th {\n        text-align: right;\n    }\n</style>\n<table border=\"1\" class=\"dataframe\">\n  <thead>\n    <tr style=\"text-align: right;\">\n      <th></th>\n      <th>A</th>\n      <th>B</th>\n      <th>C</th>\n      <th>D</th>\n      <th>Date</th>\n      <th>year</th>\n      <th>month</th>\n      <th>day</th>\n    </tr>\n  </thead>\n  <tbody>\n    <tr>\n      <th>0</th>\n      <td>69</td>\n      <td>91</td>\n      <td>-2</td>\n      <td>46</td>\n      <td>2021-05-21</td>\n      <td>2021</td>\n      <td>5</td>\n      <td>21</td>\n    </tr>\n    <tr>\n      <th>1</th>\n      <td>149</td>\n      <td>84</td>\n      <td>143</td>\n      <td>64</td>\n      <td>2019-08-15</td>\n      <td>2019</td>\n      <td>8</td>\n      <td>15</td>\n    </tr>\n    <tr>\n      <th>2</th>\n      <td>71</td>\n      <td>53</td>\n      <td>23</td>\n      <td>112</td>\n      <td>2019-02-24</td>\n      <td>2019</td>\n      <td>2</td>\n      <td>24</td>\n    </tr>\n    <tr>\n      <th>3</th>\n      <td>26</td>\n      <td>24</td>\n      <td>25</td>\n      <td>61</td>\n      <td>2020-07-28</td>\n      <td>2020</td>\n      <td>7</td>\n      <td>28</td>\n    </tr>\n    <tr>\n      <th>4</th>\n      <td>83</td>\n      <td>43</td>\n      <td>118</td>\n      <td>22</td>\n      <td>2019-08-09</td>\n      <td>2019</td>\n      <td>8</td>\n      <td>9</td>\n    </tr>\n    <tr>\n      <th>...</th>\n      <td>...</td>\n      <td>...</td>\n      <td>...</td>\n      <td>...</td>\n      <td>...</td>\n      <td>...</td>\n      <td>...</td>\n      <td>...</td>\n    </tr>\n    <tr>\n      <th>95</th>\n      <td>52</td>\n      <td>119</td>\n      <td>101</td>\n      <td>76</td>\n      <td>2020-07-17</td>\n      <td>2020</td>\n      <td>7</td>\n      <td>17</td>\n    </tr>\n    <tr>\n      <th>96</th>\n      <td>15</td>\n      <td>114</td>\n      <td>134</td>\n      <td>132</td>\n      <td>2020-12-04</td>\n      <td>2020</td>\n      <td>12</td>\n      <td>4</td>\n    </tr>\n    <tr>\n      <th>97</th>\n      <td>80</td>\n      <td>48</td>\n      <td>59</td>\n      <td>29</td>\n      <td>2020-01-27</td>\n      <td>2020</td>\n      <td>1</td>\n      <td>27</td>\n    </tr>\n    <tr>\n      <th>98</th>\n      <td>66</td>\n      <td>43</td>\n      <td>117</td>\n      <td>89</td>\n      <td>2019-01-29</td>\n      <td>2019</td>\n      <td>1</td>\n      <td>29</td>\n    </tr>\n    <tr>\n      <th>99</th>\n      <td>106</td>\n      <td>64</td>\n      <td>130</td>\n      <td>-6</td>\n      <td>2021-01-17</td>\n      <td>2021</td>\n      <td>1</td>\n      <td>17</td>\n    </tr>\n  </tbody>\n</table>\n<p>100 rows × 8 columns</p>\n</div>"
     },
     "execution_count": 8,
     "metadata": {},
     "output_type": "execute_result"
    }
   ],
   "source": [
    "train"
   ],
   "metadata": {
    "collapsed": false,
    "pycharm": {
     "name": "#%%\n"
    }
   }
  },
  {
   "cell_type": "code",
   "execution_count": 9,
   "outputs": [
    {
     "data": {
      "text/plain": "       A    B    C    D  year  month  day\n0      1   46   90   26  2019     12   15\n1     -6   43   19   91  2019     11   31\n2      4  110  134   60  2021      4   23\n3     -1   88  109   37  2021      5   20\n4      4   40  100   31  2021      4   21\n..   ...  ...  ...  ...   ...    ...  ...\n161  112  145  108  105  2021      8   19\n162  126   38   97  140  2021      7   31\n163   94    9  124  112  2021     12   23\n164  103   51  104  100  2021     12    9\n165  122   -1  102  101  2019      7   12\n\n[166 rows x 7 columns]",
      "text/html": "<div>\n<style scoped>\n    .dataframe tbody tr th:only-of-type {\n        vertical-align: middle;\n    }\n\n    .dataframe tbody tr th {\n        vertical-align: top;\n    }\n\n    .dataframe thead th {\n        text-align: right;\n    }\n</style>\n<table border=\"1\" class=\"dataframe\">\n  <thead>\n    <tr style=\"text-align: right;\">\n      <th></th>\n      <th>A</th>\n      <th>B</th>\n      <th>C</th>\n      <th>D</th>\n      <th>year</th>\n      <th>month</th>\n      <th>day</th>\n    </tr>\n  </thead>\n  <tbody>\n    <tr>\n      <th>0</th>\n      <td>1</td>\n      <td>46</td>\n      <td>90</td>\n      <td>26</td>\n      <td>2019</td>\n      <td>12</td>\n      <td>15</td>\n    </tr>\n    <tr>\n      <th>1</th>\n      <td>-6</td>\n      <td>43</td>\n      <td>19</td>\n      <td>91</td>\n      <td>2019</td>\n      <td>11</td>\n      <td>31</td>\n    </tr>\n    <tr>\n      <th>2</th>\n      <td>4</td>\n      <td>110</td>\n      <td>134</td>\n      <td>60</td>\n      <td>2021</td>\n      <td>4</td>\n      <td>23</td>\n    </tr>\n    <tr>\n      <th>3</th>\n      <td>-1</td>\n      <td>88</td>\n      <td>109</td>\n      <td>37</td>\n      <td>2021</td>\n      <td>5</td>\n      <td>20</td>\n    </tr>\n    <tr>\n      <th>4</th>\n      <td>4</td>\n      <td>40</td>\n      <td>100</td>\n      <td>31</td>\n      <td>2021</td>\n      <td>4</td>\n      <td>21</td>\n    </tr>\n    <tr>\n      <th>...</th>\n      <td>...</td>\n      <td>...</td>\n      <td>...</td>\n      <td>...</td>\n      <td>...</td>\n      <td>...</td>\n      <td>...</td>\n    </tr>\n    <tr>\n      <th>161</th>\n      <td>112</td>\n      <td>145</td>\n      <td>108</td>\n      <td>105</td>\n      <td>2021</td>\n      <td>8</td>\n      <td>19</td>\n    </tr>\n    <tr>\n      <th>162</th>\n      <td>126</td>\n      <td>38</td>\n      <td>97</td>\n      <td>140</td>\n      <td>2021</td>\n      <td>7</td>\n      <td>31</td>\n    </tr>\n    <tr>\n      <th>163</th>\n      <td>94</td>\n      <td>9</td>\n      <td>124</td>\n      <td>112</td>\n      <td>2021</td>\n      <td>12</td>\n      <td>23</td>\n    </tr>\n    <tr>\n      <th>164</th>\n      <td>103</td>\n      <td>51</td>\n      <td>104</td>\n      <td>100</td>\n      <td>2021</td>\n      <td>12</td>\n      <td>9</td>\n    </tr>\n    <tr>\n      <th>165</th>\n      <td>122</td>\n      <td>-1</td>\n      <td>102</td>\n      <td>101</td>\n      <td>2019</td>\n      <td>7</td>\n      <td>12</td>\n    </tr>\n  </tbody>\n</table>\n<p>166 rows × 7 columns</p>\n</div>"
     },
     "execution_count": 9,
     "metadata": {},
     "output_type": "execute_result"
    }
   ],
   "source": [
    "new_train"
   ],
   "metadata": {
    "collapsed": false,
    "pycharm": {
     "name": "#%%\n"
    }
   }
  },
  {
   "cell_type": "code",
   "execution_count": 15,
   "outputs": [
    {
     "data": {
      "text/plain": "   num_0      cat_1   num_2         cat_3  num_4               cat_5  \\\n0     25    Private  226802          11th      7       Never-married   \n1     38    Private   89814       HS-grad      9  Married-civ-spouse   \n2     28  Local-gov  336951    Assoc-acdm     12  Married-civ-spouse   \n3     44    Private  160323  Some-college     10  Married-civ-spouse   \n4     18          ?  103497  Some-college     10       Never-married   \n\n               cat_6      cat_7  cat_8   cat_9  num_10  num_11  num_12  \\\n0  Machine-op-inspct  Own-child  Black    Male       0       0      40   \n1    Farming-fishing    Husband  White    Male       0       0      50   \n2    Protective-serv    Husband  White    Male       0       0      40   \n3  Machine-op-inspct    Husband  Black    Male    7688       0      40   \n4                  ?  Own-child  White  Female       0       0      30   \n\n          cat_13  target  \n0  United-States   False  \n1  United-States   False  \n2  United-States    True  \n3  United-States    True  \n4  United-States   False  ",
      "text/html": "<div>\n<style scoped>\n    .dataframe tbody tr th:only-of-type {\n        vertical-align: middle;\n    }\n\n    .dataframe tbody tr th {\n        vertical-align: top;\n    }\n\n    .dataframe thead th {\n        text-align: right;\n    }\n</style>\n<table border=\"1\" class=\"dataframe\">\n  <thead>\n    <tr style=\"text-align: right;\">\n      <th></th>\n      <th>num_0</th>\n      <th>cat_1</th>\n      <th>num_2</th>\n      <th>cat_3</th>\n      <th>num_4</th>\n      <th>cat_5</th>\n      <th>cat_6</th>\n      <th>cat_7</th>\n      <th>cat_8</th>\n      <th>cat_9</th>\n      <th>num_10</th>\n      <th>num_11</th>\n      <th>num_12</th>\n      <th>cat_13</th>\n      <th>target</th>\n    </tr>\n  </thead>\n  <tbody>\n    <tr>\n      <th>0</th>\n      <td>25</td>\n      <td>Private</td>\n      <td>226802</td>\n      <td>11th</td>\n      <td>7</td>\n      <td>Never-married</td>\n      <td>Machine-op-inspct</td>\n      <td>Own-child</td>\n      <td>Black</td>\n      <td>Male</td>\n      <td>0</td>\n      <td>0</td>\n      <td>40</td>\n      <td>United-States</td>\n      <td>False</td>\n    </tr>\n    <tr>\n      <th>1</th>\n      <td>38</td>\n      <td>Private</td>\n      <td>89814</td>\n      <td>HS-grad</td>\n      <td>9</td>\n      <td>Married-civ-spouse</td>\n      <td>Farming-fishing</td>\n      <td>Husband</td>\n      <td>White</td>\n      <td>Male</td>\n      <td>0</td>\n      <td>0</td>\n      <td>50</td>\n      <td>United-States</td>\n      <td>False</td>\n    </tr>\n    <tr>\n      <th>2</th>\n      <td>28</td>\n      <td>Local-gov</td>\n      <td>336951</td>\n      <td>Assoc-acdm</td>\n      <td>12</td>\n      <td>Married-civ-spouse</td>\n      <td>Protective-serv</td>\n      <td>Husband</td>\n      <td>White</td>\n      <td>Male</td>\n      <td>0</td>\n      <td>0</td>\n      <td>40</td>\n      <td>United-States</td>\n      <td>True</td>\n    </tr>\n    <tr>\n      <th>3</th>\n      <td>44</td>\n      <td>Private</td>\n      <td>160323</td>\n      <td>Some-college</td>\n      <td>10</td>\n      <td>Married-civ-spouse</td>\n      <td>Machine-op-inspct</td>\n      <td>Husband</td>\n      <td>Black</td>\n      <td>Male</td>\n      <td>7688</td>\n      <td>0</td>\n      <td>40</td>\n      <td>United-States</td>\n      <td>True</td>\n    </tr>\n    <tr>\n      <th>4</th>\n      <td>18</td>\n      <td>?</td>\n      <td>103497</td>\n      <td>Some-college</td>\n      <td>10</td>\n      <td>Never-married</td>\n      <td>?</td>\n      <td>Own-child</td>\n      <td>White</td>\n      <td>Female</td>\n      <td>0</td>\n      <td>0</td>\n      <td>30</td>\n      <td>United-States</td>\n      <td>False</td>\n    </tr>\n  </tbody>\n</table>\n</div>"
     },
     "execution_count": 15,
     "metadata": {},
     "output_type": "execute_result"
    }
   ],
   "source": [
    "# Real-world data experiment\n",
    "dataset_pth = f\"../data/adult/adult.gz\"\n",
    "\n",
    "data = pd.read_csv(dataset_pth)\n",
    "data.fillna(data.mean(), inplace=True)\n",
    "data.head()"
   ],
   "metadata": {
    "collapsed": false,
    "pycharm": {
     "name": "#%%\n"
    }
   }
  },
  {
   "cell_type": "code",
   "execution_count": 24,
   "outputs": [],
   "source": [
    "from sklearn.model_selection import train_test_split\n",
    "\n",
    "cat_cols = [col for col in data.columns if col.startswith(\"cat\")]\n",
    "\n",
    "X_train, X_test, y_train, y_test = train_test_split(\n",
    "    data.drop(\"target\", axis=1),\n",
    "    data[[\"target\"]],\n",
    "    test_size=0.85,\n",
    "    shuffle=False,\n",
    "    random_state=42,\n",
    ")\n",
    "X_test, y_test = X_test.reset_index(drop=True), y_test.reset_index(drop=True)"
   ],
   "metadata": {
    "collapsed": false,
    "pycharm": {
     "name": "#%%\n"
    }
   }
  },
  {
   "cell_type": "code",
   "execution_count": 25,
   "outputs": [
    {
     "data": {
      "text/plain": "      num_0         cat_1   num_2         cat_3  num_4                  cat_5  \\\n0        25       Private  226802          11th      7          Never-married   \n1        38       Private   89814       HS-grad      9     Married-civ-spouse   \n2        28     Local-gov  336951    Assoc-acdm     12     Married-civ-spouse   \n3        44       Private  160323  Some-college     10     Married-civ-spouse   \n4        18             ?  103497  Some-college     10          Never-married   \n...     ...           ...     ...           ...    ...                    ...   \n7321     35       Private  109133       HS-grad      9              Separated   \n7322     35       Private  196123    Assoc-acdm     12     Married-civ-spouse   \n7323     55       Private  123436     Assoc-voc     11     Married-civ-spouse   \n7324     56  Self-emp-inc   42298           9th      5     Married-civ-spouse   \n7325     44       Private  297248       HS-grad      9  Married-spouse-absent   \n\n                  cat_6          cat_7  cat_8   cat_9  num_10  num_11  num_12  \\\n0     Machine-op-inspct      Own-child  Black    Male       0       0      40   \n1       Farming-fishing        Husband  White    Male       0       0      50   \n2       Protective-serv        Husband  White    Male       0       0      40   \n3     Machine-op-inspct        Husband  Black    Male    7688       0      40   \n4                     ?      Own-child  White  Female       0       0      30   \n...                 ...            ...    ...     ...     ...     ...     ...   \n7321  Machine-op-inspct  Not-in-family  White    Male    3674       0      52   \n7322    Exec-managerial        Husband  White    Male       0       0      40   \n7323     Prof-specialty        Husband  White    Male       0       0      40   \n7324    Exec-managerial        Husband  Black    Male       0       0      40   \n7325       Craft-repair      Unmarried  White    Male       0       0      40   \n\n             cat_13  \n0     United-States  \n1     United-States  \n2     United-States  \n3     United-States  \n4     United-States  \n...             ...  \n7321  United-States  \n7322  United-States  \n7323  United-States  \n7324  United-States  \n7325       Columbia  \n\n[7326 rows x 14 columns]",
      "text/html": "<div>\n<style scoped>\n    .dataframe tbody tr th:only-of-type {\n        vertical-align: middle;\n    }\n\n    .dataframe tbody tr th {\n        vertical-align: top;\n    }\n\n    .dataframe thead th {\n        text-align: right;\n    }\n</style>\n<table border=\"1\" class=\"dataframe\">\n  <thead>\n    <tr style=\"text-align: right;\">\n      <th></th>\n      <th>num_0</th>\n      <th>cat_1</th>\n      <th>num_2</th>\n      <th>cat_3</th>\n      <th>num_4</th>\n      <th>cat_5</th>\n      <th>cat_6</th>\n      <th>cat_7</th>\n      <th>cat_8</th>\n      <th>cat_9</th>\n      <th>num_10</th>\n      <th>num_11</th>\n      <th>num_12</th>\n      <th>cat_13</th>\n    </tr>\n  </thead>\n  <tbody>\n    <tr>\n      <th>0</th>\n      <td>25</td>\n      <td>Private</td>\n      <td>226802</td>\n      <td>11th</td>\n      <td>7</td>\n      <td>Never-married</td>\n      <td>Machine-op-inspct</td>\n      <td>Own-child</td>\n      <td>Black</td>\n      <td>Male</td>\n      <td>0</td>\n      <td>0</td>\n      <td>40</td>\n      <td>United-States</td>\n    </tr>\n    <tr>\n      <th>1</th>\n      <td>38</td>\n      <td>Private</td>\n      <td>89814</td>\n      <td>HS-grad</td>\n      <td>9</td>\n      <td>Married-civ-spouse</td>\n      <td>Farming-fishing</td>\n      <td>Husband</td>\n      <td>White</td>\n      <td>Male</td>\n      <td>0</td>\n      <td>0</td>\n      <td>50</td>\n      <td>United-States</td>\n    </tr>\n    <tr>\n      <th>2</th>\n      <td>28</td>\n      <td>Local-gov</td>\n      <td>336951</td>\n      <td>Assoc-acdm</td>\n      <td>12</td>\n      <td>Married-civ-spouse</td>\n      <td>Protective-serv</td>\n      <td>Husband</td>\n      <td>White</td>\n      <td>Male</td>\n      <td>0</td>\n      <td>0</td>\n      <td>40</td>\n      <td>United-States</td>\n    </tr>\n    <tr>\n      <th>3</th>\n      <td>44</td>\n      <td>Private</td>\n      <td>160323</td>\n      <td>Some-college</td>\n      <td>10</td>\n      <td>Married-civ-spouse</td>\n      <td>Machine-op-inspct</td>\n      <td>Husband</td>\n      <td>Black</td>\n      <td>Male</td>\n      <td>7688</td>\n      <td>0</td>\n      <td>40</td>\n      <td>United-States</td>\n    </tr>\n    <tr>\n      <th>4</th>\n      <td>18</td>\n      <td>?</td>\n      <td>103497</td>\n      <td>Some-college</td>\n      <td>10</td>\n      <td>Never-married</td>\n      <td>?</td>\n      <td>Own-child</td>\n      <td>White</td>\n      <td>Female</td>\n      <td>0</td>\n      <td>0</td>\n      <td>30</td>\n      <td>United-States</td>\n    </tr>\n    <tr>\n      <th>...</th>\n      <td>...</td>\n      <td>...</td>\n      <td>...</td>\n      <td>...</td>\n      <td>...</td>\n      <td>...</td>\n      <td>...</td>\n      <td>...</td>\n      <td>...</td>\n      <td>...</td>\n      <td>...</td>\n      <td>...</td>\n      <td>...</td>\n      <td>...</td>\n    </tr>\n    <tr>\n      <th>7321</th>\n      <td>35</td>\n      <td>Private</td>\n      <td>109133</td>\n      <td>HS-grad</td>\n      <td>9</td>\n      <td>Separated</td>\n      <td>Machine-op-inspct</td>\n      <td>Not-in-family</td>\n      <td>White</td>\n      <td>Male</td>\n      <td>3674</td>\n      <td>0</td>\n      <td>52</td>\n      <td>United-States</td>\n    </tr>\n    <tr>\n      <th>7322</th>\n      <td>35</td>\n      <td>Private</td>\n      <td>196123</td>\n      <td>Assoc-acdm</td>\n      <td>12</td>\n      <td>Married-civ-spouse</td>\n      <td>Exec-managerial</td>\n      <td>Husband</td>\n      <td>White</td>\n      <td>Male</td>\n      <td>0</td>\n      <td>0</td>\n      <td>40</td>\n      <td>United-States</td>\n    </tr>\n    <tr>\n      <th>7323</th>\n      <td>55</td>\n      <td>Private</td>\n      <td>123436</td>\n      <td>Assoc-voc</td>\n      <td>11</td>\n      <td>Married-civ-spouse</td>\n      <td>Prof-specialty</td>\n      <td>Husband</td>\n      <td>White</td>\n      <td>Male</td>\n      <td>0</td>\n      <td>0</td>\n      <td>40</td>\n      <td>United-States</td>\n    </tr>\n    <tr>\n      <th>7324</th>\n      <td>56</td>\n      <td>Self-emp-inc</td>\n      <td>42298</td>\n      <td>9th</td>\n      <td>5</td>\n      <td>Married-civ-spouse</td>\n      <td>Exec-managerial</td>\n      <td>Husband</td>\n      <td>Black</td>\n      <td>Male</td>\n      <td>0</td>\n      <td>0</td>\n      <td>40</td>\n      <td>United-States</td>\n    </tr>\n    <tr>\n      <th>7325</th>\n      <td>44</td>\n      <td>Private</td>\n      <td>297248</td>\n      <td>HS-grad</td>\n      <td>9</td>\n      <td>Married-spouse-absent</td>\n      <td>Craft-repair</td>\n      <td>Unmarried</td>\n      <td>White</td>\n      <td>Male</td>\n      <td>0</td>\n      <td>0</td>\n      <td>40</td>\n      <td>Columbia</td>\n    </tr>\n  </tbody>\n</table>\n<p>7326 rows × 14 columns</p>\n</div>"
     },
     "execution_count": 25,
     "metadata": {},
     "output_type": "execute_result"
    }
   ],
   "source": [
    "X_train"
   ],
   "metadata": {
    "collapsed": false,
    "pycharm": {
     "name": "#%%\n"
    }
   }
  },
  {
   "cell_type": "code",
   "execution_count": 26,
   "outputs": [
    {
     "data": {
      "text/plain": "Fitting CTGAN transformers for each column:   0%|          | 0/15 [00:00<?, ?it/s]",
      "application/vnd.jupyter.widget-view+json": {
       "version_major": 2,
       "version_minor": 0,
       "model_id": "e11b97eec77b4e00b9e8be81b41135cb"
      }
     },
     "metadata": {},
     "output_type": "display_data"
    },
    {
     "data": {
      "text/plain": "Training CTGAN, epochs::   0%|          | 0/50 [00:00<?, ?it/s]",
      "application/vnd.jupyter.widget-view+json": {
       "version_major": 2,
       "version_minor": 0,
       "model_id": "a6100e1951524f12b35f12c1b0d3ede9"
      }
     },
     "metadata": {},
     "output_type": "display_data"
    },
    {
     "name": "stderr",
     "output_type": "stream",
     "text": [
      "/Users/andrejantonov/opt/anaconda3/envs/synthetic-data/lib/python3.7/site-packages/lightgbm/sklearn.py:726: UserWarning: 'early_stopping_rounds' argument is deprecated and will be removed in a future release of LightGBM. Pass 'early_stopping()' callback via 'callbacks' argument instead.\n",
      "  _log_warning(\"'early_stopping_rounds' argument is deprecated and will be removed in a future release of LightGBM. \"\n",
      "/Users/andrejantonov/opt/anaconda3/envs/synthetic-data/lib/python3.7/site-packages/lightgbm/sklearn.py:736: UserWarning: 'verbose' argument is deprecated and will be removed in a future release of LightGBM. Pass 'log_evaluation()' callback via 'callbacks' argument instead.\n",
      "  _log_warning(\"'verbose' argument is deprecated and will be removed in a future release of LightGBM. \"\n",
      "/Users/andrejantonov/opt/anaconda3/envs/synthetic-data/lib/python3.7/site-packages/lightgbm/basic.py:1780: UserWarning: Overriding the parameters from Reference Dataset.\n",
      "  _log_warning('Overriding the parameters from Reference Dataset.')\n",
      "/Users/andrejantonov/opt/anaconda3/envs/synthetic-data/lib/python3.7/site-packages/lightgbm/basic.py:1513: UserWarning: categorical_column in param dict is overridden.\n",
      "  _log_warning(f'{cat_alias} in param dict is overridden.')\n",
      "/Users/andrejantonov/opt/anaconda3/envs/synthetic-data/lib/python3.7/site-packages/lightgbm/sklearn.py:726: UserWarning: 'early_stopping_rounds' argument is deprecated and will be removed in a future release of LightGBM. Pass 'early_stopping()' callback via 'callbacks' argument instead.\n",
      "  _log_warning(\"'early_stopping_rounds' argument is deprecated and will be removed in a future release of LightGBM. \"\n",
      "/Users/andrejantonov/opt/anaconda3/envs/synthetic-data/lib/python3.7/site-packages/lightgbm/sklearn.py:736: UserWarning: 'verbose' argument is deprecated and will be removed in a future release of LightGBM. Pass 'log_evaluation()' callback via 'callbacks' argument instead.\n",
      "  _log_warning(\"'verbose' argument is deprecated and will be removed in a future release of LightGBM. \"\n",
      "/Users/andrejantonov/opt/anaconda3/envs/synthetic-data/lib/python3.7/site-packages/lightgbm/basic.py:1780: UserWarning: Overriding the parameters from Reference Dataset.\n",
      "  _log_warning('Overriding the parameters from Reference Dataset.')\n",
      "/Users/andrejantonov/opt/anaconda3/envs/synthetic-data/lib/python3.7/site-packages/lightgbm/basic.py:1513: UserWarning: categorical_column in param dict is overridden.\n",
      "  _log_warning(f'{cat_alias} in param dict is overridden.')\n",
      "/Users/andrejantonov/opt/anaconda3/envs/synthetic-data/lib/python3.7/site-packages/lightgbm/sklearn.py:726: UserWarning: 'early_stopping_rounds' argument is deprecated and will be removed in a future release of LightGBM. Pass 'early_stopping()' callback via 'callbacks' argument instead.\n",
      "  _log_warning(\"'early_stopping_rounds' argument is deprecated and will be removed in a future release of LightGBM. \"\n",
      "/Users/andrejantonov/opt/anaconda3/envs/synthetic-data/lib/python3.7/site-packages/lightgbm/sklearn.py:736: UserWarning: 'verbose' argument is deprecated and will be removed in a future release of LightGBM. Pass 'log_evaluation()' callback via 'callbacks' argument instead.\n",
      "  _log_warning(\"'verbose' argument is deprecated and will be removed in a future release of LightGBM. \"\n",
      "/Users/andrejantonov/opt/anaconda3/envs/synthetic-data/lib/python3.7/site-packages/lightgbm/basic.py:1780: UserWarning: Overriding the parameters from Reference Dataset.\n",
      "  _log_warning('Overriding the parameters from Reference Dataset.')\n",
      "/Users/andrejantonov/opt/anaconda3/envs/synthetic-data/lib/python3.7/site-packages/lightgbm/basic.py:1513: UserWarning: categorical_column in param dict is overridden.\n",
      "  _log_warning(f'{cat_alias} in param dict is overridden.')\n",
      "/Users/andrejantonov/opt/anaconda3/envs/synthetic-data/lib/python3.7/site-packages/lightgbm/sklearn.py:726: UserWarning: 'early_stopping_rounds' argument is deprecated and will be removed in a future release of LightGBM. Pass 'early_stopping()' callback via 'callbacks' argument instead.\n",
      "  _log_warning(\"'early_stopping_rounds' argument is deprecated and will be removed in a future release of LightGBM. \"\n",
      "/Users/andrejantonov/opt/anaconda3/envs/synthetic-data/lib/python3.7/site-packages/lightgbm/sklearn.py:736: UserWarning: 'verbose' argument is deprecated and will be removed in a future release of LightGBM. Pass 'log_evaluation()' callback via 'callbacks' argument instead.\n",
      "  _log_warning(\"'verbose' argument is deprecated and will be removed in a future release of LightGBM. \"\n",
      "/Users/andrejantonov/opt/anaconda3/envs/synthetic-data/lib/python3.7/site-packages/lightgbm/basic.py:1780: UserWarning: Overriding the parameters from Reference Dataset.\n",
      "  _log_warning('Overriding the parameters from Reference Dataset.')\n",
      "/Users/andrejantonov/opt/anaconda3/envs/synthetic-data/lib/python3.7/site-packages/lightgbm/basic.py:1513: UserWarning: categorical_column in param dict is overridden.\n",
      "  _log_warning(f'{cat_alias} in param dict is overridden.')\n",
      "/Users/andrejantonov/opt/anaconda3/envs/synthetic-data/lib/python3.7/site-packages/lightgbm/sklearn.py:726: UserWarning: 'early_stopping_rounds' argument is deprecated and will be removed in a future release of LightGBM. Pass 'early_stopping()' callback via 'callbacks' argument instead.\n",
      "  _log_warning(\"'early_stopping_rounds' argument is deprecated and will be removed in a future release of LightGBM. \"\n",
      "/Users/andrejantonov/opt/anaconda3/envs/synthetic-data/lib/python3.7/site-packages/lightgbm/sklearn.py:736: UserWarning: 'verbose' argument is deprecated and will be removed in a future release of LightGBM. Pass 'log_evaluation()' callback via 'callbacks' argument instead.\n",
      "  _log_warning(\"'verbose' argument is deprecated and will be removed in a future release of LightGBM. \"\n",
      "/Users/andrejantonov/opt/anaconda3/envs/synthetic-data/lib/python3.7/site-packages/lightgbm/basic.py:1780: UserWarning: Overriding the parameters from Reference Dataset.\n",
      "  _log_warning('Overriding the parameters from Reference Dataset.')\n",
      "/Users/andrejantonov/opt/anaconda3/envs/synthetic-data/lib/python3.7/site-packages/lightgbm/basic.py:1513: UserWarning: categorical_column in param dict is overridden.\n",
      "  _log_warning(f'{cat_alias} in param dict is overridden.')\n"
     ]
    }
   ],
   "source": [
    "X_new, Y_new = GANGenerator(\n",
    "    gen_x_times=1.1,\n",
    "    cat_cols=cat_cols,\n",
    "    bot_filter_quantile=0.001,\n",
    "    top_filter_quantile=0.999,\n",
    "    is_post_process=True,\n",
    "    adversarial_model_params = {\n",
    "        \"metrics\": \"AUC\",\n",
    "        \"max_depth\": 2,\n",
    "        \"max_bin\": 100,\n",
    "        \"learning_rate\": 0.02,\n",
    "        \"random_state\": 42,\n",
    "        \"n_estimators\": 500,\n",
    "    },\n",
    "    pregeneration_frac=2,\n",
    "    only_generated_data=False,\n",
    "    gan_params = {\n",
    "        \"batch_size\": 500,\n",
    "        \"patience\": 25,\n",
    "        \"epochs\": 50\n",
    "    }\n",
    ").generate_data_pipe(\n",
    "    X_train,\n",
    "    y_train,\n",
    "    X_test,\n",
    "    deep_copy=True,\n",
    "    only_adversarial=False,\n",
    "    use_adversarial=True\n",
    ")"
   ],
   "metadata": {
    "collapsed": false,
    "pycharm": {
     "name": "#%%\n"
    }
   }
  },
  {
   "cell_type": "code",
   "execution_count": 27,
   "outputs": [
    {
     "data": {
      "text/plain": "       num_0             cat_1   num_2         cat_3  num_4  \\\n0         30         Local-gov   57722       Masters     13   \n1         75           Private  217196  Some-college      4   \n2         37           Private  181628           9th      9   \n3         34           Private  153016       5th-6th     13   \n4         47                 ?   87484     Bachelors      8   \n...      ...               ...     ...           ...    ...   \n11293     76  Self-emp-not-inc   42162       HS-grad      9   \n11294     71         Local-gov  161342       HS-grad      9   \n11295     77                 ?  309955    Assoc-acdm     12   \n11296     46           Private  168191       HS-grad      9   \n11297     36           Private   34364    Assoc-acdm     12   \n\n                    cat_5            cat_6          cat_7  cat_8   cat_9  \\\n0           Never-married                ?  Not-in-family  White    Male   \n1      Married-civ-spouse     Adm-clerical           Wife  White    Male   \n2                Divorced  Protective-serv           Wife  White    Male   \n3      Married-civ-spouse  Exec-managerial  Not-in-family  Black    Male   \n4           Never-married     Craft-repair      Unmarried  White  Female   \n...                   ...              ...            ...    ...     ...   \n11293             Widowed  Exec-managerial  Not-in-family  White  Female   \n11294            Divorced  Exec-managerial      Unmarried  White  Female   \n11295  Married-civ-spouse                ?        Husband  White    Male   \n11296           Separated     Craft-repair  Not-in-family  White    Male   \n11297           Separated     Tech-support  Not-in-family  White  Female   \n\n       num_10  num_11  num_12         cat_13  \n0         192       8      39  United-States  \n1         184       1      40  United-States  \n2          19       2      39  United-States  \n3          95       9      39  United-States  \n4         212       3      18  United-States  \n...       ...     ...     ...            ...  \n11293       0       0       2  United-States  \n11294       0       0       3  United-States  \n11295       0    1411       2  United-States  \n11296       0       0       2          Italy  \n11297       0       0       3  United-States  \n\n[11298 rows x 14 columns]",
      "text/html": "<div>\n<style scoped>\n    .dataframe tbody tr th:only-of-type {\n        vertical-align: middle;\n    }\n\n    .dataframe tbody tr th {\n        vertical-align: top;\n    }\n\n    .dataframe thead th {\n        text-align: right;\n    }\n</style>\n<table border=\"1\" class=\"dataframe\">\n  <thead>\n    <tr style=\"text-align: right;\">\n      <th></th>\n      <th>num_0</th>\n      <th>cat_1</th>\n      <th>num_2</th>\n      <th>cat_3</th>\n      <th>num_4</th>\n      <th>cat_5</th>\n      <th>cat_6</th>\n      <th>cat_7</th>\n      <th>cat_8</th>\n      <th>cat_9</th>\n      <th>num_10</th>\n      <th>num_11</th>\n      <th>num_12</th>\n      <th>cat_13</th>\n    </tr>\n  </thead>\n  <tbody>\n    <tr>\n      <th>0</th>\n      <td>30</td>\n      <td>Local-gov</td>\n      <td>57722</td>\n      <td>Masters</td>\n      <td>13</td>\n      <td>Never-married</td>\n      <td>?</td>\n      <td>Not-in-family</td>\n      <td>White</td>\n      <td>Male</td>\n      <td>192</td>\n      <td>8</td>\n      <td>39</td>\n      <td>United-States</td>\n    </tr>\n    <tr>\n      <th>1</th>\n      <td>75</td>\n      <td>Private</td>\n      <td>217196</td>\n      <td>Some-college</td>\n      <td>4</td>\n      <td>Married-civ-spouse</td>\n      <td>Adm-clerical</td>\n      <td>Wife</td>\n      <td>White</td>\n      <td>Male</td>\n      <td>184</td>\n      <td>1</td>\n      <td>40</td>\n      <td>United-States</td>\n    </tr>\n    <tr>\n      <th>2</th>\n      <td>37</td>\n      <td>Private</td>\n      <td>181628</td>\n      <td>9th</td>\n      <td>9</td>\n      <td>Divorced</td>\n      <td>Protective-serv</td>\n      <td>Wife</td>\n      <td>White</td>\n      <td>Male</td>\n      <td>19</td>\n      <td>2</td>\n      <td>39</td>\n      <td>United-States</td>\n    </tr>\n    <tr>\n      <th>3</th>\n      <td>34</td>\n      <td>Private</td>\n      <td>153016</td>\n      <td>5th-6th</td>\n      <td>13</td>\n      <td>Married-civ-spouse</td>\n      <td>Exec-managerial</td>\n      <td>Not-in-family</td>\n      <td>Black</td>\n      <td>Male</td>\n      <td>95</td>\n      <td>9</td>\n      <td>39</td>\n      <td>United-States</td>\n    </tr>\n    <tr>\n      <th>4</th>\n      <td>47</td>\n      <td>?</td>\n      <td>87484</td>\n      <td>Bachelors</td>\n      <td>8</td>\n      <td>Never-married</td>\n      <td>Craft-repair</td>\n      <td>Unmarried</td>\n      <td>White</td>\n      <td>Female</td>\n      <td>212</td>\n      <td>3</td>\n      <td>18</td>\n      <td>United-States</td>\n    </tr>\n    <tr>\n      <th>...</th>\n      <td>...</td>\n      <td>...</td>\n      <td>...</td>\n      <td>...</td>\n      <td>...</td>\n      <td>...</td>\n      <td>...</td>\n      <td>...</td>\n      <td>...</td>\n      <td>...</td>\n      <td>...</td>\n      <td>...</td>\n      <td>...</td>\n      <td>...</td>\n    </tr>\n    <tr>\n      <th>11293</th>\n      <td>76</td>\n      <td>Self-emp-not-inc</td>\n      <td>42162</td>\n      <td>HS-grad</td>\n      <td>9</td>\n      <td>Widowed</td>\n      <td>Exec-managerial</td>\n      <td>Not-in-family</td>\n      <td>White</td>\n      <td>Female</td>\n      <td>0</td>\n      <td>0</td>\n      <td>2</td>\n      <td>United-States</td>\n    </tr>\n    <tr>\n      <th>11294</th>\n      <td>71</td>\n      <td>Local-gov</td>\n      <td>161342</td>\n      <td>HS-grad</td>\n      <td>9</td>\n      <td>Divorced</td>\n      <td>Exec-managerial</td>\n      <td>Unmarried</td>\n      <td>White</td>\n      <td>Female</td>\n      <td>0</td>\n      <td>0</td>\n      <td>3</td>\n      <td>United-States</td>\n    </tr>\n    <tr>\n      <th>11295</th>\n      <td>77</td>\n      <td>?</td>\n      <td>309955</td>\n      <td>Assoc-acdm</td>\n      <td>12</td>\n      <td>Married-civ-spouse</td>\n      <td>?</td>\n      <td>Husband</td>\n      <td>White</td>\n      <td>Male</td>\n      <td>0</td>\n      <td>1411</td>\n      <td>2</td>\n      <td>United-States</td>\n    </tr>\n    <tr>\n      <th>11296</th>\n      <td>46</td>\n      <td>Private</td>\n      <td>168191</td>\n      <td>HS-grad</td>\n      <td>9</td>\n      <td>Separated</td>\n      <td>Craft-repair</td>\n      <td>Not-in-family</td>\n      <td>White</td>\n      <td>Male</td>\n      <td>0</td>\n      <td>0</td>\n      <td>2</td>\n      <td>Italy</td>\n    </tr>\n    <tr>\n      <th>11297</th>\n      <td>36</td>\n      <td>Private</td>\n      <td>34364</td>\n      <td>Assoc-acdm</td>\n      <td>12</td>\n      <td>Separated</td>\n      <td>Tech-support</td>\n      <td>Not-in-family</td>\n      <td>White</td>\n      <td>Female</td>\n      <td>0</td>\n      <td>0</td>\n      <td>3</td>\n      <td>United-States</td>\n    </tr>\n  </tbody>\n</table>\n<p>11298 rows × 14 columns</p>\n</div>"
     },
     "execution_count": 27,
     "metadata": {},
     "output_type": "execute_result"
    }
   ],
   "source": [
    "X_new"
   ],
   "metadata": {
    "collapsed": false,
    "pycharm": {
     "name": "#%%\n"
    }
   }
  }
 ],
 "metadata": {
  "kernelspec": {
   "display_name": "Python 3",
   "language": "python",
   "name": "python3"
  },
  "language_info": {
   "codemirror_mode": {
    "name": "ipython",
    "version": 2
   },
   "file_extension": ".py",
   "mimetype": "text/x-python",
   "name": "python",
   "nbconvert_exporter": "python",
   "pygments_lexer": "ipython2",
   "version": "2.7.6"
  }
 },
 "nbformat": 4,
 "nbformat_minor": 0
}