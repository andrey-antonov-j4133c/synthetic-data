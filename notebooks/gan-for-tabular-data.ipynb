{
 "cells": [
  {
   "cell_type": "code",
   "execution_count": 15,
   "metadata": {
    "collapsed": true
   },
   "outputs": [],
   "source": [
    "import os\n",
    "\n",
    "from tabgan.sampler import OriginalGenerator, GANGenerator\n",
    "import pandas as pd\n",
    "import numpy as np"
   ]
  },
  {
   "cell_type": "code",
   "execution_count": 16,
   "outputs": [
    {
     "name": "stderr",
     "output_type": "stream",
     "text": [
      "/Users/andrejantonov/opt/anaconda3/envs/synthetic-data/lib/python3.7/site-packages/lightgbm/sklearn.py:726: UserWarning: 'early_stopping_rounds' argument is deprecated and will be removed in a future release of LightGBM. Pass 'early_stopping()' callback via 'callbacks' argument instead.\n",
      "  _log_warning(\"'early_stopping_rounds' argument is deprecated and will be removed in a future release of LightGBM. \"\n",
      "/Users/andrejantonov/opt/anaconda3/envs/synthetic-data/lib/python3.7/site-packages/lightgbm/sklearn.py:736: UserWarning: 'verbose' argument is deprecated and will be removed in a future release of LightGBM. Pass 'log_evaluation()' callback via 'callbacks' argument instead.\n",
      "  _log_warning(\"'verbose' argument is deprecated and will be removed in a future release of LightGBM. \"\n",
      "/Users/andrejantonov/opt/anaconda3/envs/synthetic-data/lib/python3.7/site-packages/lightgbm/sklearn.py:726: UserWarning: 'early_stopping_rounds' argument is deprecated and will be removed in a future release of LightGBM. Pass 'early_stopping()' callback via 'callbacks' argument instead.\n",
      "  _log_warning(\"'early_stopping_rounds' argument is deprecated and will be removed in a future release of LightGBM. \"\n",
      "/Users/andrejantonov/opt/anaconda3/envs/synthetic-data/lib/python3.7/site-packages/lightgbm/sklearn.py:736: UserWarning: 'verbose' argument is deprecated and will be removed in a future release of LightGBM. Pass 'log_evaluation()' callback via 'callbacks' argument instead.\n",
      "  _log_warning(\"'verbose' argument is deprecated and will be removed in a future release of LightGBM. \"\n",
      "/Users/andrejantonov/opt/anaconda3/envs/synthetic-data/lib/python3.7/site-packages/lightgbm/sklearn.py:726: UserWarning: 'early_stopping_rounds' argument is deprecated and will be removed in a future release of LightGBM. Pass 'early_stopping()' callback via 'callbacks' argument instead.\n",
      "  _log_warning(\"'early_stopping_rounds' argument is deprecated and will be removed in a future release of LightGBM. \"\n",
      "/Users/andrejantonov/opt/anaconda3/envs/synthetic-data/lib/python3.7/site-packages/lightgbm/sklearn.py:736: UserWarning: 'verbose' argument is deprecated and will be removed in a future release of LightGBM. Pass 'log_evaluation()' callback via 'callbacks' argument instead.\n",
      "  _log_warning(\"'verbose' argument is deprecated and will be removed in a future release of LightGBM. \"\n",
      "/Users/andrejantonov/opt/anaconda3/envs/synthetic-data/lib/python3.7/site-packages/lightgbm/sklearn.py:726: UserWarning: 'early_stopping_rounds' argument is deprecated and will be removed in a future release of LightGBM. Pass 'early_stopping()' callback via 'callbacks' argument instead.\n",
      "  _log_warning(\"'early_stopping_rounds' argument is deprecated and will be removed in a future release of LightGBM. \"\n",
      "/Users/andrejantonov/opt/anaconda3/envs/synthetic-data/lib/python3.7/site-packages/lightgbm/sklearn.py:736: UserWarning: 'verbose' argument is deprecated and will be removed in a future release of LightGBM. Pass 'log_evaluation()' callback via 'callbacks' argument instead.\n",
      "  _log_warning(\"'verbose' argument is deprecated and will be removed in a future release of LightGBM. \"\n",
      "/Users/andrejantonov/opt/anaconda3/envs/synthetic-data/lib/python3.7/site-packages/lightgbm/sklearn.py:726: UserWarning: 'early_stopping_rounds' argument is deprecated and will be removed in a future release of LightGBM. Pass 'early_stopping()' callback via 'callbacks' argument instead.\n",
      "  _log_warning(\"'early_stopping_rounds' argument is deprecated and will be removed in a future release of LightGBM. \"\n",
      "/Users/andrejantonov/opt/anaconda3/envs/synthetic-data/lib/python3.7/site-packages/lightgbm/sklearn.py:736: UserWarning: 'verbose' argument is deprecated and will be removed in a future release of LightGBM. Pass 'log_evaluation()' callback via 'callbacks' argument instead.\n",
      "  _log_warning(\"'verbose' argument is deprecated and will be removed in a future release of LightGBM. \"\n"
     ]
    },
    {
     "data": {
      "text/plain": "Fitting CTGAN transformers for each column:   0%|          | 0/5 [00:00<?, ?it/s]",
      "application/vnd.jupyter.widget-view+json": {
       "version_major": 2,
       "version_minor": 0,
       "model_id": "f24f36fe383a4805b8cc14c2024fb3a4"
      }
     },
     "metadata": {},
     "output_type": "display_data"
    },
    {
     "data": {
      "text/plain": "Training CTGAN, epochs::   0%|          | 0/500 [00:00<?, ?it/s]",
      "application/vnd.jupyter.widget-view+json": {
       "version_major": 2,
       "version_minor": 0,
       "model_id": "5ce3b2214b234f67a9c38982356fed12"
      }
     },
     "metadata": {},
     "output_type": "display_data"
    },
    {
     "name": "stderr",
     "output_type": "stream",
     "text": [
      "/Users/andrejantonov/opt/anaconda3/envs/synthetic-data/lib/python3.7/site-packages/lightgbm/sklearn.py:726: UserWarning: 'early_stopping_rounds' argument is deprecated and will be removed in a future release of LightGBM. Pass 'early_stopping()' callback via 'callbacks' argument instead.\n",
      "  _log_warning(\"'early_stopping_rounds' argument is deprecated and will be removed in a future release of LightGBM. \"\n",
      "/Users/andrejantonov/opt/anaconda3/envs/synthetic-data/lib/python3.7/site-packages/lightgbm/sklearn.py:736: UserWarning: 'verbose' argument is deprecated and will be removed in a future release of LightGBM. Pass 'log_evaluation()' callback via 'callbacks' argument instead.\n",
      "  _log_warning(\"'verbose' argument is deprecated and will be removed in a future release of LightGBM. \"\n",
      "/Users/andrejantonov/opt/anaconda3/envs/synthetic-data/lib/python3.7/site-packages/lightgbm/sklearn.py:726: UserWarning: 'early_stopping_rounds' argument is deprecated and will be removed in a future release of LightGBM. Pass 'early_stopping()' callback via 'callbacks' argument instead.\n",
      "  _log_warning(\"'early_stopping_rounds' argument is deprecated and will be removed in a future release of LightGBM. \"\n",
      "/Users/andrejantonov/opt/anaconda3/envs/synthetic-data/lib/python3.7/site-packages/lightgbm/sklearn.py:736: UserWarning: 'verbose' argument is deprecated and will be removed in a future release of LightGBM. Pass 'log_evaluation()' callback via 'callbacks' argument instead.\n",
      "  _log_warning(\"'verbose' argument is deprecated and will be removed in a future release of LightGBM. \"\n",
      "/Users/andrejantonov/opt/anaconda3/envs/synthetic-data/lib/python3.7/site-packages/lightgbm/sklearn.py:726: UserWarning: 'early_stopping_rounds' argument is deprecated and will be removed in a future release of LightGBM. Pass 'early_stopping()' callback via 'callbacks' argument instead.\n",
      "  _log_warning(\"'early_stopping_rounds' argument is deprecated and will be removed in a future release of LightGBM. \"\n",
      "/Users/andrejantonov/opt/anaconda3/envs/synthetic-data/lib/python3.7/site-packages/lightgbm/sklearn.py:736: UserWarning: 'verbose' argument is deprecated and will be removed in a future release of LightGBM. Pass 'log_evaluation()' callback via 'callbacks' argument instead.\n",
      "  _log_warning(\"'verbose' argument is deprecated and will be removed in a future release of LightGBM. \"\n",
      "/Users/andrejantonov/opt/anaconda3/envs/synthetic-data/lib/python3.7/site-packages/lightgbm/sklearn.py:726: UserWarning: 'early_stopping_rounds' argument is deprecated and will be removed in a future release of LightGBM. Pass 'early_stopping()' callback via 'callbacks' argument instead.\n",
      "  _log_warning(\"'early_stopping_rounds' argument is deprecated and will be removed in a future release of LightGBM. \"\n",
      "/Users/andrejantonov/opt/anaconda3/envs/synthetic-data/lib/python3.7/site-packages/lightgbm/sklearn.py:736: UserWarning: 'verbose' argument is deprecated and will be removed in a future release of LightGBM. Pass 'log_evaluation()' callback via 'callbacks' argument instead.\n",
      "  _log_warning(\"'verbose' argument is deprecated and will be removed in a future release of LightGBM. \"\n",
      "/Users/andrejantonov/opt/anaconda3/envs/synthetic-data/lib/python3.7/site-packages/lightgbm/sklearn.py:726: UserWarning: 'early_stopping_rounds' argument is deprecated and will be removed in a future release of LightGBM. Pass 'early_stopping()' callback via 'callbacks' argument instead.\n",
      "  _log_warning(\"'early_stopping_rounds' argument is deprecated and will be removed in a future release of LightGBM. \"\n",
      "/Users/andrejantonov/opt/anaconda3/envs/synthetic-data/lib/python3.7/site-packages/lightgbm/sklearn.py:736: UserWarning: 'verbose' argument is deprecated and will be removed in a future release of LightGBM. Pass 'log_evaluation()' callback via 'callbacks' argument instead.\n",
      "  _log_warning(\"'verbose' argument is deprecated and will be removed in a future release of LightGBM. \"\n"
     ]
    },
    {
     "data": {
      "text/plain": "Fitting CTGAN transformers for each column:   0%|          | 0/5 [00:00<?, ?it/s]",
      "application/vnd.jupyter.widget-view+json": {
       "version_major": 2,
       "version_minor": 0,
       "model_id": "6ad4a0d2838b45ecb708580d2fd09635"
      }
     },
     "metadata": {},
     "output_type": "display_data"
    },
    {
     "data": {
      "text/plain": "Training CTGAN, epochs::   0%|          | 0/500 [00:00<?, ?it/s]",
      "application/vnd.jupyter.widget-view+json": {
       "version_major": 2,
       "version_minor": 0,
       "model_id": "4206d8c1164f4631bf9325da1523cc7c"
      }
     },
     "metadata": {},
     "output_type": "display_data"
    },
    {
     "name": "stderr",
     "output_type": "stream",
     "text": [
      "/Users/andrejantonov/opt/anaconda3/envs/synthetic-data/lib/python3.7/site-packages/lightgbm/sklearn.py:726: UserWarning: 'early_stopping_rounds' argument is deprecated and will be removed in a future release of LightGBM. Pass 'early_stopping()' callback via 'callbacks' argument instead.\n",
      "  _log_warning(\"'early_stopping_rounds' argument is deprecated and will be removed in a future release of LightGBM. \"\n",
      "/Users/andrejantonov/opt/anaconda3/envs/synthetic-data/lib/python3.7/site-packages/lightgbm/sklearn.py:736: UserWarning: 'verbose' argument is deprecated and will be removed in a future release of LightGBM. Pass 'log_evaluation()' callback via 'callbacks' argument instead.\n",
      "  _log_warning(\"'verbose' argument is deprecated and will be removed in a future release of LightGBM. \"\n",
      "/Users/andrejantonov/opt/anaconda3/envs/synthetic-data/lib/python3.7/site-packages/lightgbm/sklearn.py:726: UserWarning: 'early_stopping_rounds' argument is deprecated and will be removed in a future release of LightGBM. Pass 'early_stopping()' callback via 'callbacks' argument instead.\n",
      "  _log_warning(\"'early_stopping_rounds' argument is deprecated and will be removed in a future release of LightGBM. \"\n",
      "/Users/andrejantonov/opt/anaconda3/envs/synthetic-data/lib/python3.7/site-packages/lightgbm/sklearn.py:736: UserWarning: 'verbose' argument is deprecated and will be removed in a future release of LightGBM. Pass 'log_evaluation()' callback via 'callbacks' argument instead.\n",
      "  _log_warning(\"'verbose' argument is deprecated and will be removed in a future release of LightGBM. \"\n",
      "/Users/andrejantonov/opt/anaconda3/envs/synthetic-data/lib/python3.7/site-packages/lightgbm/sklearn.py:726: UserWarning: 'early_stopping_rounds' argument is deprecated and will be removed in a future release of LightGBM. Pass 'early_stopping()' callback via 'callbacks' argument instead.\n",
      "  _log_warning(\"'early_stopping_rounds' argument is deprecated and will be removed in a future release of LightGBM. \"\n",
      "/Users/andrejantonov/opt/anaconda3/envs/synthetic-data/lib/python3.7/site-packages/lightgbm/sklearn.py:736: UserWarning: 'verbose' argument is deprecated and will be removed in a future release of LightGBM. Pass 'log_evaluation()' callback via 'callbacks' argument instead.\n",
      "  _log_warning(\"'verbose' argument is deprecated and will be removed in a future release of LightGBM. \"\n",
      "/Users/andrejantonov/opt/anaconda3/envs/synthetic-data/lib/python3.7/site-packages/lightgbm/sklearn.py:726: UserWarning: 'early_stopping_rounds' argument is deprecated and will be removed in a future release of LightGBM. Pass 'early_stopping()' callback via 'callbacks' argument instead.\n",
      "  _log_warning(\"'early_stopping_rounds' argument is deprecated and will be removed in a future release of LightGBM. \"\n",
      "/Users/andrejantonov/opt/anaconda3/envs/synthetic-data/lib/python3.7/site-packages/lightgbm/sklearn.py:736: UserWarning: 'verbose' argument is deprecated and will be removed in a future release of LightGBM. Pass 'log_evaluation()' callback via 'callbacks' argument instead.\n",
      "  _log_warning(\"'verbose' argument is deprecated and will be removed in a future release of LightGBM. \"\n",
      "/Users/andrejantonov/opt/anaconda3/envs/synthetic-data/lib/python3.7/site-packages/lightgbm/sklearn.py:726: UserWarning: 'early_stopping_rounds' argument is deprecated and will be removed in a future release of LightGBM. Pass 'early_stopping()' callback via 'callbacks' argument instead.\n",
      "  _log_warning(\"'early_stopping_rounds' argument is deprecated and will be removed in a future release of LightGBM. \"\n",
      "/Users/andrejantonov/opt/anaconda3/envs/synthetic-data/lib/python3.7/site-packages/lightgbm/sklearn.py:736: UserWarning: 'verbose' argument is deprecated and will be removed in a future release of LightGBM. Pass 'log_evaluation()' callback via 'callbacks' argument instead.\n",
      "  _log_warning(\"'verbose' argument is deprecated and will be removed in a future release of LightGBM. \"\n"
     ]
    }
   ],
   "source": [
    "# Random data experiment\n",
    "train = pd.DataFrame(np.random.randint(-10, 150, size=(150, 4)), columns=list(\"ABCD\"))\n",
    "target = pd.DataFrame(np.random.randint(0, 2, size=(150, 1)), columns=list(\"Y\"))\n",
    "test = pd.DataFrame(np.random.randint(0, 100, size=(100, 4)), columns=list(\"ABCD\"))\n",
    "\n",
    "# generate data\n",
    "new_train1, new_target1 = OriginalGenerator().generate_data_pipe(train, target, test, )\n",
    "new_train2, new_target2 = GANGenerator().generate_data_pipe(train, target, test, )\n",
    "\n",
    "# example with all params defined\n",
    "new_train3, new_target3 = GANGenerator(\n",
    "    gen_x_times=1.1,\n",
    "    cat_cols=None,\n",
    "    bot_filter_quantile=0.001,\n",
    "    top_filter_quantile=0.999,\n",
    "    is_post_process=True,\n",
    "    adversarial_model_params = {\n",
    "        \"metrics\": \"AUC\",\n",
    "        \"max_depth\": 2,\n",
    "        \"max_bin\": 100,\n",
    "        \"learning_rate\": 0.02,\n",
    "        \"random_state\": 42,\n",
    "        \"n_estimators\": 500,\n",
    "    },\n",
    "    pregeneration_frac=2,\n",
    "    only_generated_data=False,\n",
    "    gan_params = {\n",
    "        \"batch_size\": 500,\n",
    "        \"patience\": 25,\n",
    "        \"epochs\": 500\n",
    "    }\n",
    ").generate_data_pipe(\n",
    "    train,\n",
    "    target,\n",
    "    test,\n",
    "    deep_copy=True,\n",
    "    only_adversarial=False,\n",
    "    use_adversarial=True\n",
    ")"
   ],
   "metadata": {
    "collapsed": false,
    "pycharm": {
     "name": "#%%\n"
    }
   }
  },
  {
   "cell_type": "code",
   "execution_count": 17,
   "outputs": [
    {
     "data": {
      "text/plain": "       A    B    C    D\n0    102  121   40   -9\n1     10   42   21   22\n2     46   97   15  131\n3     47   87   50   82\n4     55   16    0   -3\n..   ...  ...  ...  ...\n145    9   19   21   84\n146   66   92   50  148\n147   -5   61  107   98\n148   15   70   52  126\n149   -9   17   26   -7\n\n[150 rows x 4 columns]",
      "text/html": "<div>\n<style scoped>\n    .dataframe tbody tr th:only-of-type {\n        vertical-align: middle;\n    }\n\n    .dataframe tbody tr th {\n        vertical-align: top;\n    }\n\n    .dataframe thead th {\n        text-align: right;\n    }\n</style>\n<table border=\"1\" class=\"dataframe\">\n  <thead>\n    <tr style=\"text-align: right;\">\n      <th></th>\n      <th>A</th>\n      <th>B</th>\n      <th>C</th>\n      <th>D</th>\n    </tr>\n  </thead>\n  <tbody>\n    <tr>\n      <th>0</th>\n      <td>102</td>\n      <td>121</td>\n      <td>40</td>\n      <td>-9</td>\n    </tr>\n    <tr>\n      <th>1</th>\n      <td>10</td>\n      <td>42</td>\n      <td>21</td>\n      <td>22</td>\n    </tr>\n    <tr>\n      <th>2</th>\n      <td>46</td>\n      <td>97</td>\n      <td>15</td>\n      <td>131</td>\n    </tr>\n    <tr>\n      <th>3</th>\n      <td>47</td>\n      <td>87</td>\n      <td>50</td>\n      <td>82</td>\n    </tr>\n    <tr>\n      <th>4</th>\n      <td>55</td>\n      <td>16</td>\n      <td>0</td>\n      <td>-3</td>\n    </tr>\n    <tr>\n      <th>...</th>\n      <td>...</td>\n      <td>...</td>\n      <td>...</td>\n      <td>...</td>\n    </tr>\n    <tr>\n      <th>145</th>\n      <td>9</td>\n      <td>19</td>\n      <td>21</td>\n      <td>84</td>\n    </tr>\n    <tr>\n      <th>146</th>\n      <td>66</td>\n      <td>92</td>\n      <td>50</td>\n      <td>148</td>\n    </tr>\n    <tr>\n      <th>147</th>\n      <td>-5</td>\n      <td>61</td>\n      <td>107</td>\n      <td>98</td>\n    </tr>\n    <tr>\n      <th>148</th>\n      <td>15</td>\n      <td>70</td>\n      <td>52</td>\n      <td>126</td>\n    </tr>\n    <tr>\n      <th>149</th>\n      <td>-9</td>\n      <td>17</td>\n      <td>26</td>\n      <td>-7</td>\n    </tr>\n  </tbody>\n</table>\n<p>150 rows × 4 columns</p>\n</div>"
     },
     "execution_count": 17,
     "metadata": {},
     "output_type": "execute_result"
    }
   ],
   "source": [
    "train"
   ],
   "metadata": {
    "collapsed": false,
    "pycharm": {
     "name": "#%%\n"
    }
   }
  },
  {
   "cell_type": "code",
   "execution_count": 18,
   "outputs": [
    {
     "data": {
      "text/plain": "     Y\n0    1\n1    0\n2    1\n3    1\n4    0\n..  ..\n145  1\n146  1\n147  1\n148  0\n149  1\n\n[150 rows x 1 columns]",
      "text/html": "<div>\n<style scoped>\n    .dataframe tbody tr th:only-of-type {\n        vertical-align: middle;\n    }\n\n    .dataframe tbody tr th {\n        vertical-align: top;\n    }\n\n    .dataframe thead th {\n        text-align: right;\n    }\n</style>\n<table border=\"1\" class=\"dataframe\">\n  <thead>\n    <tr style=\"text-align: right;\">\n      <th></th>\n      <th>Y</th>\n    </tr>\n  </thead>\n  <tbody>\n    <tr>\n      <th>0</th>\n      <td>1</td>\n    </tr>\n    <tr>\n      <th>1</th>\n      <td>0</td>\n    </tr>\n    <tr>\n      <th>2</th>\n      <td>1</td>\n    </tr>\n    <tr>\n      <th>3</th>\n      <td>1</td>\n    </tr>\n    <tr>\n      <th>4</th>\n      <td>0</td>\n    </tr>\n    <tr>\n      <th>...</th>\n      <td>...</td>\n    </tr>\n    <tr>\n      <th>145</th>\n      <td>1</td>\n    </tr>\n    <tr>\n      <th>146</th>\n      <td>1</td>\n    </tr>\n    <tr>\n      <th>147</th>\n      <td>1</td>\n    </tr>\n    <tr>\n      <th>148</th>\n      <td>0</td>\n    </tr>\n    <tr>\n      <th>149</th>\n      <td>1</td>\n    </tr>\n  </tbody>\n</table>\n<p>150 rows × 1 columns</p>\n</div>"
     },
     "execution_count": 18,
     "metadata": {},
     "output_type": "execute_result"
    }
   ],
   "source": [
    "target"
   ],
   "metadata": {
    "collapsed": false,
    "pycharm": {
     "name": "#%%\n"
    }
   }
  },
  {
   "cell_type": "code",
   "execution_count": 19,
   "outputs": [
    {
     "data": {
      "text/plain": "     A   B   C   D\n0   88  76  25  74\n1   82  85  44  86\n2   86  84  21  57\n3   71  77  35  73\n4   75  84  49  85\n5   65  88  19  57\n6   64  78  49  78\n7   58  95  31  62\n8   80  68  38  56\n9   85  95  35  53\n10  87  28  17  67\n11  92  12  35  79\n12  94  50  21  88\n13  78  20  45  86\n14  55  78  22  96\n15  24  97  26  95\n16  24  70  12  93\n17  75  15   5  56\n18  65  41  31  74\n19  59  93  50  54\n20  63  30   5  97\n21  11  77  50  62\n22  47  87  50  82\n23  57  17  36  59\n24   1   2  16  74\n25  13  28  23  93\n26   9  19  21  84\n27  57  41  57  87\n28   0  65  53  63\n29  89  77  81  70\n30  86  88  85  72\n31  94  56  70  97\n32  80  88  75  56\n33  73   0  70  74\n34   1  70  68  59\n35  58   2  66  76\n36  10  42  21  22\n37  37  19  38   8\n38   2  46   1  44\n39   9  49  31  30\n40  27  45  42   9\n41  93  55  41  20\n42  37  55  52  52\n43  15  92   2  46\n44  63   1  10  20\n45  21  56  53  24\n46  75   6  28  43\n47  77  45  28  31\n48   8  90  55  26\n49  40  94  54   7\n50  43  42   3  10\n51  59  92  60   8\n52  36  38  73  16\n53  67  67  70  27\n54  51  58  83  46",
      "text/html": "<div>\n<style scoped>\n    .dataframe tbody tr th:only-of-type {\n        vertical-align: middle;\n    }\n\n    .dataframe tbody tr th {\n        vertical-align: top;\n    }\n\n    .dataframe thead th {\n        text-align: right;\n    }\n</style>\n<table border=\"1\" class=\"dataframe\">\n  <thead>\n    <tr style=\"text-align: right;\">\n      <th></th>\n      <th>A</th>\n      <th>B</th>\n      <th>C</th>\n      <th>D</th>\n    </tr>\n  </thead>\n  <tbody>\n    <tr>\n      <th>0</th>\n      <td>88</td>\n      <td>76</td>\n      <td>25</td>\n      <td>74</td>\n    </tr>\n    <tr>\n      <th>1</th>\n      <td>82</td>\n      <td>85</td>\n      <td>44</td>\n      <td>86</td>\n    </tr>\n    <tr>\n      <th>2</th>\n      <td>86</td>\n      <td>84</td>\n      <td>21</td>\n      <td>57</td>\n    </tr>\n    <tr>\n      <th>3</th>\n      <td>71</td>\n      <td>77</td>\n      <td>35</td>\n      <td>73</td>\n    </tr>\n    <tr>\n      <th>4</th>\n      <td>75</td>\n      <td>84</td>\n      <td>49</td>\n      <td>85</td>\n    </tr>\n    <tr>\n      <th>5</th>\n      <td>65</td>\n      <td>88</td>\n      <td>19</td>\n      <td>57</td>\n    </tr>\n    <tr>\n      <th>6</th>\n      <td>64</td>\n      <td>78</td>\n      <td>49</td>\n      <td>78</td>\n    </tr>\n    <tr>\n      <th>7</th>\n      <td>58</td>\n      <td>95</td>\n      <td>31</td>\n      <td>62</td>\n    </tr>\n    <tr>\n      <th>8</th>\n      <td>80</td>\n      <td>68</td>\n      <td>38</td>\n      <td>56</td>\n    </tr>\n    <tr>\n      <th>9</th>\n      <td>85</td>\n      <td>95</td>\n      <td>35</td>\n      <td>53</td>\n    </tr>\n    <tr>\n      <th>10</th>\n      <td>87</td>\n      <td>28</td>\n      <td>17</td>\n      <td>67</td>\n    </tr>\n    <tr>\n      <th>11</th>\n      <td>92</td>\n      <td>12</td>\n      <td>35</td>\n      <td>79</td>\n    </tr>\n    <tr>\n      <th>12</th>\n      <td>94</td>\n      <td>50</td>\n      <td>21</td>\n      <td>88</td>\n    </tr>\n    <tr>\n      <th>13</th>\n      <td>78</td>\n      <td>20</td>\n      <td>45</td>\n      <td>86</td>\n    </tr>\n    <tr>\n      <th>14</th>\n      <td>55</td>\n      <td>78</td>\n      <td>22</td>\n      <td>96</td>\n    </tr>\n    <tr>\n      <th>15</th>\n      <td>24</td>\n      <td>97</td>\n      <td>26</td>\n      <td>95</td>\n    </tr>\n    <tr>\n      <th>16</th>\n      <td>24</td>\n      <td>70</td>\n      <td>12</td>\n      <td>93</td>\n    </tr>\n    <tr>\n      <th>17</th>\n      <td>75</td>\n      <td>15</td>\n      <td>5</td>\n      <td>56</td>\n    </tr>\n    <tr>\n      <th>18</th>\n      <td>65</td>\n      <td>41</td>\n      <td>31</td>\n      <td>74</td>\n    </tr>\n    <tr>\n      <th>19</th>\n      <td>59</td>\n      <td>93</td>\n      <td>50</td>\n      <td>54</td>\n    </tr>\n    <tr>\n      <th>20</th>\n      <td>63</td>\n      <td>30</td>\n      <td>5</td>\n      <td>97</td>\n    </tr>\n    <tr>\n      <th>21</th>\n      <td>11</td>\n      <td>77</td>\n      <td>50</td>\n      <td>62</td>\n    </tr>\n    <tr>\n      <th>22</th>\n      <td>47</td>\n      <td>87</td>\n      <td>50</td>\n      <td>82</td>\n    </tr>\n    <tr>\n      <th>23</th>\n      <td>57</td>\n      <td>17</td>\n      <td>36</td>\n      <td>59</td>\n    </tr>\n    <tr>\n      <th>24</th>\n      <td>1</td>\n      <td>2</td>\n      <td>16</td>\n      <td>74</td>\n    </tr>\n    <tr>\n      <th>25</th>\n      <td>13</td>\n      <td>28</td>\n      <td>23</td>\n      <td>93</td>\n    </tr>\n    <tr>\n      <th>26</th>\n      <td>9</td>\n      <td>19</td>\n      <td>21</td>\n      <td>84</td>\n    </tr>\n    <tr>\n      <th>27</th>\n      <td>57</td>\n      <td>41</td>\n      <td>57</td>\n      <td>87</td>\n    </tr>\n    <tr>\n      <th>28</th>\n      <td>0</td>\n      <td>65</td>\n      <td>53</td>\n      <td>63</td>\n    </tr>\n    <tr>\n      <th>29</th>\n      <td>89</td>\n      <td>77</td>\n      <td>81</td>\n      <td>70</td>\n    </tr>\n    <tr>\n      <th>30</th>\n      <td>86</td>\n      <td>88</td>\n      <td>85</td>\n      <td>72</td>\n    </tr>\n    <tr>\n      <th>31</th>\n      <td>94</td>\n      <td>56</td>\n      <td>70</td>\n      <td>97</td>\n    </tr>\n    <tr>\n      <th>32</th>\n      <td>80</td>\n      <td>88</td>\n      <td>75</td>\n      <td>56</td>\n    </tr>\n    <tr>\n      <th>33</th>\n      <td>73</td>\n      <td>0</td>\n      <td>70</td>\n      <td>74</td>\n    </tr>\n    <tr>\n      <th>34</th>\n      <td>1</td>\n      <td>70</td>\n      <td>68</td>\n      <td>59</td>\n    </tr>\n    <tr>\n      <th>35</th>\n      <td>58</td>\n      <td>2</td>\n      <td>66</td>\n      <td>76</td>\n    </tr>\n    <tr>\n      <th>36</th>\n      <td>10</td>\n      <td>42</td>\n      <td>21</td>\n      <td>22</td>\n    </tr>\n    <tr>\n      <th>37</th>\n      <td>37</td>\n      <td>19</td>\n      <td>38</td>\n      <td>8</td>\n    </tr>\n    <tr>\n      <th>38</th>\n      <td>2</td>\n      <td>46</td>\n      <td>1</td>\n      <td>44</td>\n    </tr>\n    <tr>\n      <th>39</th>\n      <td>9</td>\n      <td>49</td>\n      <td>31</td>\n      <td>30</td>\n    </tr>\n    <tr>\n      <th>40</th>\n      <td>27</td>\n      <td>45</td>\n      <td>42</td>\n      <td>9</td>\n    </tr>\n    <tr>\n      <th>41</th>\n      <td>93</td>\n      <td>55</td>\n      <td>41</td>\n      <td>20</td>\n    </tr>\n    <tr>\n      <th>42</th>\n      <td>37</td>\n      <td>55</td>\n      <td>52</td>\n      <td>52</td>\n    </tr>\n    <tr>\n      <th>43</th>\n      <td>15</td>\n      <td>92</td>\n      <td>2</td>\n      <td>46</td>\n    </tr>\n    <tr>\n      <th>44</th>\n      <td>63</td>\n      <td>1</td>\n      <td>10</td>\n      <td>20</td>\n    </tr>\n    <tr>\n      <th>45</th>\n      <td>21</td>\n      <td>56</td>\n      <td>53</td>\n      <td>24</td>\n    </tr>\n    <tr>\n      <th>46</th>\n      <td>75</td>\n      <td>6</td>\n      <td>28</td>\n      <td>43</td>\n    </tr>\n    <tr>\n      <th>47</th>\n      <td>77</td>\n      <td>45</td>\n      <td>28</td>\n      <td>31</td>\n    </tr>\n    <tr>\n      <th>48</th>\n      <td>8</td>\n      <td>90</td>\n      <td>55</td>\n      <td>26</td>\n    </tr>\n    <tr>\n      <th>49</th>\n      <td>40</td>\n      <td>94</td>\n      <td>54</td>\n      <td>7</td>\n    </tr>\n    <tr>\n      <th>50</th>\n      <td>43</td>\n      <td>42</td>\n      <td>3</td>\n      <td>10</td>\n    </tr>\n    <tr>\n      <th>51</th>\n      <td>59</td>\n      <td>92</td>\n      <td>60</td>\n      <td>8</td>\n    </tr>\n    <tr>\n      <th>52</th>\n      <td>36</td>\n      <td>38</td>\n      <td>73</td>\n      <td>16</td>\n    </tr>\n    <tr>\n      <th>53</th>\n      <td>67</td>\n      <td>67</td>\n      <td>70</td>\n      <td>27</td>\n    </tr>\n    <tr>\n      <th>54</th>\n      <td>51</td>\n      <td>58</td>\n      <td>83</td>\n      <td>46</td>\n    </tr>\n  </tbody>\n</table>\n</div>"
     },
     "execution_count": 19,
     "metadata": {},
     "output_type": "execute_result"
    }
   ],
   "source": [
    "new_train2"
   ],
   "metadata": {
    "collapsed": false,
    "pycharm": {
     "name": "#%%\n"
    }
   }
  },
  {
   "cell_type": "code",
   "execution_count": 20,
   "outputs": [
    {
     "data": {
      "text/plain": "     A   B   C   D\n0   88  76  25  74\n1   82  85  44  86\n2   86  84  21  57\n3   71  77  35  73\n4   75  84  49  85\n5   65  88  19  57\n6   64  78  49  78\n7   58  95  31  62\n8   80  68  38  56\n9   85  95  35  53\n10  87  28  17  67\n11  92  12  35  79\n12  94  50  21  88\n13  78  20  45  86\n14  55  78  22  96\n15  24  97  26  95\n16  24  70  12  93\n17  75  15   5  56\n18  65  41  31  74\n19  59  93  50  54\n20  63  30   5  97\n21  11  77  50  62\n22  47  87  50  82\n23  57  17  36  59\n24   1   2  16  74\n25  13  28  23  93\n26   9  19  21  84\n27  57  41  57  87\n28   0  65  53  63\n29  89  77  81  70\n30  86  88  85  72\n31  94  56  70  97\n32  80  88  75  56\n33  73   0  70  74\n34   1  70  68  59\n35  58   2  66  76\n36  10  42  21  22\n37  37  19  38   8\n38   2  46   1  44\n39   9  49  31  30\n40  27  45  42   9\n41  93  55  41  20\n42  37  55  52  52\n43  15  92   2  46\n44  63   1  10  20\n45  21  56  53  24\n46  75   6  28  43\n47  77  45  28  31\n48   8  90  55  26\n49  40  94  54   7\n50  43  42   3  10\n51  59  92  60   8\n52  36  38  73  16\n53  67  67  70  27\n54  51  58  83  46",
      "text/html": "<div>\n<style scoped>\n    .dataframe tbody tr th:only-of-type {\n        vertical-align: middle;\n    }\n\n    .dataframe tbody tr th {\n        vertical-align: top;\n    }\n\n    .dataframe thead th {\n        text-align: right;\n    }\n</style>\n<table border=\"1\" class=\"dataframe\">\n  <thead>\n    <tr style=\"text-align: right;\">\n      <th></th>\n      <th>A</th>\n      <th>B</th>\n      <th>C</th>\n      <th>D</th>\n    </tr>\n  </thead>\n  <tbody>\n    <tr>\n      <th>0</th>\n      <td>88</td>\n      <td>76</td>\n      <td>25</td>\n      <td>74</td>\n    </tr>\n    <tr>\n      <th>1</th>\n      <td>82</td>\n      <td>85</td>\n      <td>44</td>\n      <td>86</td>\n    </tr>\n    <tr>\n      <th>2</th>\n      <td>86</td>\n      <td>84</td>\n      <td>21</td>\n      <td>57</td>\n    </tr>\n    <tr>\n      <th>3</th>\n      <td>71</td>\n      <td>77</td>\n      <td>35</td>\n      <td>73</td>\n    </tr>\n    <tr>\n      <th>4</th>\n      <td>75</td>\n      <td>84</td>\n      <td>49</td>\n      <td>85</td>\n    </tr>\n    <tr>\n      <th>5</th>\n      <td>65</td>\n      <td>88</td>\n      <td>19</td>\n      <td>57</td>\n    </tr>\n    <tr>\n      <th>6</th>\n      <td>64</td>\n      <td>78</td>\n      <td>49</td>\n      <td>78</td>\n    </tr>\n    <tr>\n      <th>7</th>\n      <td>58</td>\n      <td>95</td>\n      <td>31</td>\n      <td>62</td>\n    </tr>\n    <tr>\n      <th>8</th>\n      <td>80</td>\n      <td>68</td>\n      <td>38</td>\n      <td>56</td>\n    </tr>\n    <tr>\n      <th>9</th>\n      <td>85</td>\n      <td>95</td>\n      <td>35</td>\n      <td>53</td>\n    </tr>\n    <tr>\n      <th>10</th>\n      <td>87</td>\n      <td>28</td>\n      <td>17</td>\n      <td>67</td>\n    </tr>\n    <tr>\n      <th>11</th>\n      <td>92</td>\n      <td>12</td>\n      <td>35</td>\n      <td>79</td>\n    </tr>\n    <tr>\n      <th>12</th>\n      <td>94</td>\n      <td>50</td>\n      <td>21</td>\n      <td>88</td>\n    </tr>\n    <tr>\n      <th>13</th>\n      <td>78</td>\n      <td>20</td>\n      <td>45</td>\n      <td>86</td>\n    </tr>\n    <tr>\n      <th>14</th>\n      <td>55</td>\n      <td>78</td>\n      <td>22</td>\n      <td>96</td>\n    </tr>\n    <tr>\n      <th>15</th>\n      <td>24</td>\n      <td>97</td>\n      <td>26</td>\n      <td>95</td>\n    </tr>\n    <tr>\n      <th>16</th>\n      <td>24</td>\n      <td>70</td>\n      <td>12</td>\n      <td>93</td>\n    </tr>\n    <tr>\n      <th>17</th>\n      <td>75</td>\n      <td>15</td>\n      <td>5</td>\n      <td>56</td>\n    </tr>\n    <tr>\n      <th>18</th>\n      <td>65</td>\n      <td>41</td>\n      <td>31</td>\n      <td>74</td>\n    </tr>\n    <tr>\n      <th>19</th>\n      <td>59</td>\n      <td>93</td>\n      <td>50</td>\n      <td>54</td>\n    </tr>\n    <tr>\n      <th>20</th>\n      <td>63</td>\n      <td>30</td>\n      <td>5</td>\n      <td>97</td>\n    </tr>\n    <tr>\n      <th>21</th>\n      <td>11</td>\n      <td>77</td>\n      <td>50</td>\n      <td>62</td>\n    </tr>\n    <tr>\n      <th>22</th>\n      <td>47</td>\n      <td>87</td>\n      <td>50</td>\n      <td>82</td>\n    </tr>\n    <tr>\n      <th>23</th>\n      <td>57</td>\n      <td>17</td>\n      <td>36</td>\n      <td>59</td>\n    </tr>\n    <tr>\n      <th>24</th>\n      <td>1</td>\n      <td>2</td>\n      <td>16</td>\n      <td>74</td>\n    </tr>\n    <tr>\n      <th>25</th>\n      <td>13</td>\n      <td>28</td>\n      <td>23</td>\n      <td>93</td>\n    </tr>\n    <tr>\n      <th>26</th>\n      <td>9</td>\n      <td>19</td>\n      <td>21</td>\n      <td>84</td>\n    </tr>\n    <tr>\n      <th>27</th>\n      <td>57</td>\n      <td>41</td>\n      <td>57</td>\n      <td>87</td>\n    </tr>\n    <tr>\n      <th>28</th>\n      <td>0</td>\n      <td>65</td>\n      <td>53</td>\n      <td>63</td>\n    </tr>\n    <tr>\n      <th>29</th>\n      <td>89</td>\n      <td>77</td>\n      <td>81</td>\n      <td>70</td>\n    </tr>\n    <tr>\n      <th>30</th>\n      <td>86</td>\n      <td>88</td>\n      <td>85</td>\n      <td>72</td>\n    </tr>\n    <tr>\n      <th>31</th>\n      <td>94</td>\n      <td>56</td>\n      <td>70</td>\n      <td>97</td>\n    </tr>\n    <tr>\n      <th>32</th>\n      <td>80</td>\n      <td>88</td>\n      <td>75</td>\n      <td>56</td>\n    </tr>\n    <tr>\n      <th>33</th>\n      <td>73</td>\n      <td>0</td>\n      <td>70</td>\n      <td>74</td>\n    </tr>\n    <tr>\n      <th>34</th>\n      <td>1</td>\n      <td>70</td>\n      <td>68</td>\n      <td>59</td>\n    </tr>\n    <tr>\n      <th>35</th>\n      <td>58</td>\n      <td>2</td>\n      <td>66</td>\n      <td>76</td>\n    </tr>\n    <tr>\n      <th>36</th>\n      <td>10</td>\n      <td>42</td>\n      <td>21</td>\n      <td>22</td>\n    </tr>\n    <tr>\n      <th>37</th>\n      <td>37</td>\n      <td>19</td>\n      <td>38</td>\n      <td>8</td>\n    </tr>\n    <tr>\n      <th>38</th>\n      <td>2</td>\n      <td>46</td>\n      <td>1</td>\n      <td>44</td>\n    </tr>\n    <tr>\n      <th>39</th>\n      <td>9</td>\n      <td>49</td>\n      <td>31</td>\n      <td>30</td>\n    </tr>\n    <tr>\n      <th>40</th>\n      <td>27</td>\n      <td>45</td>\n      <td>42</td>\n      <td>9</td>\n    </tr>\n    <tr>\n      <th>41</th>\n      <td>93</td>\n      <td>55</td>\n      <td>41</td>\n      <td>20</td>\n    </tr>\n    <tr>\n      <th>42</th>\n      <td>37</td>\n      <td>55</td>\n      <td>52</td>\n      <td>52</td>\n    </tr>\n    <tr>\n      <th>43</th>\n      <td>15</td>\n      <td>92</td>\n      <td>2</td>\n      <td>46</td>\n    </tr>\n    <tr>\n      <th>44</th>\n      <td>63</td>\n      <td>1</td>\n      <td>10</td>\n      <td>20</td>\n    </tr>\n    <tr>\n      <th>45</th>\n      <td>21</td>\n      <td>56</td>\n      <td>53</td>\n      <td>24</td>\n    </tr>\n    <tr>\n      <th>46</th>\n      <td>75</td>\n      <td>6</td>\n      <td>28</td>\n      <td>43</td>\n    </tr>\n    <tr>\n      <th>47</th>\n      <td>77</td>\n      <td>45</td>\n      <td>28</td>\n      <td>31</td>\n    </tr>\n    <tr>\n      <th>48</th>\n      <td>8</td>\n      <td>90</td>\n      <td>55</td>\n      <td>26</td>\n    </tr>\n    <tr>\n      <th>49</th>\n      <td>40</td>\n      <td>94</td>\n      <td>54</td>\n      <td>7</td>\n    </tr>\n    <tr>\n      <th>50</th>\n      <td>43</td>\n      <td>42</td>\n      <td>3</td>\n      <td>10</td>\n    </tr>\n    <tr>\n      <th>51</th>\n      <td>59</td>\n      <td>92</td>\n      <td>60</td>\n      <td>8</td>\n    </tr>\n    <tr>\n      <th>52</th>\n      <td>36</td>\n      <td>38</td>\n      <td>73</td>\n      <td>16</td>\n    </tr>\n    <tr>\n      <th>53</th>\n      <td>67</td>\n      <td>67</td>\n      <td>70</td>\n      <td>27</td>\n    </tr>\n    <tr>\n      <th>54</th>\n      <td>51</td>\n      <td>58</td>\n      <td>83</td>\n      <td>46</td>\n    </tr>\n  </tbody>\n</table>\n</div>"
     },
     "execution_count": 20,
     "metadata": {},
     "output_type": "execute_result"
    }
   ],
   "source": [
    "new_train2"
   ],
   "metadata": {
    "collapsed": false,
    "pycharm": {
     "name": "#%%\n"
    }
   }
  },
  {
   "cell_type": "code",
   "execution_count": 29,
   "outputs": [
    {
     "data": {
      "text/plain": "Fitting CTGAN transformers for each column:   0%|          | 0/7 [00:00<?, ?it/s]",
      "application/vnd.jupyter.widget-view+json": {
       "version_major": 2,
       "version_minor": 0,
       "model_id": "ec9a9ef58d06409a980a7fced4903aa5"
      }
     },
     "metadata": {},
     "output_type": "display_data"
    },
    {
     "data": {
      "text/plain": "Training CTGAN, epochs::   0%|          | 0/500 [00:00<?, ?it/s]",
      "application/vnd.jupyter.widget-view+json": {
       "version_major": 2,
       "version_minor": 0,
       "model_id": "b5bfde521f124afc95f93e3641e7c795"
      }
     },
     "metadata": {},
     "output_type": "display_data"
    }
   ],
   "source": [
    "%%capture --no-display\n",
    "# Time-series experiment\n",
    "\n",
    "from tabgan.utils import get_year_mnth_dt_from_date\n",
    "from tabgan.sampler import GANGenerator\n",
    "\n",
    "\n",
    "train_size = 100\n",
    "train = pd.DataFrame(np.random.randint(-10, 150, size=(train_size, 4)), columns=list(\"ABCD\"))\n",
    "min_date = pd.to_datetime('2019-01-01')\n",
    "max_date = pd.to_datetime('2021-12-31')\n",
    "d = (max_date - min_date).days + 1\n",
    "\n",
    "train['Date'] = min_date + pd.to_timedelta(pd.np.random.randint(d, size=train_size), unit='d')\n",
    "train = get_year_mnth_dt_from_date(train, 'Date')\n",
    "\n",
    "new_train, _ = GANGenerator(\n",
    "    gen_x_times=1.1,\n",
    "    cat_cols=['year'],\n",
    "    bot_filter_quantile=0.001,\n",
    "    top_filter_quantile=0.999,\n",
    "    is_post_process=True,\n",
    "    pregeneration_frac=2,\n",
    "    only_generated_data=False\n",
    ").generate_data_pipe(train.drop('Date', axis=1), None, train.drop('Date', axis=1))"
   ],
   "metadata": {
    "collapsed": false,
    "pycharm": {
     "name": "#%%\n"
    }
   }
  },
  {
   "cell_type": "code",
   "execution_count": 30,
   "outputs": [
    {
     "data": {
      "text/plain": "       A    B    C    D  year  month  day\n0     14  101   63   57  2020      9    4\n1     -5   63   76   18  2021     11    2\n2     -5   31   73   21  2020     12    3\n3     53   90   34   23  2019     10    3\n4     22   33  112   59  2021     12    4\n..   ...  ...  ...  ...   ...    ...  ...\n124   75   30   76   86  2021      6   20\n125  121   80  116  101  2020      9   30\n126   85   28   54  148  2019     10   28\n127   79   14  119   94  2020      1   26\n128  144   84   11  140  2020     10   31\n\n[129 rows x 7 columns]",
      "text/html": "<div>\n<style scoped>\n    .dataframe tbody tr th:only-of-type {\n        vertical-align: middle;\n    }\n\n    .dataframe tbody tr th {\n        vertical-align: top;\n    }\n\n    .dataframe thead th {\n        text-align: right;\n    }\n</style>\n<table border=\"1\" class=\"dataframe\">\n  <thead>\n    <tr style=\"text-align: right;\">\n      <th></th>\n      <th>A</th>\n      <th>B</th>\n      <th>C</th>\n      <th>D</th>\n      <th>year</th>\n      <th>month</th>\n      <th>day</th>\n    </tr>\n  </thead>\n  <tbody>\n    <tr>\n      <th>0</th>\n      <td>14</td>\n      <td>101</td>\n      <td>63</td>\n      <td>57</td>\n      <td>2020</td>\n      <td>9</td>\n      <td>4</td>\n    </tr>\n    <tr>\n      <th>1</th>\n      <td>-5</td>\n      <td>63</td>\n      <td>76</td>\n      <td>18</td>\n      <td>2021</td>\n      <td>11</td>\n      <td>2</td>\n    </tr>\n    <tr>\n      <th>2</th>\n      <td>-5</td>\n      <td>31</td>\n      <td>73</td>\n      <td>21</td>\n      <td>2020</td>\n      <td>12</td>\n      <td>3</td>\n    </tr>\n    <tr>\n      <th>3</th>\n      <td>53</td>\n      <td>90</td>\n      <td>34</td>\n      <td>23</td>\n      <td>2019</td>\n      <td>10</td>\n      <td>3</td>\n    </tr>\n    <tr>\n      <th>4</th>\n      <td>22</td>\n      <td>33</td>\n      <td>112</td>\n      <td>59</td>\n      <td>2021</td>\n      <td>12</td>\n      <td>4</td>\n    </tr>\n    <tr>\n      <th>...</th>\n      <td>...</td>\n      <td>...</td>\n      <td>...</td>\n      <td>...</td>\n      <td>...</td>\n      <td>...</td>\n      <td>...</td>\n    </tr>\n    <tr>\n      <th>124</th>\n      <td>75</td>\n      <td>30</td>\n      <td>76</td>\n      <td>86</td>\n      <td>2021</td>\n      <td>6</td>\n      <td>20</td>\n    </tr>\n    <tr>\n      <th>125</th>\n      <td>121</td>\n      <td>80</td>\n      <td>116</td>\n      <td>101</td>\n      <td>2020</td>\n      <td>9</td>\n      <td>30</td>\n    </tr>\n    <tr>\n      <th>126</th>\n      <td>85</td>\n      <td>28</td>\n      <td>54</td>\n      <td>148</td>\n      <td>2019</td>\n      <td>10</td>\n      <td>28</td>\n    </tr>\n    <tr>\n      <th>127</th>\n      <td>79</td>\n      <td>14</td>\n      <td>119</td>\n      <td>94</td>\n      <td>2020</td>\n      <td>1</td>\n      <td>26</td>\n    </tr>\n    <tr>\n      <th>128</th>\n      <td>144</td>\n      <td>84</td>\n      <td>11</td>\n      <td>140</td>\n      <td>2020</td>\n      <td>10</td>\n      <td>31</td>\n    </tr>\n  </tbody>\n</table>\n<p>129 rows × 7 columns</p>\n</div>"
     },
     "execution_count": 30,
     "metadata": {},
     "output_type": "execute_result"
    }
   ],
   "source": [
    "new_train"
   ],
   "metadata": {
    "collapsed": false,
    "pycharm": {
     "name": "#%%\n"
    }
   }
  },
  {
   "cell_type": "code",
   "execution_count": 23,
   "outputs": [
    {
     "data": {
      "text/plain": "       A    B    C    D  year  month  day\n0    144   70   85   78  2020     11   16\n1     72   32   59   40  2021     12   14\n2    116   35   83  134  2021     12   20\n3    139   61   33   40  2021     12   19\n4    128   86  112   35  2021     10   15\n..   ...  ...  ...  ...   ...    ...  ...\n138    3    0  105  128  2021      3    4\n139   28   73  132   92  2020      1    6\n140   12    8   51  100  2019      2   10\n141    5   54  140   31  2019      3   29\n142   -7  113  136    4  2019      4   15\n\n[143 rows x 7 columns]",
      "text/html": "<div>\n<style scoped>\n    .dataframe tbody tr th:only-of-type {\n        vertical-align: middle;\n    }\n\n    .dataframe tbody tr th {\n        vertical-align: top;\n    }\n\n    .dataframe thead th {\n        text-align: right;\n    }\n</style>\n<table border=\"1\" class=\"dataframe\">\n  <thead>\n    <tr style=\"text-align: right;\">\n      <th></th>\n      <th>A</th>\n      <th>B</th>\n      <th>C</th>\n      <th>D</th>\n      <th>year</th>\n      <th>month</th>\n      <th>day</th>\n    </tr>\n  </thead>\n  <tbody>\n    <tr>\n      <th>0</th>\n      <td>144</td>\n      <td>70</td>\n      <td>85</td>\n      <td>78</td>\n      <td>2020</td>\n      <td>11</td>\n      <td>16</td>\n    </tr>\n    <tr>\n      <th>1</th>\n      <td>72</td>\n      <td>32</td>\n      <td>59</td>\n      <td>40</td>\n      <td>2021</td>\n      <td>12</td>\n      <td>14</td>\n    </tr>\n    <tr>\n      <th>2</th>\n      <td>116</td>\n      <td>35</td>\n      <td>83</td>\n      <td>134</td>\n      <td>2021</td>\n      <td>12</td>\n      <td>20</td>\n    </tr>\n    <tr>\n      <th>3</th>\n      <td>139</td>\n      <td>61</td>\n      <td>33</td>\n      <td>40</td>\n      <td>2021</td>\n      <td>12</td>\n      <td>19</td>\n    </tr>\n    <tr>\n      <th>4</th>\n      <td>128</td>\n      <td>86</td>\n      <td>112</td>\n      <td>35</td>\n      <td>2021</td>\n      <td>10</td>\n      <td>15</td>\n    </tr>\n    <tr>\n      <th>...</th>\n      <td>...</td>\n      <td>...</td>\n      <td>...</td>\n      <td>...</td>\n      <td>...</td>\n      <td>...</td>\n      <td>...</td>\n    </tr>\n    <tr>\n      <th>138</th>\n      <td>3</td>\n      <td>0</td>\n      <td>105</td>\n      <td>128</td>\n      <td>2021</td>\n      <td>3</td>\n      <td>4</td>\n    </tr>\n    <tr>\n      <th>139</th>\n      <td>28</td>\n      <td>73</td>\n      <td>132</td>\n      <td>92</td>\n      <td>2020</td>\n      <td>1</td>\n      <td>6</td>\n    </tr>\n    <tr>\n      <th>140</th>\n      <td>12</td>\n      <td>8</td>\n      <td>51</td>\n      <td>100</td>\n      <td>2019</td>\n      <td>2</td>\n      <td>10</td>\n    </tr>\n    <tr>\n      <th>141</th>\n      <td>5</td>\n      <td>54</td>\n      <td>140</td>\n      <td>31</td>\n      <td>2019</td>\n      <td>3</td>\n      <td>29</td>\n    </tr>\n    <tr>\n      <th>142</th>\n      <td>-7</td>\n      <td>113</td>\n      <td>136</td>\n      <td>4</td>\n      <td>2019</td>\n      <td>4</td>\n      <td>15</td>\n    </tr>\n  </tbody>\n</table>\n<p>143 rows × 7 columns</p>\n</div>"
     },
     "execution_count": 23,
     "metadata": {},
     "output_type": "execute_result"
    }
   ],
   "source": [
    "train"
   ],
   "metadata": {
    "collapsed": false,
    "pycharm": {
     "name": "#%%\n"
    }
   }
  },
  {
   "cell_type": "code",
   "execution_count": 24,
   "outputs": [
    {
     "data": {
      "text/plain": "   num_0      cat_1   num_2         cat_3  num_4               cat_5  \\\n0     25    Private  226802          11th      7       Never-married   \n1     38    Private   89814       HS-grad      9  Married-civ-spouse   \n2     28  Local-gov  336951    Assoc-acdm     12  Married-civ-spouse   \n3     44    Private  160323  Some-college     10  Married-civ-spouse   \n4     18          ?  103497  Some-college     10       Never-married   \n\n               cat_6      cat_7  cat_8   cat_9  num_10  num_11  num_12  \\\n0  Machine-op-inspct  Own-child  Black    Male       0       0      40   \n1    Farming-fishing    Husband  White    Male       0       0      50   \n2    Protective-serv    Husband  White    Male       0       0      40   \n3  Machine-op-inspct    Husband  Black    Male    7688       0      40   \n4                  ?  Own-child  White  Female       0       0      30   \n\n          cat_13  target  \n0  United-States   False  \n1  United-States   False  \n2  United-States    True  \n3  United-States    True  \n4  United-States   False  ",
      "text/html": "<div>\n<style scoped>\n    .dataframe tbody tr th:only-of-type {\n        vertical-align: middle;\n    }\n\n    .dataframe tbody tr th {\n        vertical-align: top;\n    }\n\n    .dataframe thead th {\n        text-align: right;\n    }\n</style>\n<table border=\"1\" class=\"dataframe\">\n  <thead>\n    <tr style=\"text-align: right;\">\n      <th></th>\n      <th>num_0</th>\n      <th>cat_1</th>\n      <th>num_2</th>\n      <th>cat_3</th>\n      <th>num_4</th>\n      <th>cat_5</th>\n      <th>cat_6</th>\n      <th>cat_7</th>\n      <th>cat_8</th>\n      <th>cat_9</th>\n      <th>num_10</th>\n      <th>num_11</th>\n      <th>num_12</th>\n      <th>cat_13</th>\n      <th>target</th>\n    </tr>\n  </thead>\n  <tbody>\n    <tr>\n      <th>0</th>\n      <td>25</td>\n      <td>Private</td>\n      <td>226802</td>\n      <td>11th</td>\n      <td>7</td>\n      <td>Never-married</td>\n      <td>Machine-op-inspct</td>\n      <td>Own-child</td>\n      <td>Black</td>\n      <td>Male</td>\n      <td>0</td>\n      <td>0</td>\n      <td>40</td>\n      <td>United-States</td>\n      <td>False</td>\n    </tr>\n    <tr>\n      <th>1</th>\n      <td>38</td>\n      <td>Private</td>\n      <td>89814</td>\n      <td>HS-grad</td>\n      <td>9</td>\n      <td>Married-civ-spouse</td>\n      <td>Farming-fishing</td>\n      <td>Husband</td>\n      <td>White</td>\n      <td>Male</td>\n      <td>0</td>\n      <td>0</td>\n      <td>50</td>\n      <td>United-States</td>\n      <td>False</td>\n    </tr>\n    <tr>\n      <th>2</th>\n      <td>28</td>\n      <td>Local-gov</td>\n      <td>336951</td>\n      <td>Assoc-acdm</td>\n      <td>12</td>\n      <td>Married-civ-spouse</td>\n      <td>Protective-serv</td>\n      <td>Husband</td>\n      <td>White</td>\n      <td>Male</td>\n      <td>0</td>\n      <td>0</td>\n      <td>40</td>\n      <td>United-States</td>\n      <td>True</td>\n    </tr>\n    <tr>\n      <th>3</th>\n      <td>44</td>\n      <td>Private</td>\n      <td>160323</td>\n      <td>Some-college</td>\n      <td>10</td>\n      <td>Married-civ-spouse</td>\n      <td>Machine-op-inspct</td>\n      <td>Husband</td>\n      <td>Black</td>\n      <td>Male</td>\n      <td>7688</td>\n      <td>0</td>\n      <td>40</td>\n      <td>United-States</td>\n      <td>True</td>\n    </tr>\n    <tr>\n      <th>4</th>\n      <td>18</td>\n      <td>?</td>\n      <td>103497</td>\n      <td>Some-college</td>\n      <td>10</td>\n      <td>Never-married</td>\n      <td>?</td>\n      <td>Own-child</td>\n      <td>White</td>\n      <td>Female</td>\n      <td>0</td>\n      <td>0</td>\n      <td>30</td>\n      <td>United-States</td>\n      <td>False</td>\n    </tr>\n  </tbody>\n</table>\n</div>"
     },
     "execution_count": 24,
     "metadata": {},
     "output_type": "execute_result"
    }
   ],
   "source": [
    "# Real-world data experiment\n",
    "dataset_pth = f\"../data/adult/adult.gz\"\n",
    "\n",
    "data = pd.read_csv(dataset_pth)\n",
    "data.fillna(data.mean(), inplace=True)\n",
    "data.head()"
   ],
   "metadata": {
    "collapsed": false,
    "pycharm": {
     "name": "#%%\n"
    }
   }
  },
  {
   "cell_type": "code",
   "execution_count": 25,
   "outputs": [],
   "source": [
    "from sklearn.model_selection import train_test_split\n",
    "\n",
    "cat_cols = [col for col in data.columns if col.startswith(\"cat\")]\n",
    "\n",
    "X_train, X_test, y_train, y_test = train_test_split(\n",
    "    data.drop(\"target\", axis=1),\n",
    "    data[[\"target\"]],\n",
    "    test_size=0.85,\n",
    "    shuffle=False,\n",
    "    random_state=42,\n",
    ")\n",
    "X_test, y_test = X_test.reset_index(drop=True), y_test.reset_index(drop=True)"
   ],
   "metadata": {
    "collapsed": false,
    "pycharm": {
     "name": "#%%\n"
    }
   }
  },
  {
   "cell_type": "code",
   "execution_count": 26,
   "outputs": [
    {
     "data": {
      "text/plain": "      num_0         cat_1   num_2         cat_3  num_4                  cat_5  \\\n0        25       Private  226802          11th      7          Never-married   \n1        38       Private   89814       HS-grad      9     Married-civ-spouse   \n2        28     Local-gov  336951    Assoc-acdm     12     Married-civ-spouse   \n3        44       Private  160323  Some-college     10     Married-civ-spouse   \n4        18             ?  103497  Some-college     10          Never-married   \n...     ...           ...     ...           ...    ...                    ...   \n7321     35       Private  109133       HS-grad      9              Separated   \n7322     35       Private  196123    Assoc-acdm     12     Married-civ-spouse   \n7323     55       Private  123436     Assoc-voc     11     Married-civ-spouse   \n7324     56  Self-emp-inc   42298           9th      5     Married-civ-spouse   \n7325     44       Private  297248       HS-grad      9  Married-spouse-absent   \n\n                  cat_6          cat_7  cat_8   cat_9  num_10  num_11  num_12  \\\n0     Machine-op-inspct      Own-child  Black    Male       0       0      40   \n1       Farming-fishing        Husband  White    Male       0       0      50   \n2       Protective-serv        Husband  White    Male       0       0      40   \n3     Machine-op-inspct        Husband  Black    Male    7688       0      40   \n4                     ?      Own-child  White  Female       0       0      30   \n...                 ...            ...    ...     ...     ...     ...     ...   \n7321  Machine-op-inspct  Not-in-family  White    Male    3674       0      52   \n7322    Exec-managerial        Husband  White    Male       0       0      40   \n7323     Prof-specialty        Husband  White    Male       0       0      40   \n7324    Exec-managerial        Husband  Black    Male       0       0      40   \n7325       Craft-repair      Unmarried  White    Male       0       0      40   \n\n             cat_13  \n0     United-States  \n1     United-States  \n2     United-States  \n3     United-States  \n4     United-States  \n...             ...  \n7321  United-States  \n7322  United-States  \n7323  United-States  \n7324  United-States  \n7325       Columbia  \n\n[7326 rows x 14 columns]",
      "text/html": "<div>\n<style scoped>\n    .dataframe tbody tr th:only-of-type {\n        vertical-align: middle;\n    }\n\n    .dataframe tbody tr th {\n        vertical-align: top;\n    }\n\n    .dataframe thead th {\n        text-align: right;\n    }\n</style>\n<table border=\"1\" class=\"dataframe\">\n  <thead>\n    <tr style=\"text-align: right;\">\n      <th></th>\n      <th>num_0</th>\n      <th>cat_1</th>\n      <th>num_2</th>\n      <th>cat_3</th>\n      <th>num_4</th>\n      <th>cat_5</th>\n      <th>cat_6</th>\n      <th>cat_7</th>\n      <th>cat_8</th>\n      <th>cat_9</th>\n      <th>num_10</th>\n      <th>num_11</th>\n      <th>num_12</th>\n      <th>cat_13</th>\n    </tr>\n  </thead>\n  <tbody>\n    <tr>\n      <th>0</th>\n      <td>25</td>\n      <td>Private</td>\n      <td>226802</td>\n      <td>11th</td>\n      <td>7</td>\n      <td>Never-married</td>\n      <td>Machine-op-inspct</td>\n      <td>Own-child</td>\n      <td>Black</td>\n      <td>Male</td>\n      <td>0</td>\n      <td>0</td>\n      <td>40</td>\n      <td>United-States</td>\n    </tr>\n    <tr>\n      <th>1</th>\n      <td>38</td>\n      <td>Private</td>\n      <td>89814</td>\n      <td>HS-grad</td>\n      <td>9</td>\n      <td>Married-civ-spouse</td>\n      <td>Farming-fishing</td>\n      <td>Husband</td>\n      <td>White</td>\n      <td>Male</td>\n      <td>0</td>\n      <td>0</td>\n      <td>50</td>\n      <td>United-States</td>\n    </tr>\n    <tr>\n      <th>2</th>\n      <td>28</td>\n      <td>Local-gov</td>\n      <td>336951</td>\n      <td>Assoc-acdm</td>\n      <td>12</td>\n      <td>Married-civ-spouse</td>\n      <td>Protective-serv</td>\n      <td>Husband</td>\n      <td>White</td>\n      <td>Male</td>\n      <td>0</td>\n      <td>0</td>\n      <td>40</td>\n      <td>United-States</td>\n    </tr>\n    <tr>\n      <th>3</th>\n      <td>44</td>\n      <td>Private</td>\n      <td>160323</td>\n      <td>Some-college</td>\n      <td>10</td>\n      <td>Married-civ-spouse</td>\n      <td>Machine-op-inspct</td>\n      <td>Husband</td>\n      <td>Black</td>\n      <td>Male</td>\n      <td>7688</td>\n      <td>0</td>\n      <td>40</td>\n      <td>United-States</td>\n    </tr>\n    <tr>\n      <th>4</th>\n      <td>18</td>\n      <td>?</td>\n      <td>103497</td>\n      <td>Some-college</td>\n      <td>10</td>\n      <td>Never-married</td>\n      <td>?</td>\n      <td>Own-child</td>\n      <td>White</td>\n      <td>Female</td>\n      <td>0</td>\n      <td>0</td>\n      <td>30</td>\n      <td>United-States</td>\n    </tr>\n    <tr>\n      <th>...</th>\n      <td>...</td>\n      <td>...</td>\n      <td>...</td>\n      <td>...</td>\n      <td>...</td>\n      <td>...</td>\n      <td>...</td>\n      <td>...</td>\n      <td>...</td>\n      <td>...</td>\n      <td>...</td>\n      <td>...</td>\n      <td>...</td>\n      <td>...</td>\n    </tr>\n    <tr>\n      <th>7321</th>\n      <td>35</td>\n      <td>Private</td>\n      <td>109133</td>\n      <td>HS-grad</td>\n      <td>9</td>\n      <td>Separated</td>\n      <td>Machine-op-inspct</td>\n      <td>Not-in-family</td>\n      <td>White</td>\n      <td>Male</td>\n      <td>3674</td>\n      <td>0</td>\n      <td>52</td>\n      <td>United-States</td>\n    </tr>\n    <tr>\n      <th>7322</th>\n      <td>35</td>\n      <td>Private</td>\n      <td>196123</td>\n      <td>Assoc-acdm</td>\n      <td>12</td>\n      <td>Married-civ-spouse</td>\n      <td>Exec-managerial</td>\n      <td>Husband</td>\n      <td>White</td>\n      <td>Male</td>\n      <td>0</td>\n      <td>0</td>\n      <td>40</td>\n      <td>United-States</td>\n    </tr>\n    <tr>\n      <th>7323</th>\n      <td>55</td>\n      <td>Private</td>\n      <td>123436</td>\n      <td>Assoc-voc</td>\n      <td>11</td>\n      <td>Married-civ-spouse</td>\n      <td>Prof-specialty</td>\n      <td>Husband</td>\n      <td>White</td>\n      <td>Male</td>\n      <td>0</td>\n      <td>0</td>\n      <td>40</td>\n      <td>United-States</td>\n    </tr>\n    <tr>\n      <th>7324</th>\n      <td>56</td>\n      <td>Self-emp-inc</td>\n      <td>42298</td>\n      <td>9th</td>\n      <td>5</td>\n      <td>Married-civ-spouse</td>\n      <td>Exec-managerial</td>\n      <td>Husband</td>\n      <td>Black</td>\n      <td>Male</td>\n      <td>0</td>\n      <td>0</td>\n      <td>40</td>\n      <td>United-States</td>\n    </tr>\n    <tr>\n      <th>7325</th>\n      <td>44</td>\n      <td>Private</td>\n      <td>297248</td>\n      <td>HS-grad</td>\n      <td>9</td>\n      <td>Married-spouse-absent</td>\n      <td>Craft-repair</td>\n      <td>Unmarried</td>\n      <td>White</td>\n      <td>Male</td>\n      <td>0</td>\n      <td>0</td>\n      <td>40</td>\n      <td>Columbia</td>\n    </tr>\n  </tbody>\n</table>\n<p>7326 rows × 14 columns</p>\n</div>"
     },
     "execution_count": 26,
     "metadata": {},
     "output_type": "execute_result"
    }
   ],
   "source": [
    "X_train"
   ],
   "metadata": {
    "collapsed": false,
    "pycharm": {
     "name": "#%%\n"
    }
   }
  },
  {
   "cell_type": "code",
   "execution_count": 31,
   "outputs": [
    {
     "data": {
      "text/plain": "Fitting CTGAN transformers for each column:   0%|          | 0/15 [00:00<?, ?it/s]",
      "application/vnd.jupyter.widget-view+json": {
       "version_major": 2,
       "version_minor": 0,
       "model_id": "2114aec3e33549d4ae4c7c3a97483cc1"
      }
     },
     "metadata": {},
     "output_type": "display_data"
    },
    {
     "data": {
      "text/plain": "Training CTGAN, epochs::   0%|          | 0/50 [00:00<?, ?it/s]",
      "application/vnd.jupyter.widget-view+json": {
       "version_major": 2,
       "version_minor": 0,
       "model_id": "a0da474830154f9d94d3a0de01adc68b"
      }
     },
     "metadata": {},
     "output_type": "display_data"
    }
   ],
   "source": [
    "%%capture --no-display\n",
    "X_new, Y_new = GANGenerator(\n",
    "    gen_x_times=1.1,\n",
    "    cat_cols=cat_cols,\n",
    "    bot_filter_quantile=0.001,\n",
    "    top_filter_quantile=0.999,\n",
    "    is_post_process=True,\n",
    "    adversarial_model_params = {\n",
    "        \"metrics\": \"AUC\",\n",
    "        \"max_depth\": 2,\n",
    "        \"max_bin\": 100,\n",
    "        \"learning_rate\": 0.02,\n",
    "        \"random_state\": 42,\n",
    "        \"n_estimators\": 500,\n",
    "    },\n",
    "    pregeneration_frac=2,\n",
    "    only_generated_data=False,\n",
    "    gan_params = {\n",
    "        \"batch_size\": 500,\n",
    "        \"patience\": 25,\n",
    "        \"epochs\": 50\n",
    "    }\n",
    ").generate_data_pipe(\n",
    "    X_train,\n",
    "    y_train,\n",
    "    X_test,\n",
    "    deep_copy=True,\n",
    "    only_adversarial=False,\n",
    "    use_adversarial=True\n",
    ")"
   ],
   "metadata": {
    "collapsed": false,
    "pycharm": {
     "name": "#%%\n"
    }
   }
  },
  {
   "cell_type": "code",
   "execution_count": 32,
   "outputs": [
    {
     "data": {
      "text/plain": "       num_0             cat_1   num_2         cat_3  num_4  \\\n0         38       Federal-gov  114759  Some-college      4   \n1         62           Private  479795     Bachelors     15   \n2         49           Private  129348  Some-college      6   \n3         27           Private  500138    Assoc-acdm      9   \n4         60                 ?  273645     Preschool      9   \n...      ...               ...     ...           ...    ...   \n10244     38           Private  258339     Assoc-voc     11   \n10245     47           Private  363418     Bachelors     13   \n10246     48      Self-emp-inc  275100       HS-grad      9   \n10247     37  Self-emp-not-inc  143774     Bachelors     13   \n10248     50           Private  268913       Masters     14   \n\n                       cat_5              cat_6          cat_7  cat_8   cat_9  \\\n0                   Divorced                  ?      Own-child  White    Male   \n1         Married-civ-spouse    Exec-managerial        Husband  White    Male   \n2      Married-spouse-absent    Exec-managerial  Not-in-family  White    Male   \n3              Never-married       Adm-clerical  Not-in-family  Black  Female   \n4         Married-civ-spouse  Machine-op-inspct        Husband  White  Female   \n...                      ...                ...            ...    ...     ...   \n10244     Married-civ-spouse      Other-service        Husband  White    Male   \n10245     Married-civ-spouse    Exec-managerial        Husband  White    Male   \n10246     Married-civ-spouse    Exec-managerial        Husband  White    Male   \n10247     Married-civ-spouse     Prof-specialty           Wife  White  Female   \n10248     Married-civ-spouse              Sales        Husband  White    Male   \n\n       num_10  num_11  num_12         cat_13  \n0          92       4      39  United-States  \n1          92       9      40  United-States  \n2       72165       1      40  United-States  \n3          68       2      39  United-States  \n4         210       9      39              ?  \n...       ...     ...     ...            ...  \n10244       0       0      70           Iran  \n10245       0       0      45        England  \n10246       0       0      70         Greece  \n10247       0       0      40        Germany  \n10248       0       0      40           Iran  \n\n[10249 rows x 14 columns]",
      "text/html": "<div>\n<style scoped>\n    .dataframe tbody tr th:only-of-type {\n        vertical-align: middle;\n    }\n\n    .dataframe tbody tr th {\n        vertical-align: top;\n    }\n\n    .dataframe thead th {\n        text-align: right;\n    }\n</style>\n<table border=\"1\" class=\"dataframe\">\n  <thead>\n    <tr style=\"text-align: right;\">\n      <th></th>\n      <th>num_0</th>\n      <th>cat_1</th>\n      <th>num_2</th>\n      <th>cat_3</th>\n      <th>num_4</th>\n      <th>cat_5</th>\n      <th>cat_6</th>\n      <th>cat_7</th>\n      <th>cat_8</th>\n      <th>cat_9</th>\n      <th>num_10</th>\n      <th>num_11</th>\n      <th>num_12</th>\n      <th>cat_13</th>\n    </tr>\n  </thead>\n  <tbody>\n    <tr>\n      <th>0</th>\n      <td>38</td>\n      <td>Federal-gov</td>\n      <td>114759</td>\n      <td>Some-college</td>\n      <td>4</td>\n      <td>Divorced</td>\n      <td>?</td>\n      <td>Own-child</td>\n      <td>White</td>\n      <td>Male</td>\n      <td>92</td>\n      <td>4</td>\n      <td>39</td>\n      <td>United-States</td>\n    </tr>\n    <tr>\n      <th>1</th>\n      <td>62</td>\n      <td>Private</td>\n      <td>479795</td>\n      <td>Bachelors</td>\n      <td>15</td>\n      <td>Married-civ-spouse</td>\n      <td>Exec-managerial</td>\n      <td>Husband</td>\n      <td>White</td>\n      <td>Male</td>\n      <td>92</td>\n      <td>9</td>\n      <td>40</td>\n      <td>United-States</td>\n    </tr>\n    <tr>\n      <th>2</th>\n      <td>49</td>\n      <td>Private</td>\n      <td>129348</td>\n      <td>Some-college</td>\n      <td>6</td>\n      <td>Married-spouse-absent</td>\n      <td>Exec-managerial</td>\n      <td>Not-in-family</td>\n      <td>White</td>\n      <td>Male</td>\n      <td>72165</td>\n      <td>1</td>\n      <td>40</td>\n      <td>United-States</td>\n    </tr>\n    <tr>\n      <th>3</th>\n      <td>27</td>\n      <td>Private</td>\n      <td>500138</td>\n      <td>Assoc-acdm</td>\n      <td>9</td>\n      <td>Never-married</td>\n      <td>Adm-clerical</td>\n      <td>Not-in-family</td>\n      <td>Black</td>\n      <td>Female</td>\n      <td>68</td>\n      <td>2</td>\n      <td>39</td>\n      <td>United-States</td>\n    </tr>\n    <tr>\n      <th>4</th>\n      <td>60</td>\n      <td>?</td>\n      <td>273645</td>\n      <td>Preschool</td>\n      <td>9</td>\n      <td>Married-civ-spouse</td>\n      <td>Machine-op-inspct</td>\n      <td>Husband</td>\n      <td>White</td>\n      <td>Female</td>\n      <td>210</td>\n      <td>9</td>\n      <td>39</td>\n      <td>?</td>\n    </tr>\n    <tr>\n      <th>...</th>\n      <td>...</td>\n      <td>...</td>\n      <td>...</td>\n      <td>...</td>\n      <td>...</td>\n      <td>...</td>\n      <td>...</td>\n      <td>...</td>\n      <td>...</td>\n      <td>...</td>\n      <td>...</td>\n      <td>...</td>\n      <td>...</td>\n      <td>...</td>\n    </tr>\n    <tr>\n      <th>10244</th>\n      <td>38</td>\n      <td>Private</td>\n      <td>258339</td>\n      <td>Assoc-voc</td>\n      <td>11</td>\n      <td>Married-civ-spouse</td>\n      <td>Other-service</td>\n      <td>Husband</td>\n      <td>White</td>\n      <td>Male</td>\n      <td>0</td>\n      <td>0</td>\n      <td>70</td>\n      <td>Iran</td>\n    </tr>\n    <tr>\n      <th>10245</th>\n      <td>47</td>\n      <td>Private</td>\n      <td>363418</td>\n      <td>Bachelors</td>\n      <td>13</td>\n      <td>Married-civ-spouse</td>\n      <td>Exec-managerial</td>\n      <td>Husband</td>\n      <td>White</td>\n      <td>Male</td>\n      <td>0</td>\n      <td>0</td>\n      <td>45</td>\n      <td>England</td>\n    </tr>\n    <tr>\n      <th>10246</th>\n      <td>48</td>\n      <td>Self-emp-inc</td>\n      <td>275100</td>\n      <td>HS-grad</td>\n      <td>9</td>\n      <td>Married-civ-spouse</td>\n      <td>Exec-managerial</td>\n      <td>Husband</td>\n      <td>White</td>\n      <td>Male</td>\n      <td>0</td>\n      <td>0</td>\n      <td>70</td>\n      <td>Greece</td>\n    </tr>\n    <tr>\n      <th>10247</th>\n      <td>37</td>\n      <td>Self-emp-not-inc</td>\n      <td>143774</td>\n      <td>Bachelors</td>\n      <td>13</td>\n      <td>Married-civ-spouse</td>\n      <td>Prof-specialty</td>\n      <td>Wife</td>\n      <td>White</td>\n      <td>Female</td>\n      <td>0</td>\n      <td>0</td>\n      <td>40</td>\n      <td>Germany</td>\n    </tr>\n    <tr>\n      <th>10248</th>\n      <td>50</td>\n      <td>Private</td>\n      <td>268913</td>\n      <td>Masters</td>\n      <td>14</td>\n      <td>Married-civ-spouse</td>\n      <td>Sales</td>\n      <td>Husband</td>\n      <td>White</td>\n      <td>Male</td>\n      <td>0</td>\n      <td>0</td>\n      <td>40</td>\n      <td>Iran</td>\n    </tr>\n  </tbody>\n</table>\n<p>10249 rows × 14 columns</p>\n</div>"
     },
     "execution_count": 32,
     "metadata": {},
     "output_type": "execute_result"
    }
   ],
   "source": [
    "X_new"
   ],
   "metadata": {
    "collapsed": false,
    "pycharm": {
     "name": "#%%\n"
    }
   }
  }
 ],
 "metadata": {
  "kernelspec": {
   "display_name": "Python 3",
   "language": "python",
   "name": "python3"
  },
  "language_info": {
   "codemirror_mode": {
    "name": "ipython",
    "version": 2
   },
   "file_extension": ".py",
   "mimetype": "text/x-python",
   "name": "python",
   "nbconvert_exporter": "python",
   "pygments_lexer": "ipython2",
   "version": "2.7.6"
  }
 },
 "nbformat": 4,
 "nbformat_minor": 0
}