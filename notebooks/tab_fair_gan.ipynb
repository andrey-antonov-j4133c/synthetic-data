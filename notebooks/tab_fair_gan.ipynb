{
 "cells": [
  {
   "cell_type": "code",
   "execution_count": 9,
   "metadata": {
    "collapsed": true
   },
   "outputs": [],
   "source": [
    "import pandas as pd\n",
    "from scripts.tab_fair_gan_wrapper import tab_fair_gan_no_fairness"
   ]
  },
  {
   "cell_type": "code",
   "execution_count": 10,
   "outputs": [
    {
     "data": {
      "text/plain": "   num_0      cat_1   num_2         cat_3  num_4               cat_5  \\\n0     25    Private  226802          11th      7       Never-married   \n1     38    Private   89814       HS-grad      9  Married-civ-spouse   \n2     28  Local-gov  336951    Assoc-acdm     12  Married-civ-spouse   \n3     44    Private  160323  Some-college     10  Married-civ-spouse   \n4     18          ?  103497  Some-college     10       Never-married   \n\n               cat_6      cat_7  cat_8   cat_9  num_10  num_11  num_12  \\\n0  Machine-op-inspct  Own-child  Black    Male       0       0      40   \n1    Farming-fishing    Husband  White    Male       0       0      50   \n2    Protective-serv    Husband  White    Male       0       0      40   \n3  Machine-op-inspct    Husband  Black    Male    7688       0      40   \n4                  ?  Own-child  White  Female       0       0      30   \n\n          cat_13  target  \n0  United-States   False  \n1  United-States   False  \n2  United-States    True  \n3  United-States    True  \n4  United-States   False  ",
      "text/html": "<div>\n<style scoped>\n    .dataframe tbody tr th:only-of-type {\n        vertical-align: middle;\n    }\n\n    .dataframe tbody tr th {\n        vertical-align: top;\n    }\n\n    .dataframe thead th {\n        text-align: right;\n    }\n</style>\n<table border=\"1\" class=\"dataframe\">\n  <thead>\n    <tr style=\"text-align: right;\">\n      <th></th>\n      <th>num_0</th>\n      <th>cat_1</th>\n      <th>num_2</th>\n      <th>cat_3</th>\n      <th>num_4</th>\n      <th>cat_5</th>\n      <th>cat_6</th>\n      <th>cat_7</th>\n      <th>cat_8</th>\n      <th>cat_9</th>\n      <th>num_10</th>\n      <th>num_11</th>\n      <th>num_12</th>\n      <th>cat_13</th>\n      <th>target</th>\n    </tr>\n  </thead>\n  <tbody>\n    <tr>\n      <th>0</th>\n      <td>25</td>\n      <td>Private</td>\n      <td>226802</td>\n      <td>11th</td>\n      <td>7</td>\n      <td>Never-married</td>\n      <td>Machine-op-inspct</td>\n      <td>Own-child</td>\n      <td>Black</td>\n      <td>Male</td>\n      <td>0</td>\n      <td>0</td>\n      <td>40</td>\n      <td>United-States</td>\n      <td>False</td>\n    </tr>\n    <tr>\n      <th>1</th>\n      <td>38</td>\n      <td>Private</td>\n      <td>89814</td>\n      <td>HS-grad</td>\n      <td>9</td>\n      <td>Married-civ-spouse</td>\n      <td>Farming-fishing</td>\n      <td>Husband</td>\n      <td>White</td>\n      <td>Male</td>\n      <td>0</td>\n      <td>0</td>\n      <td>50</td>\n      <td>United-States</td>\n      <td>False</td>\n    </tr>\n    <tr>\n      <th>2</th>\n      <td>28</td>\n      <td>Local-gov</td>\n      <td>336951</td>\n      <td>Assoc-acdm</td>\n      <td>12</td>\n      <td>Married-civ-spouse</td>\n      <td>Protective-serv</td>\n      <td>Husband</td>\n      <td>White</td>\n      <td>Male</td>\n      <td>0</td>\n      <td>0</td>\n      <td>40</td>\n      <td>United-States</td>\n      <td>True</td>\n    </tr>\n    <tr>\n      <th>3</th>\n      <td>44</td>\n      <td>Private</td>\n      <td>160323</td>\n      <td>Some-college</td>\n      <td>10</td>\n      <td>Married-civ-spouse</td>\n      <td>Machine-op-inspct</td>\n      <td>Husband</td>\n      <td>Black</td>\n      <td>Male</td>\n      <td>7688</td>\n      <td>0</td>\n      <td>40</td>\n      <td>United-States</td>\n      <td>True</td>\n    </tr>\n    <tr>\n      <th>4</th>\n      <td>18</td>\n      <td>?</td>\n      <td>103497</td>\n      <td>Some-college</td>\n      <td>10</td>\n      <td>Never-married</td>\n      <td>?</td>\n      <td>Own-child</td>\n      <td>White</td>\n      <td>Female</td>\n      <td>0</td>\n      <td>0</td>\n      <td>30</td>\n      <td>United-States</td>\n      <td>False</td>\n    </tr>\n  </tbody>\n</table>\n</div>"
     },
     "execution_count": 10,
     "metadata": {},
     "output_type": "execute_result"
    }
   ],
   "source": [
    "dataset_pth = f\"../data/adult/adult.gz\"\n",
    "\n",
    "data = pd.read_csv(dataset_pth)\n",
    "data.fillna(data.mean(), inplace=True)\n",
    "data.head()\n"
   ],
   "metadata": {
    "collapsed": false,
    "pycharm": {
     "name": "#%%\n"
    }
   }
  },
  {
   "cell_type": "code",
   "execution_count": 11,
   "outputs": [
    {
     "data": {
      "text/plain": "   num_0   num_2  num_4  num_10  num_11  num_12\n0     25  226802      7       0       0      40\n1     38   89814      9       0       0      50\n2     28  336951     12       0       0      40\n3     44  160323     10    7688       0      40\n4     18  103497     10       0       0      30",
      "text/html": "<div>\n<style scoped>\n    .dataframe tbody tr th:only-of-type {\n        vertical-align: middle;\n    }\n\n    .dataframe tbody tr th {\n        vertical-align: top;\n    }\n\n    .dataframe thead th {\n        text-align: right;\n    }\n</style>\n<table border=\"1\" class=\"dataframe\">\n  <thead>\n    <tr style=\"text-align: right;\">\n      <th></th>\n      <th>num_0</th>\n      <th>num_2</th>\n      <th>num_4</th>\n      <th>num_10</th>\n      <th>num_11</th>\n      <th>num_12</th>\n    </tr>\n  </thead>\n  <tbody>\n    <tr>\n      <th>0</th>\n      <td>25</td>\n      <td>226802</td>\n      <td>7</td>\n      <td>0</td>\n      <td>0</td>\n      <td>40</td>\n    </tr>\n    <tr>\n      <th>1</th>\n      <td>38</td>\n      <td>89814</td>\n      <td>9</td>\n      <td>0</td>\n      <td>0</td>\n      <td>50</td>\n    </tr>\n    <tr>\n      <th>2</th>\n      <td>28</td>\n      <td>336951</td>\n      <td>12</td>\n      <td>0</td>\n      <td>0</td>\n      <td>40</td>\n    </tr>\n    <tr>\n      <th>3</th>\n      <td>44</td>\n      <td>160323</td>\n      <td>10</td>\n      <td>7688</td>\n      <td>0</td>\n      <td>40</td>\n    </tr>\n    <tr>\n      <th>4</th>\n      <td>18</td>\n      <td>103497</td>\n      <td>10</td>\n      <td>0</td>\n      <td>0</td>\n      <td>30</td>\n    </tr>\n  </tbody>\n</table>\n</div>"
     },
     "execution_count": 11,
     "metadata": {},
     "output_type": "execute_result"
    }
   ],
   "source": [
    "x_cols = [col for col in data.columns if col.startswith(\"num\")]\n",
    "data = data[x_cols]\n",
    "data.head()"
   ],
   "metadata": {
    "collapsed": false,
    "pycharm": {
     "name": "#%%\n"
    }
   }
  },
  {
   "cell_type": "code",
   "execution_count": 12,
   "outputs": [
    {
     "name": "stdout",
     "output_type": "stream",
     "text": [
      "epoch 1\n",
      "training for accuracy\n",
      "epoch 2\n",
      "training for accuracy\n",
      "epoch 3\n",
      "training for accuracy\n",
      "epoch 4\n",
      "training for accuracy\n",
      "epoch 5\n",
      "training for accuracy\n",
      "epoch 6\n",
      "training for accuracy\n",
      "epoch 7\n",
      "training for accuracy\n",
      "epoch 8\n",
      "training for accuracy\n",
      "epoch 9\n",
      "training for accuracy\n",
      "epoch 10\n",
      "training for accuracy\n",
      "epoch 11\n",
      "training for accuracy\n",
      "epoch 12\n",
      "training for accuracy\n",
      "epoch 13\n",
      "training for accuracy\n",
      "epoch 14\n",
      "training for accuracy\n",
      "epoch 15\n",
      "training for accuracy\n",
      "epoch 16\n",
      "training for accuracy\n",
      "epoch 17\n",
      "training for accuracy\n",
      "epoch 18\n",
      "training for accuracy\n",
      "epoch 19\n",
      "training for accuracy\n",
      "epoch 20\n",
      "training for accuracy\n"
     ]
    },
    {
     "data": {
      "text/plain": "   num_0          num_2  num_4  num_10  num_11  num_12\n0   19.0  395214.875000   10.0     0.0     0.0    40.0\n1   20.0  163691.171875   10.0     0.0     0.0    50.0\n2   30.0  163556.171875   10.0     0.0     0.0    40.0\n3   17.0  195601.015625   10.0     0.0     0.0    40.0\n4   35.0  102917.992188    9.0     0.0     0.0    40.0",
      "text/html": "<div>\n<style scoped>\n    .dataframe tbody tr th:only-of-type {\n        vertical-align: middle;\n    }\n\n    .dataframe tbody tr th {\n        vertical-align: top;\n    }\n\n    .dataframe thead th {\n        text-align: right;\n    }\n</style>\n<table border=\"1\" class=\"dataframe\">\n  <thead>\n    <tr style=\"text-align: right;\">\n      <th></th>\n      <th>num_0</th>\n      <th>num_2</th>\n      <th>num_4</th>\n      <th>num_10</th>\n      <th>num_11</th>\n      <th>num_12</th>\n    </tr>\n  </thead>\n  <tbody>\n    <tr>\n      <th>0</th>\n      <td>19.0</td>\n      <td>395214.875000</td>\n      <td>10.0</td>\n      <td>0.0</td>\n      <td>0.0</td>\n      <td>40.0</td>\n    </tr>\n    <tr>\n      <th>1</th>\n      <td>20.0</td>\n      <td>163691.171875</td>\n      <td>10.0</td>\n      <td>0.0</td>\n      <td>0.0</td>\n      <td>50.0</td>\n    </tr>\n    <tr>\n      <th>2</th>\n      <td>30.0</td>\n      <td>163556.171875</td>\n      <td>10.0</td>\n      <td>0.0</td>\n      <td>0.0</td>\n      <td>40.0</td>\n    </tr>\n    <tr>\n      <th>3</th>\n      <td>17.0</td>\n      <td>195601.015625</td>\n      <td>10.0</td>\n      <td>0.0</td>\n      <td>0.0</td>\n      <td>40.0</td>\n    </tr>\n    <tr>\n      <th>4</th>\n      <td>35.0</td>\n      <td>102917.992188</td>\n      <td>9.0</td>\n      <td>0.0</td>\n      <td>0.0</td>\n      <td>40.0</td>\n    </tr>\n  </tbody>\n</table>\n</div>"
     },
     "execution_count": 12,
     "metadata": {},
     "output_type": "execute_result"
    }
   ],
   "source": [
    "result = tab_fair_gan_no_fairness(data)\n",
    "result.head()"
   ],
   "metadata": {
    "collapsed": false,
    "pycharm": {
     "name": "#%%\n"
    }
   }
  }
 ],
 "metadata": {
  "kernelspec": {
   "display_name": "Python 3",
   "language": "python",
   "name": "python3"
  },
  "language_info": {
   "codemirror_mode": {
    "name": "ipython",
    "version": 2
   },
   "file_extension": ".py",
   "mimetype": "text/x-python",
   "name": "python",
   "nbconvert_exporter": "python",
   "pygments_lexer": "ipython2",
   "version": "2.7.6"
  }
 },
 "nbformat": 4,
 "nbformat_minor": 0
}